{
  "cells": [
    {
      "cell_type": "markdown",
      "metadata": {
        "id": "view-in-github",
        "colab_type": "text"
      },
      "source": [
        "<a href=\"https://colab.research.google.com/github/dswendersonmelo/Data_Science/blob/main/An%C3%A1lise_dos_Dados_do_Airbnb_Lisboa.ipynb\" target=\"_parent\"><img src=\"https://colab.research.google.com/assets/colab-badge.svg\" alt=\"Open In Colab\"/></a>"
      ]
    },
    {
      "cell_type": "markdown",
      "metadata": {
        "id": "kLwb9-1vf2Sn"
      },
      "source": [
        "# Análise dos Dados do Airbnb - Lisboa\n",
        "\n",
        "Portugal é um intenso centro cultural e histórico, o primeiro lugar em que Oriente, Índias, Áfricas e Américas se encontraram. Até hoje, depois do período de colonização(hoje países independentes), mantêm estreitas ligações. E isso vimos mais recentemente no esforço de tornar à língua portuguesa nos países regida das mesmas regras[¹](https://www.dicio.com.br/acordo-ortografico-regras-exemplos-contexto/#:~:text=O%20Acordo%20foi%20assinado%20em,Timor%2DLeste%20tamb%C3%A9m%20o%20assinou.).\n",
        "\n",
        "Além disso, é um lugar querido para muitos brasileiros quando o assunto é turismo[²](https://viva-mundo.com/pt/noticia/post/conheca-os-principais-pontos-turisticos-de-lisboa-para-aproveitar-viagem#:~:text=O%20lugar%20queridinho,turismo%20pela%20cidade.), pois não necessita-se de visto[³](https://consuladoportugalsp.org.br/visitantes-brasileiros-em-portugal/) para realizar uma viajem, o que de certa forma agrega um baixo custo-benefício comparado a outros países.\n",
        "\n",
        "E o centro turístico lusitano é a região de Lisboa(a cidade e municípios do distrito) que tem uma participação em 1/3 do PIB nacional no setor de Turismo[⁴](https://www.lisboa.pt/fileadmin/atualidade/publicacoes_periodicas/economia/economia_lisboa_em_numeros_2020.pdf). O que denota a grande relevância para a economia.\n",
        "\n",
        "Com isso, é muito importante a necessidade de locais para os turistas ficarem(hóteis, pousadas, etc.). E é aí que entra o Airbnb, uma plataforma online de hospedagens para viajantes do mundo inteiro, que em 2019 atingiu o marco de 500 milhões de hóspedes[⁵](https://www.revistahoteis.com.br/airbnb-atinge-500-milhoes-de-hospedes/) sem ter um único hotel.\n",
        "\n",
        "E uma das iniciativas do Airbnb é disponilizar por meio do portal [Inside Airbnb](http://insideairbnb.com/get-the-data.html) dados do site para as principais cidades do mundo, assim, permitindo-nos desenvolver projetos e soluções de *Data Science*.\n",
        "\n",
        "<center><img alt=\"Analisando Airbnb\" width=\"50%\" src=\"https://freesider.com.br/wp-content/uploads/2017/01/Temple-Airbnb-Logo-7.png\"></center>\n",
        "\n",
        "\n",
        "**Neste notebook, iremos realizar uma análise explorátoria sobre a base de dados referente ao Distrito de Lisboa e ver quais *insights* podemos extrair.**\n"
      ]
    },
    {
      "cell_type": "markdown",
      "metadata": {
        "id": "0tSyWZ6bgIeV"
      },
      "source": [
        "## Obtenção dos Dados\n",
        "\n",
        "Todos os dados usados aqui foram obtidos a partir do site [Inside Airbnb](http://insideairbnb.com/get-the-data.html).\n",
        "\n",
        "Para esta análise exploratória inicial, será baixado apenas o seguinte arquivo:\n",
        "\n",
        "* `listings.csv` - *Summary information and metrics for listings in Lisbon (good for visualisations).*\n",
        "\n",
        "**IMPORTANTE:** O portal está em constante evolução, e em algum momento, pode ser que o [conjunto de dados](http://data.insideairbnb.com/portugal/lisbon/lisbon/2021-12-08/visualisations/listings.csv) exato utilizado nesse notebook não esteja mais disponível, o que quebraria o código.\n",
        "\n",
        "Por isso disponiblizo [aqui](https://github.com/dswendersonmelo/Data_Science/raw/main/listings.csv) o conjunto de dados usado para que você sempre possa utilizar esse material.\n",
        "\n",
        "Com isso em mente, vamos ao projeto.\n"
      ]
    },
    {
      "cell_type": "code",
      "execution_count": 2,
      "metadata": {
        "id": "M8iN-0BjgQf7"
      },
      "outputs": [],
      "source": [
        "#importar os pacotes necessários para a análise \n",
        "import pandas as pd\n",
        "import matplotlib.pyplot as plt\n",
        "import seaborn as sns\n",
        "\n",
        "%matplotlib inline\n",
        "\n",
        "# Importar o arquivo listings.csv para um DataFrame\n",
        "DF = pd.read_csv('https://github.com/dswendersonmelo/Data_Science/raw/main/listings.csv')\n"
      ]
    },
    {
      "cell_type": "markdown",
      "metadata": {
        "id": "9VgPtf32i6n4"
      },
      "source": [
        "## Análise dos Dados\n",
        "\n",
        "O objetivo desta etapa é criar uma consciência situacional inicial e permitir a compreesão de como os dados estão estruturados."
      ]
    },
    {
      "cell_type": "markdown",
      "metadata": {
        "id": "-YucvaUoljNc"
      },
      "source": [
        "**Dicionário de variáveis**\n",
        "\n",
        "\n",
        "\n",
        "*  `id` - É o identificador exclusivo do Airbnb para anúncio de cada imóvel\n",
        "*  `name` - Nome da propriedade\n",
        "*  `host_id` - Identificador exclusivo do Airbnb para o anfitrião/usuário\n",
        "*  `host_name` - Nome do anfitrião (geralmente apenas o primeiro nome)\n",
        "*  `neighbourhood_group` - O grupo de bairros (que é geocodificado usando a latitude e longitude em relação aos bairros, conforme definido por *shapefiles* digitais abertos ou públicos)*\n",
        "*  `neighbourhood` - Nome do bairro/freguesia\n",
        "*  `latitude` - Coordenada da latitude do imóvel\n",
        "*  `longitude` - Coordenada da longitude do imóvel\n",
        "*  `room_type` - Informa o tipo de quarto\n",
        "*  `price` - Preço para alugar o imóvel por noite em moeda local\n",
        "*  `minimum_nights` - Número mínimo de pernoites para reservar\n",
        "*  `number_of_reviews` - O número de avaliações que a propriedade possui\n",
        "*  `last_review` - A data da última/mais recente avaliação\n",
        "*  `reviews_per_month` - O número de avaliações que a propriedade tem por mês\n",
        "*  `calculated_host_listings_count` - Quantidade de imóveis do mesmo anfitrião\n",
        "*  `availability_365` - O número de dias de disponibilidade dentro de 365 dias(OBS: pode não estar disponível porque foi reservado por um hóspede ou bloqueado pelo anfitrião)\n",
        "*  `number_of_reviews_ltm` - O número de avaliações que a propriedade tem nos últimos 12 meses\n",
        "*  `license` - A licença, autorização ou número de registro\n",
        "\n",
        "NOTA : As informações referentes ao significado de cada variável pode ser acessada pelo [link](https://docs.google.com/spreadsheets/d/1iWCNJcSutYqpULSQHlNyGInUvHg2BoUGoNRIGa6Szc4/edit?usp=sharing) disponibilizado no portal *Inside Airbnb*.\n",
        "\n",
        "(*) Conquanto a variável chama-se `neighbourhood_group` em nosso DataFrame, encontrei apenas, no dicionário de dados do portal, uma chamada `neighbourhood_group_cleansed`. E pela proximidade do significado semântico, considerei que denotavam as mesmas informações.\n",
        "\n",
        "\n"
      ]
    },
    {
      "cell_type": "markdown",
      "metadata": {
        "id": "W4hRE7uM-Umc"
      },
      "source": [
        "Antes de iniciar qualquer análise, vamos ver a \"cara\" do nosso *dataset* a partir das 5 primeiras entradas e 5 últimas entradas."
      ]
    },
    {
      "cell_type": "code",
      "execution_count": 3,
      "metadata": {
        "colab": {
          "base_uri": "https://localhost:8080/",
          "height": 531
        },
        "id": "qRfNHeudledE",
        "outputId": "9418320f-f0b8-4207-add1-950d0e90bc4d"
      },
      "outputs": [
        {
          "output_type": "execute_result",
          "data": {
            "text/plain": [
              "      id                                              name  host_id  \\\n",
              "0   6499              Belém 1 Bedroom Historical Apartment    14455   \n",
              "1  25659  Heart of Alfama Lisbon Center - Cœur de l'Alfama   107347   \n",
              "2  29248          Apartamento Alfama com vista para o rio!   125768   \n",
              "3  29396                  Alfama Hill - Boutique apartment   126415   \n",
              "4  29720                       TheHOUSE - Your luxury home   128075   \n",
              "\n",
              "   host_name neighbourhood_group      neighbourhood  latitude  longitude  \\\n",
              "0      Bruno              Lisboa               Belm  38.69750   -9.19768   \n",
              "1      Ellie              Lisboa  Santa Maria Maior  38.71241   -9.12706   \n",
              "2    Bárbara              Lisboa  Santa Maria Maior  38.71082   -9.12719   \n",
              "3     Mónica              Lisboa  Santa Maria Maior  38.71156   -9.12987   \n",
              "4  Francisco              Lisboa            Estrela  38.71108   -9.15979   \n",
              "\n",
              "         room_type  price  minimum_nights  number_of_reviews last_review  \\\n",
              "0  Entire home/apt     40               3                 32  2021-11-01   \n",
              "1  Entire home/apt     50               2                127  2021-11-27   \n",
              "2  Entire home/apt     60               5                337  2021-12-03   \n",
              "3  Entire home/apt     60               2                299  2021-12-03   \n",
              "4  Entire home/apt    957               2                 64  2021-11-14   \n",
              "\n",
              "   reviews_per_month  calculated_host_listings_count  availability_365  \\\n",
              "0               0.36                               1               315   \n",
              "1               1.37                               1               325   \n",
              "2               2.53                               1               190   \n",
              "3               2.57                               1               302   \n",
              "4               0.48                               2               248   \n",
              "\n",
              "   number_of_reviews_ltm    license  \n",
              "0                      6        NaN  \n",
              "1                     14  56539/AL.  \n",
              "2                     13   23535/AL  \n",
              "3                     40   28737/AL  \n",
              "4                      9   55695/AL  "
            ],
            "text/html": [
              "\n",
              "  <div id=\"df-67184896-76a7-4fe6-aed5-526002622bae\">\n",
              "    <div class=\"colab-df-container\">\n",
              "      <div>\n",
              "<style scoped>\n",
              "    .dataframe tbody tr th:only-of-type {\n",
              "        vertical-align: middle;\n",
              "    }\n",
              "\n",
              "    .dataframe tbody tr th {\n",
              "        vertical-align: top;\n",
              "    }\n",
              "\n",
              "    .dataframe thead th {\n",
              "        text-align: right;\n",
              "    }\n",
              "</style>\n",
              "<table border=\"1\" class=\"dataframe\">\n",
              "  <thead>\n",
              "    <tr style=\"text-align: right;\">\n",
              "      <th></th>\n",
              "      <th>id</th>\n",
              "      <th>name</th>\n",
              "      <th>host_id</th>\n",
              "      <th>host_name</th>\n",
              "      <th>neighbourhood_group</th>\n",
              "      <th>neighbourhood</th>\n",
              "      <th>latitude</th>\n",
              "      <th>longitude</th>\n",
              "      <th>room_type</th>\n",
              "      <th>price</th>\n",
              "      <th>minimum_nights</th>\n",
              "      <th>number_of_reviews</th>\n",
              "      <th>last_review</th>\n",
              "      <th>reviews_per_month</th>\n",
              "      <th>calculated_host_listings_count</th>\n",
              "      <th>availability_365</th>\n",
              "      <th>number_of_reviews_ltm</th>\n",
              "      <th>license</th>\n",
              "    </tr>\n",
              "  </thead>\n",
              "  <tbody>\n",
              "    <tr>\n",
              "      <th>0</th>\n",
              "      <td>6499</td>\n",
              "      <td>Belém 1 Bedroom Historical Apartment</td>\n",
              "      <td>14455</td>\n",
              "      <td>Bruno</td>\n",
              "      <td>Lisboa</td>\n",
              "      <td>Belm</td>\n",
              "      <td>38.69750</td>\n",
              "      <td>-9.19768</td>\n",
              "      <td>Entire home/apt</td>\n",
              "      <td>40</td>\n",
              "      <td>3</td>\n",
              "      <td>32</td>\n",
              "      <td>2021-11-01</td>\n",
              "      <td>0.36</td>\n",
              "      <td>1</td>\n",
              "      <td>315</td>\n",
              "      <td>6</td>\n",
              "      <td>NaN</td>\n",
              "    </tr>\n",
              "    <tr>\n",
              "      <th>1</th>\n",
              "      <td>25659</td>\n",
              "      <td>Heart of Alfama Lisbon Center - Cœur de l'Alfama</td>\n",
              "      <td>107347</td>\n",
              "      <td>Ellie</td>\n",
              "      <td>Lisboa</td>\n",
              "      <td>Santa Maria Maior</td>\n",
              "      <td>38.71241</td>\n",
              "      <td>-9.12706</td>\n",
              "      <td>Entire home/apt</td>\n",
              "      <td>50</td>\n",
              "      <td>2</td>\n",
              "      <td>127</td>\n",
              "      <td>2021-11-27</td>\n",
              "      <td>1.37</td>\n",
              "      <td>1</td>\n",
              "      <td>325</td>\n",
              "      <td>14</td>\n",
              "      <td>56539/AL.</td>\n",
              "    </tr>\n",
              "    <tr>\n",
              "      <th>2</th>\n",
              "      <td>29248</td>\n",
              "      <td>Apartamento Alfama com vista para o rio!</td>\n",
              "      <td>125768</td>\n",
              "      <td>Bárbara</td>\n",
              "      <td>Lisboa</td>\n",
              "      <td>Santa Maria Maior</td>\n",
              "      <td>38.71082</td>\n",
              "      <td>-9.12719</td>\n",
              "      <td>Entire home/apt</td>\n",
              "      <td>60</td>\n",
              "      <td>5</td>\n",
              "      <td>337</td>\n",
              "      <td>2021-12-03</td>\n",
              "      <td>2.53</td>\n",
              "      <td>1</td>\n",
              "      <td>190</td>\n",
              "      <td>13</td>\n",
              "      <td>23535/AL</td>\n",
              "    </tr>\n",
              "    <tr>\n",
              "      <th>3</th>\n",
              "      <td>29396</td>\n",
              "      <td>Alfama Hill - Boutique apartment</td>\n",
              "      <td>126415</td>\n",
              "      <td>Mónica</td>\n",
              "      <td>Lisboa</td>\n",
              "      <td>Santa Maria Maior</td>\n",
              "      <td>38.71156</td>\n",
              "      <td>-9.12987</td>\n",
              "      <td>Entire home/apt</td>\n",
              "      <td>60</td>\n",
              "      <td>2</td>\n",
              "      <td>299</td>\n",
              "      <td>2021-12-03</td>\n",
              "      <td>2.57</td>\n",
              "      <td>1</td>\n",
              "      <td>302</td>\n",
              "      <td>40</td>\n",
              "      <td>28737/AL</td>\n",
              "    </tr>\n",
              "    <tr>\n",
              "      <th>4</th>\n",
              "      <td>29720</td>\n",
              "      <td>TheHOUSE - Your luxury home</td>\n",
              "      <td>128075</td>\n",
              "      <td>Francisco</td>\n",
              "      <td>Lisboa</td>\n",
              "      <td>Estrela</td>\n",
              "      <td>38.71108</td>\n",
              "      <td>-9.15979</td>\n",
              "      <td>Entire home/apt</td>\n",
              "      <td>957</td>\n",
              "      <td>2</td>\n",
              "      <td>64</td>\n",
              "      <td>2021-11-14</td>\n",
              "      <td>0.48</td>\n",
              "      <td>2</td>\n",
              "      <td>248</td>\n",
              "      <td>9</td>\n",
              "      <td>55695/AL</td>\n",
              "    </tr>\n",
              "  </tbody>\n",
              "</table>\n",
              "</div>\n",
              "      <button class=\"colab-df-convert\" onclick=\"convertToInteractive('df-67184896-76a7-4fe6-aed5-526002622bae')\"\n",
              "              title=\"Convert this dataframe to an interactive table.\"\n",
              "              style=\"display:none;\">\n",
              "        \n",
              "  <svg xmlns=\"http://www.w3.org/2000/svg\" height=\"24px\"viewBox=\"0 0 24 24\"\n",
              "       width=\"24px\">\n",
              "    <path d=\"M0 0h24v24H0V0z\" fill=\"none\"/>\n",
              "    <path d=\"M18.56 5.44l.94 2.06.94-2.06 2.06-.94-2.06-.94-.94-2.06-.94 2.06-2.06.94zm-11 1L8.5 8.5l.94-2.06 2.06-.94-2.06-.94L8.5 2.5l-.94 2.06-2.06.94zm10 10l.94 2.06.94-2.06 2.06-.94-2.06-.94-.94-2.06-.94 2.06-2.06.94z\"/><path d=\"M17.41 7.96l-1.37-1.37c-.4-.4-.92-.59-1.43-.59-.52 0-1.04.2-1.43.59L10.3 9.45l-7.72 7.72c-.78.78-.78 2.05 0 2.83L4 21.41c.39.39.9.59 1.41.59.51 0 1.02-.2 1.41-.59l7.78-7.78 2.81-2.81c.8-.78.8-2.07 0-2.86zM5.41 20L4 18.59l7.72-7.72 1.47 1.35L5.41 20z\"/>\n",
              "  </svg>\n",
              "      </button>\n",
              "      \n",
              "  <style>\n",
              "    .colab-df-container {\n",
              "      display:flex;\n",
              "      flex-wrap:wrap;\n",
              "      gap: 12px;\n",
              "    }\n",
              "\n",
              "    .colab-df-convert {\n",
              "      background-color: #E8F0FE;\n",
              "      border: none;\n",
              "      border-radius: 50%;\n",
              "      cursor: pointer;\n",
              "      display: none;\n",
              "      fill: #1967D2;\n",
              "      height: 32px;\n",
              "      padding: 0 0 0 0;\n",
              "      width: 32px;\n",
              "    }\n",
              "\n",
              "    .colab-df-convert:hover {\n",
              "      background-color: #E2EBFA;\n",
              "      box-shadow: 0px 1px 2px rgba(60, 64, 67, 0.3), 0px 1px 3px 1px rgba(60, 64, 67, 0.15);\n",
              "      fill: #174EA6;\n",
              "    }\n",
              "\n",
              "    [theme=dark] .colab-df-convert {\n",
              "      background-color: #3B4455;\n",
              "      fill: #D2E3FC;\n",
              "    }\n",
              "\n",
              "    [theme=dark] .colab-df-convert:hover {\n",
              "      background-color: #434B5C;\n",
              "      box-shadow: 0px 1px 3px 1px rgba(0, 0, 0, 0.15);\n",
              "      filter: drop-shadow(0px 1px 2px rgba(0, 0, 0, 0.3));\n",
              "      fill: #FFFFFF;\n",
              "    }\n",
              "  </style>\n",
              "\n",
              "      <script>\n",
              "        const buttonEl =\n",
              "          document.querySelector('#df-67184896-76a7-4fe6-aed5-526002622bae button.colab-df-convert');\n",
              "        buttonEl.style.display =\n",
              "          google.colab.kernel.accessAllowed ? 'block' : 'none';\n",
              "\n",
              "        async function convertToInteractive(key) {\n",
              "          const element = document.querySelector('#df-67184896-76a7-4fe6-aed5-526002622bae');\n",
              "          const dataTable =\n",
              "            await google.colab.kernel.invokeFunction('convertToInteractive',\n",
              "                                                     [key], {});\n",
              "          if (!dataTable) return;\n",
              "\n",
              "          const docLinkHtml = 'Like what you see? Visit the ' +\n",
              "            '<a target=\"_blank\" href=https://colab.research.google.com/notebooks/data_table.ipynb>data table notebook</a>'\n",
              "            + ' to learn more about interactive tables.';\n",
              "          element.innerHTML = '';\n",
              "          dataTable['output_type'] = 'display_data';\n",
              "          await google.colab.output.renderOutput(dataTable, element);\n",
              "          const docLink = document.createElement('div');\n",
              "          docLink.innerHTML = docLinkHtml;\n",
              "          element.appendChild(docLink);\n",
              "        }\n",
              "      </script>\n",
              "    </div>\n",
              "  </div>\n",
              "  "
            ]
          },
          "metadata": {},
          "execution_count": 3
        }
      ],
      "source": [
        "DF.head()"
      ]
    },
    {
      "cell_type": "code",
      "execution_count": 4,
      "metadata": {
        "colab": {
          "base_uri": "https://localhost:8080/",
          "height": 565
        },
        "id": "M6daSjjDEmMk",
        "outputId": "ca54d314-3eac-460c-971b-d7bb2cb968e4"
      },
      "outputs": [
        {
          "output_type": "execute_result",
          "data": {
            "text/plain": [
              "             id                                               name    host_id  \\\n",
              "18522  53715760                    Zen Nest in the heart of Lisbon  236728213   \n",
              "18523  53717168  NEW! Charming 2 bed w/patio in historical Mour...  186259819   \n",
              "18524  53718454                            New Avenues Dreamy Home  435069218   \n",
              "18525  53723356                              Alfama Top Location 2    6604033   \n",
              "18526  53731212  Stunning Apartment in Heart of Lisbon by Lovel...  435177300   \n",
              "\n",
              "       host_name neighbourhood_group      neighbourhood   latitude  longitude  \\\n",
              "18522   Carolina              Lisboa       Santo Antnio  38.721587  -9.143302   \n",
              "18523   Isabelle              Lisboa  Santa Maria Maior  38.716469  -9.132524   \n",
              "18524  Alexandra              Lisboa     Avenidas Novas  38.740442  -9.149162   \n",
              "18525       Joao              Lisboa  Santa Maria Maior  38.715410  -9.132390   \n",
              "18526    William              Lisboa  Santa Maria Maior  38.709519  -9.136877   \n",
              "\n",
              "             room_type  price  minimum_nights  number_of_reviews last_review  \\\n",
              "18522  Entire home/apt     40               5                  0         NaN   \n",
              "18523  Entire home/apt     75               5                  0         NaN   \n",
              "18524  Entire home/apt    150               1                  0         NaN   \n",
              "18525  Entire home/apt     55               1                  0         NaN   \n",
              "18526  Entire home/apt    114               2                  0         NaN   \n",
              "\n",
              "       reviews_per_month  calculated_host_listings_count  availability_365  \\\n",
              "18522                NaN                               1                95   \n",
              "18523                NaN                               8               258   \n",
              "18524                NaN                               1                 0   \n",
              "18525                NaN                               4               246   \n",
              "18526                NaN                               1               256   \n",
              "\n",
              "       number_of_reviews_ltm    license  \n",
              "18522                      0     Exempt  \n",
              "18523                      0   68987/AL  \n",
              "18524                      0  121427/AL  \n",
              "18525                      0   29524/AL  \n",
              "18526                      0  104887/AL  "
            ],
            "text/html": [
              "\n",
              "  <div id=\"df-8fbf05bf-f34e-4361-8cc3-edb9591a2733\">\n",
              "    <div class=\"colab-df-container\">\n",
              "      <div>\n",
              "<style scoped>\n",
              "    .dataframe tbody tr th:only-of-type {\n",
              "        vertical-align: middle;\n",
              "    }\n",
              "\n",
              "    .dataframe tbody tr th {\n",
              "        vertical-align: top;\n",
              "    }\n",
              "\n",
              "    .dataframe thead th {\n",
              "        text-align: right;\n",
              "    }\n",
              "</style>\n",
              "<table border=\"1\" class=\"dataframe\">\n",
              "  <thead>\n",
              "    <tr style=\"text-align: right;\">\n",
              "      <th></th>\n",
              "      <th>id</th>\n",
              "      <th>name</th>\n",
              "      <th>host_id</th>\n",
              "      <th>host_name</th>\n",
              "      <th>neighbourhood_group</th>\n",
              "      <th>neighbourhood</th>\n",
              "      <th>latitude</th>\n",
              "      <th>longitude</th>\n",
              "      <th>room_type</th>\n",
              "      <th>price</th>\n",
              "      <th>minimum_nights</th>\n",
              "      <th>number_of_reviews</th>\n",
              "      <th>last_review</th>\n",
              "      <th>reviews_per_month</th>\n",
              "      <th>calculated_host_listings_count</th>\n",
              "      <th>availability_365</th>\n",
              "      <th>number_of_reviews_ltm</th>\n",
              "      <th>license</th>\n",
              "    </tr>\n",
              "  </thead>\n",
              "  <tbody>\n",
              "    <tr>\n",
              "      <th>18522</th>\n",
              "      <td>53715760</td>\n",
              "      <td>Zen Nest in the heart of Lisbon</td>\n",
              "      <td>236728213</td>\n",
              "      <td>Carolina</td>\n",
              "      <td>Lisboa</td>\n",
              "      <td>Santo Antnio</td>\n",
              "      <td>38.721587</td>\n",
              "      <td>-9.143302</td>\n",
              "      <td>Entire home/apt</td>\n",
              "      <td>40</td>\n",
              "      <td>5</td>\n",
              "      <td>0</td>\n",
              "      <td>NaN</td>\n",
              "      <td>NaN</td>\n",
              "      <td>1</td>\n",
              "      <td>95</td>\n",
              "      <td>0</td>\n",
              "      <td>Exempt</td>\n",
              "    </tr>\n",
              "    <tr>\n",
              "      <th>18523</th>\n",
              "      <td>53717168</td>\n",
              "      <td>NEW! Charming 2 bed w/patio in historical Mour...</td>\n",
              "      <td>186259819</td>\n",
              "      <td>Isabelle</td>\n",
              "      <td>Lisboa</td>\n",
              "      <td>Santa Maria Maior</td>\n",
              "      <td>38.716469</td>\n",
              "      <td>-9.132524</td>\n",
              "      <td>Entire home/apt</td>\n",
              "      <td>75</td>\n",
              "      <td>5</td>\n",
              "      <td>0</td>\n",
              "      <td>NaN</td>\n",
              "      <td>NaN</td>\n",
              "      <td>8</td>\n",
              "      <td>258</td>\n",
              "      <td>0</td>\n",
              "      <td>68987/AL</td>\n",
              "    </tr>\n",
              "    <tr>\n",
              "      <th>18524</th>\n",
              "      <td>53718454</td>\n",
              "      <td>New Avenues Dreamy Home</td>\n",
              "      <td>435069218</td>\n",
              "      <td>Alexandra</td>\n",
              "      <td>Lisboa</td>\n",
              "      <td>Avenidas Novas</td>\n",
              "      <td>38.740442</td>\n",
              "      <td>-9.149162</td>\n",
              "      <td>Entire home/apt</td>\n",
              "      <td>150</td>\n",
              "      <td>1</td>\n",
              "      <td>0</td>\n",
              "      <td>NaN</td>\n",
              "      <td>NaN</td>\n",
              "      <td>1</td>\n",
              "      <td>0</td>\n",
              "      <td>0</td>\n",
              "      <td>121427/AL</td>\n",
              "    </tr>\n",
              "    <tr>\n",
              "      <th>18525</th>\n",
              "      <td>53723356</td>\n",
              "      <td>Alfama Top Location 2</td>\n",
              "      <td>6604033</td>\n",
              "      <td>Joao</td>\n",
              "      <td>Lisboa</td>\n",
              "      <td>Santa Maria Maior</td>\n",
              "      <td>38.715410</td>\n",
              "      <td>-9.132390</td>\n",
              "      <td>Entire home/apt</td>\n",
              "      <td>55</td>\n",
              "      <td>1</td>\n",
              "      <td>0</td>\n",
              "      <td>NaN</td>\n",
              "      <td>NaN</td>\n",
              "      <td>4</td>\n",
              "      <td>246</td>\n",
              "      <td>0</td>\n",
              "      <td>29524/AL</td>\n",
              "    </tr>\n",
              "    <tr>\n",
              "      <th>18526</th>\n",
              "      <td>53731212</td>\n",
              "      <td>Stunning Apartment in Heart of Lisbon by Lovel...</td>\n",
              "      <td>435177300</td>\n",
              "      <td>William</td>\n",
              "      <td>Lisboa</td>\n",
              "      <td>Santa Maria Maior</td>\n",
              "      <td>38.709519</td>\n",
              "      <td>-9.136877</td>\n",
              "      <td>Entire home/apt</td>\n",
              "      <td>114</td>\n",
              "      <td>2</td>\n",
              "      <td>0</td>\n",
              "      <td>NaN</td>\n",
              "      <td>NaN</td>\n",
              "      <td>1</td>\n",
              "      <td>256</td>\n",
              "      <td>0</td>\n",
              "      <td>104887/AL</td>\n",
              "    </tr>\n",
              "  </tbody>\n",
              "</table>\n",
              "</div>\n",
              "      <button class=\"colab-df-convert\" onclick=\"convertToInteractive('df-8fbf05bf-f34e-4361-8cc3-edb9591a2733')\"\n",
              "              title=\"Convert this dataframe to an interactive table.\"\n",
              "              style=\"display:none;\">\n",
              "        \n",
              "  <svg xmlns=\"http://www.w3.org/2000/svg\" height=\"24px\"viewBox=\"0 0 24 24\"\n",
              "       width=\"24px\">\n",
              "    <path d=\"M0 0h24v24H0V0z\" fill=\"none\"/>\n",
              "    <path d=\"M18.56 5.44l.94 2.06.94-2.06 2.06-.94-2.06-.94-.94-2.06-.94 2.06-2.06.94zm-11 1L8.5 8.5l.94-2.06 2.06-.94-2.06-.94L8.5 2.5l-.94 2.06-2.06.94zm10 10l.94 2.06.94-2.06 2.06-.94-2.06-.94-.94-2.06-.94 2.06-2.06.94z\"/><path d=\"M17.41 7.96l-1.37-1.37c-.4-.4-.92-.59-1.43-.59-.52 0-1.04.2-1.43.59L10.3 9.45l-7.72 7.72c-.78.78-.78 2.05 0 2.83L4 21.41c.39.39.9.59 1.41.59.51 0 1.02-.2 1.41-.59l7.78-7.78 2.81-2.81c.8-.78.8-2.07 0-2.86zM5.41 20L4 18.59l7.72-7.72 1.47 1.35L5.41 20z\"/>\n",
              "  </svg>\n",
              "      </button>\n",
              "      \n",
              "  <style>\n",
              "    .colab-df-container {\n",
              "      display:flex;\n",
              "      flex-wrap:wrap;\n",
              "      gap: 12px;\n",
              "    }\n",
              "\n",
              "    .colab-df-convert {\n",
              "      background-color: #E8F0FE;\n",
              "      border: none;\n",
              "      border-radius: 50%;\n",
              "      cursor: pointer;\n",
              "      display: none;\n",
              "      fill: #1967D2;\n",
              "      height: 32px;\n",
              "      padding: 0 0 0 0;\n",
              "      width: 32px;\n",
              "    }\n",
              "\n",
              "    .colab-df-convert:hover {\n",
              "      background-color: #E2EBFA;\n",
              "      box-shadow: 0px 1px 2px rgba(60, 64, 67, 0.3), 0px 1px 3px 1px rgba(60, 64, 67, 0.15);\n",
              "      fill: #174EA6;\n",
              "    }\n",
              "\n",
              "    [theme=dark] .colab-df-convert {\n",
              "      background-color: #3B4455;\n",
              "      fill: #D2E3FC;\n",
              "    }\n",
              "\n",
              "    [theme=dark] .colab-df-convert:hover {\n",
              "      background-color: #434B5C;\n",
              "      box-shadow: 0px 1px 3px 1px rgba(0, 0, 0, 0.15);\n",
              "      filter: drop-shadow(0px 1px 2px rgba(0, 0, 0, 0.3));\n",
              "      fill: #FFFFFF;\n",
              "    }\n",
              "  </style>\n",
              "\n",
              "      <script>\n",
              "        const buttonEl =\n",
              "          document.querySelector('#df-8fbf05bf-f34e-4361-8cc3-edb9591a2733 button.colab-df-convert');\n",
              "        buttonEl.style.display =\n",
              "          google.colab.kernel.accessAllowed ? 'block' : 'none';\n",
              "\n",
              "        async function convertToInteractive(key) {\n",
              "          const element = document.querySelector('#df-8fbf05bf-f34e-4361-8cc3-edb9591a2733');\n",
              "          const dataTable =\n",
              "            await google.colab.kernel.invokeFunction('convertToInteractive',\n",
              "                                                     [key], {});\n",
              "          if (!dataTable) return;\n",
              "\n",
              "          const docLinkHtml = 'Like what you see? Visit the ' +\n",
              "            '<a target=\"_blank\" href=https://colab.research.google.com/notebooks/data_table.ipynb>data table notebook</a>'\n",
              "            + ' to learn more about interactive tables.';\n",
              "          element.innerHTML = '';\n",
              "          dataTable['output_type'] = 'display_data';\n",
              "          await google.colab.output.renderOutput(dataTable, element);\n",
              "          const docLink = document.createElement('div');\n",
              "          docLink.innerHTML = docLinkHtml;\n",
              "          element.appendChild(docLink);\n",
              "        }\n",
              "      </script>\n",
              "    </div>\n",
              "  </div>\n",
              "  "
            ]
          },
          "metadata": {},
          "execution_count": 4
        }
      ],
      "source": [
        "DF.tail()"
      ]
    },
    {
      "cell_type": "markdown",
      "metadata": {
        "id": "OfTPzjazZh0X"
      },
      "source": [
        "### **Q1. Quantos atributos (variáveis) e quantas entradas o nosso conjunto de dados possui? Quais os tipos das variáveis?**"
      ]
    },
    {
      "cell_type": "markdown",
      "metadata": {
        "id": "s8P_sjcxlgk-"
      },
      "source": [
        "Vamos verificar os tipos das variáveis e a dimensionalidade de nosso DataFrame. \n",
        "\n",
        "Vale lembrar que este *dataset* é uma versão \"resumida\" do Airbnb. Na mesma página que baixamos o arquivo `listings.csv`. Há uma versão mais completa com 18.526 entradas e 74 variáveis (`listings.csv.gz`)."
      ]
    },
    {
      "cell_type": "code",
      "execution_count": 5,
      "metadata": {
        "colab": {
          "base_uri": "https://localhost:8080/"
        },
        "id": "yEn5O0fCvOkK",
        "outputId": "dfe68283-cc0b-418f-bb7d-7c38215274f0"
      },
      "outputs": [
        {
          "output_type": "stream",
          "name": "stdout",
          "text": [
            "Quantidade de entradas: 18527\n",
            "Quantidade de variáveis: 18 \n",
            "\n",
            "id                                  int64\n",
            "name                               object\n",
            "host_id                             int64\n",
            "host_name                          object\n",
            "neighbourhood_group                object\n",
            "neighbourhood                      object\n",
            "latitude                          float64\n",
            "longitude                         float64\n",
            "room_type                          object\n",
            "price                               int64\n",
            "minimum_nights                      int64\n",
            "number_of_reviews                   int64\n",
            "last_review                        object\n",
            "reviews_per_month                 float64\n",
            "calculated_host_listings_count      int64\n",
            "availability_365                    int64\n",
            "number_of_reviews_ltm               int64\n",
            "license                            object\n",
            "dtype: object\n"
          ]
        }
      ],
      "source": [
        "#identificar o volume \n",
        "print(\"Quantidade de entradas:\", DF.shape[0])\n",
        "print(\"Quantidade de variáveis:\", DF.shape[1], '\\n')\n",
        "\n",
        "#identificar os tipos\n",
        "print(DF.dtypes)\n"
      ]
    },
    {
      "cell_type": "markdown",
      "metadata": {
        "id": "CS6N3a9BeRvn"
      },
      "source": [
        "### **Q2. Qual a porcentagem de valores ausentes no *dataset*?**"
      ]
    },
    {
      "cell_type": "markdown",
      "metadata": {
        "id": "u-8W6AbZi51n"
      },
      "source": [
        "É importante logo no ínicio verificar a presença de valores ausentes nas linhas e com isso entender se são significativos em relação ao total de entradas. Visto que a presença das mesmas pode influir consideravelmente na análise que se quer fazer. \n",
        "\n",
        "Verifica-se:  \n",
        "* Nas variáveis `reviews_per_month` e `last_review`  cerca de 13% de valores ausentes;\n",
        "* Na variável `license` cerca de 9,7% de valores ausentes;\n",
        "* E nas variáveis `host_name` e `name` cerca de 0,12% e 0,04%, respectivamente, de valores ausentes.\n",
        "\n",
        "Pode-se fazer algumas perguntas para melhor compreender estes *missing datas*, que ficariam para uma análise posterior mais aprofundada, como por exemplo:\n",
        "\n",
        "* As variáveis `reviews_per_month` e `last_review` possuem a mesma porcentagem, isso quer dizer que estão relacionadas? Se sim, em que sentido estão relacionadas?\n",
        "* Será que ainda estão vazias porque ainda não completaram um mês ou mesmo eram anúncios recentes ou que não tinham avaliações no momento da coleta destes dados?\n",
        "\n",
        "* etc."
      ]
    },
    {
      "cell_type": "code",
      "execution_count": 6,
      "metadata": {
        "colab": {
          "base_uri": "https://localhost:8080/"
        },
        "id": "Jb1I20_kht5_",
        "outputId": "a5be2d10-0327-4b27-a349-eef2e1c528df"
      },
      "outputs": [
        {
          "output_type": "execute_result",
          "data": {
            "text/plain": [
              "reviews_per_month                 13.526205\n",
              "last_review                       13.526205\n",
              "license                            9.710153\n",
              "host_name                          0.124143\n",
              "name                               0.043180\n",
              "minimum_nights                     0.000000\n",
              "number_of_reviews_ltm              0.000000\n",
              "availability_365                   0.000000\n",
              "calculated_host_listings_count     0.000000\n",
              "number_of_reviews                  0.000000\n",
              "id                                 0.000000\n",
              "room_type                          0.000000\n",
              "longitude                          0.000000\n",
              "latitude                           0.000000\n",
              "neighbourhood                      0.000000\n",
              "neighbourhood_group                0.000000\n",
              "host_id                            0.000000\n",
              "price                              0.000000\n",
              "dtype: float64"
            ]
          },
          "metadata": {},
          "execution_count": 6
        }
      ],
      "source": [
        "# Identificar e ordenar em ordem decrescente os valores ausentes\n",
        "((DF.isnull().sum() / DF.shape[0]) * 100).sort_values(ascending = False)"
      ]
    },
    {
      "cell_type": "markdown",
      "metadata": {
        "id": "2quEUMDKJNQj"
      },
      "source": [
        "#### Limpeza dos Dados Ausentes\n",
        "\n",
        "Para essa análise exploratória irei remover as colunas, `reviews_per_month` e `last_reviem` por possuirem valores ausentes e também porque não nos serviremos dela daqui em diante.\n",
        "\n",
        "Também irei remover as entradas ausentes de `host_name` e `name` que representam um percentual muito pequeno e oferecem pouquissímos riscos na extração das informações dos dados.\n",
        "\n",
        "E quanto a coluna `license`, irei remover tanto pelo motivo de que não a utilizaremos e porque apresentam outros problemas[⁵](https://eco.sapo.pt/2020/12/14/quase-metade-dos-al-no-airbnb-em-lisboa-nao-tem-licenca-valida/) que fogem ao escopo desta análise, tais são: múltiplos imóveis com a mesma licença, licença inválida etc.. Vejamos abaixo o uso de múltiplas licenças:"
      ]
    },
    {
      "cell_type": "code",
      "execution_count": 7,
      "metadata": {
        "colab": {
          "base_uri": "https://localhost:8080/"
        },
        "id": "Kle7d-JFLRjd",
        "outputId": "b3dfad98-5cba-4565-9e98-acc576baf709"
      },
      "outputs": [
        {
          "output_type": "execute_result",
          "data": {
            "text/plain": [
              "Exempt       1295\n",
              "510363768      29\n",
              "100844/AL      28\n",
              "55201/AL       19\n",
              "0/AL           19\n",
              "             ... \n",
              "59255/AL        1\n",
              "50050/AL        1\n",
              "49633/AL        1\n",
              "47967/AL        1\n",
              "104887/AL       1\n",
              "Name: license, Length: 11821, dtype: int64"
            ]
          },
          "metadata": {},
          "execution_count": 7
        }
      ],
      "source": [
        "DF.license.value_counts()"
      ]
    },
    {
      "cell_type": "markdown",
      "metadata": {
        "id": "624rA1AxMSfa"
      },
      "source": [
        "Somente a licença de número 510363768 possui 29 imóveis registrados no site enquanto deveria ter somente um. Claro que aqui cabe alguns questionamentos, mas como disse não iremos abordar isto.\n",
        "\n",
        "Prossigamos com a limpeza e para isso utilizarei dois métodos:\n",
        "\n",
        "*  `.drop()`\n",
        "*  `.dropna()`"
      ]
    },
    {
      "cell_type": "code",
      "execution_count": 8,
      "metadata": {
        "id": "WQJtdYH5OO0_"
      },
      "outputs": [],
      "source": [
        "# Remover colunas reviews_per_month, last_review e license\n",
        "DF = DF.drop(columns = ['reviews_per_month', 'last_review', 'license'])\n",
        "\n",
        "# Remover as entradas ausentes de host_name e name\n",
        "DF = DF.dropna(subset = ['host_name', 'name'], axis = 0)"
      ]
    },
    {
      "cell_type": "code",
      "execution_count": 9,
      "metadata": {
        "colab": {
          "base_uri": "https://localhost:8080/"
        },
        "id": "ByH_YGfcPbBk",
        "outputId": "d3dd1583-2122-422b-ddf2-4a6635bf2358"
      },
      "outputs": [
        {
          "output_type": "stream",
          "name": "stdout",
          "text": [
            "Quantidade de entradas: 18496\n",
            "Quantidade de variáveis: 15 \n",
            "\n"
          ]
        },
        {
          "output_type": "execute_result",
          "data": {
            "text/plain": [
              "id                                0\n",
              "name                              0\n",
              "host_id                           0\n",
              "host_name                         0\n",
              "neighbourhood_group               0\n",
              "neighbourhood                     0\n",
              "latitude                          0\n",
              "longitude                         0\n",
              "room_type                         0\n",
              "price                             0\n",
              "minimum_nights                    0\n",
              "number_of_reviews                 0\n",
              "calculated_host_listings_count    0\n",
              "availability_365                  0\n",
              "number_of_reviews_ltm             0\n",
              "dtype: int64"
            ]
          },
          "metadata": {},
          "execution_count": 9
        }
      ],
      "source": [
        "#Vê nova dimensão do Dataframe\n",
        "print(\"Quantidade de entradas:\", DF.shape[0])\n",
        "print(\"Quantidade de variáveis:\", DF.shape[1], '\\n')\n",
        "\n",
        "# Vericar a quantidade de entradas ausentes\n",
        "DF.isnull().sum()"
      ]
    },
    {
      "cell_type": "markdown",
      "metadata": {
        "id": "u3yWrGWQpSh1"
      },
      "source": [
        "### **Q3. Qual o tipo de distribuição das variáveis?** "
      ]
    },
    {
      "cell_type": "markdown",
      "metadata": {
        "id": "eIcnLuRsgyaN"
      },
      "source": [
        "Para que tenhamos uma boa visualização da distribuição das variáveis irei plotar o histograma."
      ]
    },
    {
      "cell_type": "code",
      "execution_count": 10,
      "metadata": {
        "colab": {
          "base_uri": "https://localhost:8080/",
          "height": 607
        },
        "id": "TDVsI0tmhDwp",
        "outputId": "b36fce70-3e25-4396-cf04-4578b74e3b64"
      },
      "outputs": [
        {
          "output_type": "display_data",
          "data": {
            "text/plain": [
              "<Figure size 1440x720 with 12 Axes>"
            ],
            "image/png": "[encoded data removed]"
          },
          "metadata": {
            "needs_background": "light"
          }
        }
      ],
      "source": [
        "DF.hist(figsize = (20, 10), bins = 15);"
      ]
    },
    {
      "cell_type": "markdown",
      "metadata": {
        "id": "t5tl0PBEk8FW"
      },
      "source": [
        "### **Q4. Há *outliers* presentes?**"
      ]
    },
    {
      "cell_type": "markdown",
      "metadata": {
        "id": "Ka4caH09k9RO"
      },
      "source": [
        "É possível verificar indícios da presença de *outliers* observando as distribuições dos histogramas acima. Atente-se as variáveis `price`, `minimum_nights` e `calculated_host_listings_count`. \n",
        "\n",
        "Os *outliers* não seguem uma distribuição e eles se não tratados fazem com que ocorram distorções nas informações e nos gráficos. Para confirmar essa hipótese utilizaremos dois métodos rápidos para a detecção deles: \n",
        "*  Resumo estatístico com o método `.describe()`\n",
        "*  Plotar `boxplots` para a variável"
      ]
    },
    {
      "cell_type": "markdown",
      "metadata": {
        "id": "waqYiduJXKYc"
      },
      "source": [
        "#### Resumo estatístico"
      ]
    },
    {
      "cell_type": "code",
      "execution_count": 11,
      "metadata": {
        "colab": {
          "base_uri": "https://localhost:8080/",
          "height": 300
        },
        "id": "Ua_tOeSxq9EU",
        "outputId": "4ed0ab4a-71f1-4765-cbf2-79780e792e3f"
      },
      "outputs": [
        {
          "output_type": "execute_result",
          "data": {
            "text/plain": [
              "              price  minimum_nights  number_of_reviews  \\\n",
              "count  18496.000000    18496.000000       18496.000000   \n",
              "mean      98.319853        4.161711          48.029304   \n",
              "std      199.973867       18.372663          74.467749   \n",
              "min        0.000000        1.000000           0.000000   \n",
              "25%       49.000000        2.000000           3.000000   \n",
              "50%       69.000000        2.000000          16.000000   \n",
              "75%      100.000000        3.000000          62.000000   \n",
              "max    11499.000000     1000.000000        1550.000000   \n",
              "\n",
              "       calculated_host_listings_count  availability_365  number_of_reviews_ltm  \n",
              "count                    18496.000000      18496.000000           18496.000000  \n",
              "mean                        14.926362        220.504974               6.554823  \n",
              "std                         38.849737        130.566542              12.603639  \n",
              "min                          1.000000          0.000000               0.000000  \n",
              "25%                          1.000000        105.750000               0.000000  \n",
              "50%                          4.000000        262.000000               2.000000  \n",
              "75%                         11.000000        341.000000               9.000000  \n",
              "max                        281.000000        365.000000             821.000000  "
            ],
            "text/html": [
              "\n",
              "  <div id=\"df-a670a2f0-78c3-4f1e-85c8-1775a83bd6a8\">\n",
              "    <div class=\"colab-df-container\">\n",
              "      <div>\n",
              "<style scoped>\n",
              "    .dataframe tbody tr th:only-of-type {\n",
              "        vertical-align: middle;\n",
              "    }\n",
              "\n",
              "    .dataframe tbody tr th {\n",
              "        vertical-align: top;\n",
              "    }\n",
              "\n",
              "    .dataframe thead th {\n",
              "        text-align: right;\n",
              "    }\n",
              "</style>\n",
              "<table border=\"1\" class=\"dataframe\">\n",
              "  <thead>\n",
              "    <tr style=\"text-align: right;\">\n",
              "      <th></th>\n",
              "      <th>price</th>\n",
              "      <th>minimum_nights</th>\n",
              "      <th>number_of_reviews</th>\n",
              "      <th>calculated_host_listings_count</th>\n",
              "      <th>availability_365</th>\n",
              "      <th>number_of_reviews_ltm</th>\n",
              "    </tr>\n",
              "  </thead>\n",
              "  <tbody>\n",
              "    <tr>\n",
              "      <th>count</th>\n",
              "      <td>18496.000000</td>\n",
              "      <td>18496.000000</td>\n",
              "      <td>18496.000000</td>\n",
              "      <td>18496.000000</td>\n",
              "      <td>18496.000000</td>\n",
              "      <td>18496.000000</td>\n",
              "    </tr>\n",
              "    <tr>\n",
              "      <th>mean</th>\n",
              "      <td>98.319853</td>\n",
              "      <td>4.161711</td>\n",
              "      <td>48.029304</td>\n",
              "      <td>14.926362</td>\n",
              "      <td>220.504974</td>\n",
              "      <td>6.554823</td>\n",
              "    </tr>\n",
              "    <tr>\n",
              "      <th>std</th>\n",
              "      <td>199.973867</td>\n",
              "      <td>18.372663</td>\n",
              "      <td>74.467749</td>\n",
              "      <td>38.849737</td>\n",
              "      <td>130.566542</td>\n",
              "      <td>12.603639</td>\n",
              "    </tr>\n",
              "    <tr>\n",
              "      <th>min</th>\n",
              "      <td>0.000000</td>\n",
              "      <td>1.000000</td>\n",
              "      <td>0.000000</td>\n",
              "      <td>1.000000</td>\n",
              "      <td>0.000000</td>\n",
              "      <td>0.000000</td>\n",
              "    </tr>\n",
              "    <tr>\n",
              "      <th>25%</th>\n",
              "      <td>49.000000</td>\n",
              "      <td>2.000000</td>\n",
              "      <td>3.000000</td>\n",
              "      <td>1.000000</td>\n",
              "      <td>105.750000</td>\n",
              "      <td>0.000000</td>\n",
              "    </tr>\n",
              "    <tr>\n",
              "      <th>50%</th>\n",
              "      <td>69.000000</td>\n",
              "      <td>2.000000</td>\n",
              "      <td>16.000000</td>\n",
              "      <td>4.000000</td>\n",
              "      <td>262.000000</td>\n",
              "      <td>2.000000</td>\n",
              "    </tr>\n",
              "    <tr>\n",
              "      <th>75%</th>\n",
              "      <td>100.000000</td>\n",
              "      <td>3.000000</td>\n",
              "      <td>62.000000</td>\n",
              "      <td>11.000000</td>\n",
              "      <td>341.000000</td>\n",
              "      <td>9.000000</td>\n",
              "    </tr>\n",
              "    <tr>\n",
              "      <th>max</th>\n",
              "      <td>11499.000000</td>\n",
              "      <td>1000.000000</td>\n",
              "      <td>1550.000000</td>\n",
              "      <td>281.000000</td>\n",
              "      <td>365.000000</td>\n",
              "      <td>821.000000</td>\n",
              "    </tr>\n",
              "  </tbody>\n",
              "</table>\n",
              "</div>\n",
              "      <button class=\"colab-df-convert\" onclick=\"convertToInteractive('df-a670a2f0-78c3-4f1e-85c8-1775a83bd6a8')\"\n",
              "              title=\"Convert this dataframe to an interactive table.\"\n",
              "              style=\"display:none;\">\n",
              "        \n",
              "  <svg xmlns=\"http://www.w3.org/2000/svg\" height=\"24px\"viewBox=\"0 0 24 24\"\n",
              "       width=\"24px\">\n",
              "    <path d=\"M0 0h24v24H0V0z\" fill=\"none\"/>\n",
              "    <path d=\"M18.56 5.44l.94 2.06.94-2.06 2.06-.94-2.06-.94-.94-2.06-.94 2.06-2.06.94zm-11 1L8.5 8.5l.94-2.06 2.06-.94-2.06-.94L8.5 2.5l-.94 2.06-2.06.94zm10 10l.94 2.06.94-2.06 2.06-.94-2.06-.94-.94-2.06-.94 2.06-2.06.94z\"/><path d=\"M17.41 7.96l-1.37-1.37c-.4-.4-.92-.59-1.43-.59-.52 0-1.04.2-1.43.59L10.3 9.45l-7.72 7.72c-.78.78-.78 2.05 0 2.83L4 21.41c.39.39.9.59 1.41.59.51 0 1.02-.2 1.41-.59l7.78-7.78 2.81-2.81c.8-.78.8-2.07 0-2.86zM5.41 20L4 18.59l7.72-7.72 1.47 1.35L5.41 20z\"/>\n",
              "  </svg>\n",
              "      </button>\n",
              "      \n",
              "  <style>\n",
              "    .colab-df-container {\n",
              "      display:flex;\n",
              "      flex-wrap:wrap;\n",
              "      gap: 12px;\n",
              "    }\n",
              "\n",
              "    .colab-df-convert {\n",
              "      background-color: #E8F0FE;\n",
              "      border: none;\n",
              "      border-radius: 50%;\n",
              "      cursor: pointer;\n",
              "      display: none;\n",
              "      fill: #1967D2;\n",
              "      height: 32px;\n",
              "      padding: 0 0 0 0;\n",
              "      width: 32px;\n",
              "    }\n",
              "\n",
              "    .colab-df-convert:hover {\n",
              "      background-color: #E2EBFA;\n",
              "      box-shadow: 0px 1px 2px rgba(60, 64, 67, 0.3), 0px 1px 3px 1px rgba(60, 64, 67, 0.15);\n",
              "      fill: #174EA6;\n",
              "    }\n",
              "\n",
              "    [theme=dark] .colab-df-convert {\n",
              "      background-color: #3B4455;\n",
              "      fill: #D2E3FC;\n",
              "    }\n",
              "\n",
              "    [theme=dark] .colab-df-convert:hover {\n",
              "      background-color: #434B5C;\n",
              "      box-shadow: 0px 1px 3px 1px rgba(0, 0, 0, 0.15);\n",
              "      filter: drop-shadow(0px 1px 2px rgba(0, 0, 0, 0.3));\n",
              "      fill: #FFFFFF;\n",
              "    }\n",
              "  </style>\n",
              "\n",
              "      <script>\n",
              "        const buttonEl =\n",
              "          document.querySelector('#df-a670a2f0-78c3-4f1e-85c8-1775a83bd6a8 button.colab-df-convert');\n",
              "        buttonEl.style.display =\n",
              "          google.colab.kernel.accessAllowed ? 'block' : 'none';\n",
              "\n",
              "        async function convertToInteractive(key) {\n",
              "          const element = document.querySelector('#df-a670a2f0-78c3-4f1e-85c8-1775a83bd6a8');\n",
              "          const dataTable =\n",
              "            await google.colab.kernel.invokeFunction('convertToInteractive',\n",
              "                                                     [key], {});\n",
              "          if (!dataTable) return;\n",
              "\n",
              "          const docLinkHtml = 'Like what you see? Visit the ' +\n",
              "            '<a target=\"_blank\" href=https://colab.research.google.com/notebooks/data_table.ipynb>data table notebook</a>'\n",
              "            + ' to learn more about interactive tables.';\n",
              "          element.innerHTML = '';\n",
              "          dataTable['output_type'] = 'display_data';\n",
              "          await google.colab.output.renderOutput(dataTable, element);\n",
              "          const docLink = document.createElement('div');\n",
              "          docLink.innerHTML = docLinkHtml;\n",
              "          element.appendChild(docLink);\n",
              "        }\n",
              "      </script>\n",
              "    </div>\n",
              "  </div>\n",
              "  "
            ]
          },
          "metadata": {},
          "execution_count": 11
        }
      ],
      "source": [
        "# Resumo estatístico de todas as variáveis numéricas\n",
        "\n",
        "DF[['price', 'minimum_nights', 'number_of_reviews',\n",
        "    'calculated_host_listings_count',\n",
        "    'availability_365','number_of_reviews_ltm']].describe()"
      ]
    },
    {
      "cell_type": "markdown",
      "metadata": {
        "id": "cNhRTcLasQb6"
      },
      "source": [
        "Perceba que pelo o resumo acima podemos confirmar algumas hipóteses:\n",
        "\n",
        "*  Na variável `price` temos que 75% dos valores de aluguéis estão abaixo de 100, porém seu valor máximo é 11499;\n",
        "*  Ainda na mesma variável temos o valor mínimo igual a 0, o que é algo que foge da realidade;\n",
        "*  Na variável `minimum_nights`, temos 75% dos valores estão abaixo de 3 noites minimas e seu máximo passa de 365 dias (1000).\n",
        "\n",
        "Também cabe uma observação em relação a variável `number_of_reviews` que tem como máximo 1550 enquanto 75% está abaixo de 61,5 avaliações. É possível  enquadrar este caso em um tipo *outlier*, apesar de que realmente pode haver propriedades antigas na base de dados e que já receberam muitas avaliações durante os anos. Contudo, não aprofundaremos aqui essa discussão.\n",
        "\n",
        "Prossigamos a análise. "
      ]
    },
    {
      "cell_type": "markdown",
      "metadata": {
        "id": "dkSPP64kvIdY"
      },
      "source": [
        "#### Boxplot para `price` e `minimum_nights`"
      ]
    },
    {
      "cell_type": "code",
      "execution_count": 12,
      "metadata": {
        "colab": {
          "base_uri": "https://localhost:8080/",
          "height": 184
        },
        "id": "e0ReCu6pxHRA",
        "outputId": "c31ab9a9-73ac-42a1-fede-b50e5b058860"
      },
      "outputs": [
        {
          "output_type": "display_data",
          "data": {
            "text/plain": [
              "<Figure size 1800x216 with 1 Axes>"
            ],
            "image/png": "[encoded data removed]"
          },
          "metadata": {
            "needs_background": "light"
          }
        }
      ],
      "source": [
        "# Plotar boxplot de price\n",
        "DF.price.plot(kind = 'box', vert = False, figsize = (25,3));\n",
        "plt.show()"
      ]
    },
    {
      "cell_type": "code",
      "execution_count": 13,
      "metadata": {
        "colab": {
          "base_uri": "https://localhost:8080/",
          "height": 178
        },
        "id": "Fg6vs5xG0_wW",
        "outputId": "46f476a9-51d3-426d-cfbb-a2732f53eae3"
      },
      "outputs": [
        {
          "output_type": "display_data",
          "data": {
            "text/plain": [
              "<Figure size 1800x216 with 1 Axes>"
            ],
            "image/png": "[encoded data removed]"
          },
          "metadata": {
            "needs_background": "light"
          }
        }
      ],
      "source": [
        "# Plotar boxplor de minimum_nights\n",
        "DF.minimum_nights.plot(kind = 'box', figsize = (25,3), vert = False);\n",
        "plt.show();"
      ]
    },
    {
      "cell_type": "markdown",
      "metadata": {
        "id": "Imi10_471NAk"
      },
      "source": [
        "#### Limpeza dos *outliers*"
      ]
    },
    {
      "cell_type": "markdown",
      "metadata": {
        "id": "Y9EP0OTv3IzP"
      },
      "source": [
        "Como identificamos *outliers*, vamos proceder com a limpeza.\n",
        "\n",
        "E para isso usaremos os limites calculados pela regra do IQRScore onde o IQR é calculado subtraindo o terceiro quartil (75%) pelo primeiro quartil (25%), ou seja, IQR = Q3 - Q1. E os limites são calculados fazendo (IQR x 1,5) mais o terceiro quartil(caso limite superior) ou menos o primeiro quartil(caso limite inferior) e o que  estiver fora desses limites é considerado *outlier*(veja os circulos pretos nos boxplots acima)."
      ]
    },
    {
      "cell_type": "code",
      "execution_count": 14,
      "metadata": {
        "colab": {
          "base_uri": "https://localhost:8080/"
        },
        "id": "bXYuzTlXeLCy",
        "outputId": "f8f3a4c2-9c2d-41c2-ee15-79c5661b9730"
      },
      "outputs": [
        {
          "output_type": "stream",
          "name": "stdout",
          "text": [
            "IQR de price:  51.0\n",
            "IQR de minimum_nights:  1.0\n"
          ]
        }
      ],
      "source": [
        "#Calcular IQR para price\n",
        "q1_price = DF.price.quantile(.25)\n",
        "q3_price = DF.price.quantile(.75)\n",
        "IQR_price = q3_price - q1_price\n",
        "print(\"IQR de price: \", IQR_price)\n",
        "\n",
        "#Calcular IQR para minimum_nights\n",
        "q1_nights = DF.minimum_nights.quantile(.25)\n",
        "q3_nights = DF.minimum_nights.quantile(.75)\n",
        "IQR_nights = q3_nights - q1_nights\n",
        "print(\"IQR de minimum_nights: \", IQR_nights)\n"
      ]
    },
    {
      "cell_type": "code",
      "execution_count": 15,
      "metadata": {
        "colab": {
          "base_uri": "https://localhost:8080/"
        },
        "id": "n3-M1Z6ghEt6",
        "outputId": "14d3c77c-ddb1-4e04-bf5f-bd204d78650c"
      },
      "outputs": [
        {
          "output_type": "stream",
          "name": "stdout",
          "text": [
            "Variável price : Limite superior  176.5  e Limite inferior  -27.5\n",
            "Variável minimum_nights: Limite superior  4.5  e Limite inferior  0.5\n"
          ]
        }
      ],
      "source": [
        "# Definir os limites superiores e inferiores de price\n",
        "SUP_price = q3_price + (1.5 * IQR_price)\n",
        "INF_price = q1_price - (1.5 * IQR_price)\n",
        "print(\"Variável price : Limite superior \", SUP_price, \" e Limite inferior \", INF_price)\n",
        "\n",
        "#Definir os limites superiores e inferiores de minimum_nights\n",
        "SUP_nights = q3_nights + (1.5 * IQR_nights)\n",
        "INF_nights = q1_nights - (1.5 * IQR_nights)\n",
        "print(\"Variável minimum_nights: Limite superior \", SUP_nights, \" e Limite inferior \", INF_nights)"
      ]
    },
    {
      "cell_type": "markdown",
      "metadata": {
        "id": "I5WfPTH1jIe1"
      },
      "source": [
        "É importante lembrar que *outliers* também são valores discrepantes abaixo do mínimo. Observamos isso nos resultados acima.\n",
        "\n",
        "Agora, veja o limite inferior de `price` que deu-nos um número negativo, claro que não existe valor de pagamento negativo. Então em nosso caso consideraremos o limite inferior igual a 3 por duas razões: a primeira é que os valores iguais a 0 fogem da realidade e a segunda é que na região de Lisboa existe uma taxa chamada de *TAXA MUNICIPAL TURÍSTICA DE DORMIDA*[⁶](https://informacoeseservicos.lisboa.pt/servicos/detalhe/taxa-municipal-turistica-de-dormida) que está em torno de 2 euros por noite durante um intervalo de 7 dias e o Airbnb já cobra automáticamente no site. E como dito, não consideramos o valor 0, então tem-se o mínimo possível 3 euros.\n",
        "\n",
        "E quanto a variável `minimum_nights` arredondaremos os resultados e assim ficaremos com o valor mínimo igual a 1 e o máximo igual a 5.\n",
        "\n",
        "Mas antes, vejamos a quantidade e porcentagem de *outliers* em nosso DataFrame"
      ]
    },
    {
      "cell_type": "code",
      "source": [
        "# Verificar a quantidade e porcentagem\n",
        "print(\"Valores de price acima de 176.5 e abaixo de 3 : {}\"\n",
        ".format(len(DF[DF.price > 176.5]) + len(DF[DF.price < 3])))\n",
        "print('Temos {:.2f}% de outliers no atributo price.'\n",
        ".format(((len(DF[DF.price > 176.5]) + len(DF[DF.price < 3])) / DF.shape[0]) * 100))\n",
        "\n",
        "print(\"\\nValores de minimum_nights acima de 5 e abaixo de 1 : {}\"\n",
        ".format(len(DF[DF.minimum_nights > 5]) + len(DF[DF.minimum_nights < 1])))\n",
        "print('Temos {:.2f}% de outliers no atributo minimum_nights.'\n",
        ".format(((len(DF[DF.minimum_nights > 5]) + len(DF[DF.minimum_nights < 1])) / DF.shape[0])* 100))\n"
      ],
      "metadata": {
        "colab": {
          "base_uri": "https://localhost:8080/"
        },
        "id": "GwImH6Xd4Q7m",
        "outputId": "d8d06b3b-7b68-4382-c89d-92aa3a9a36f7"
      },
      "execution_count": 16,
      "outputs": [
        {
          "output_type": "stream",
          "name": "stdout",
          "text": [
            "Valores de price acima de 176.5 e abaixo de 3 : 1611\n",
            "Temos 8.71% de outliers no atributo price.\n",
            "\n",
            "Valores de minimum_nights acima de 5 e abaixo de 1 : 1439\n",
            "Temos 7.78% de outliers no atributo minimum_nights.\n"
          ]
        }
      ]
    },
    {
      "cell_type": "markdown",
      "source": [
        "Como visto, temos valores altos de *outliers* segundo a regra do IQRScore e eles podem pertecer a entradas diferentes, iguais ou intercaladas, mas isso não analisaremos nesta exploração inicial.\n",
        "\n",
        "Dessa situação podemos tomar vários caminhos, desde usar outras metodologias até considerar aumentar os limites fornecidos pelo IQRScore de maneira que abarque mais dados e assim diminua o impacto da exclusão de informações relevantes. Porém, neste trabalho irei aceitar essas informações como válidas, deixando para um projeto posterior mais aprofundado a aplicação de outras metodologias e técnicas.\n",
        "\n",
        "Prossigamos com a limpeza usando o método `.drop()`."
      ],
      "metadata": {
        "id": "0TICTmJS9zyi"
      }
    },
    {
      "cell_type": "code",
      "execution_count": 17,
      "metadata": {
        "id": "bvX4JvTin0vX"
      },
      "outputs": [],
      "source": [
        "#Remover outliers em um novo DataFrame\n",
        "DF_clean = DF.copy()\n",
        "DF_clean.drop(DF_clean[DF_clean.price > 176.5].index, axis = 0, inplace = True)\n",
        "DF_clean.drop(DF_clean[DF_clean.price < 3].index, axis = 0, inplace = True)\n",
        "DF_clean.drop(DF_clean[DF_clean.minimum_nights > 5].index, axis = 0, inplace = True)\n",
        "DF_clean.drop(DF_clean[DF_clean.minimum_nights < 1].index, axis = 0, inplace = True)"
      ]
    },
    {
      "cell_type": "markdown",
      "source": [
        "Novo volume do DataFrame após a limpeza de dados ausentes e *outliers*"
      ],
      "metadata": {
        "id": "kCbxt8ZUA9KW"
      }
    },
    {
      "cell_type": "code",
      "source": [
        "# Novo volume\n",
        "print(\"Quantidade de entradas:\", DF_clean.shape[0])\n",
        "print(\"Quantidade de variáveis:\", DF_clean.shape[1], '\\n')"
      ],
      "metadata": {
        "colab": {
          "base_uri": "https://localhost:8080/"
        },
        "id": "QS5TLit45epw",
        "outputId": "1dd0f2b4-8e9b-4efb-9196-cc733e1511c5"
      },
      "execution_count": 18,
      "outputs": [
        {
          "output_type": "stream",
          "name": "stdout",
          "text": [
            "Quantidade de entradas: 15609\n",
            "Quantidade de variáveis: 15 \n",
            "\n"
          ]
        }
      ]
    },
    {
      "cell_type": "markdown",
      "source": [
        "#### Boxplots e histogramas sem *outliers*"
      ],
      "metadata": {
        "id": "cGyE-R2IBbof"
      }
    },
    {
      "cell_type": "code",
      "source": [
        "DF_clean.price.plot(kind = 'box', figsize = (20,3), vert = False)\n",
        "plt.show()\n",
        "DF_clean.minimum_nights.plot(kind = 'box', figsize = (20,3), vert = False);"
      ],
      "metadata": {
        "colab": {
          "base_uri": "https://localhost:8080/",
          "height": 405
        },
        "id": "dCOlirlzBjUx",
        "outputId": "f1b0f554-341c-4317-e385-96ec53a74b5e"
      },
      "execution_count": 19,
      "outputs": [
        {
          "output_type": "display_data",
          "data": {
            "text/plain": [
              "<Figure size 1440x216 with 1 Axes>"
            ],
            "image/png": "[encoded data removed]"
          },
          "metadata": {
            "needs_background": "light"
          }
        },
        {
          "output_type": "display_data",
          "data": {
            "text/plain": [
              "<Figure size 1440x216 with 1 Axes>"
            ],
            "image/png": "[encoded data removed]"
          },
          "metadata": {
            "needs_background": "light"
          }
        }
      ]
    },
    {
      "cell_type": "markdown",
      "source": [
        "Em nossa análise, vimos que o limite superior de `price` é 176,5 e por causa disso não deveria aparecer *outliers*. Que é o que não ocorre no *boxplot* acima.\n",
        "\n",
        "Poderíamos fazer e testar várias hipóteses do porquê isso acontece, bem como continuar a limpeza de maneira que seja excluída esses dados discrepantes. Mas nesta análise exploratória inicial nos contentamos com esses resultados."
      ],
      "metadata": {
        "id": "S-ICWSPKDEBF"
      }
    },
    {
      "cell_type": "code",
      "execution_count": 20,
      "metadata": {
        "colab": {
          "base_uri": "https://localhost:8080/",
          "height": 607
        },
        "id": "BR_onAjl3eLl",
        "outputId": "1f89f14a-2268-4e2f-f965-f6d7555f13e1"
      },
      "outputs": [
        {
          "output_type": "display_data",
          "data": {
            "text/plain": [
              "<Figure size 1080x720 with 12 Axes>"
            ],
            "image/png": "[encoded data removed]"
          },
          "metadata": {
            "needs_background": "light"
          }
        }
      ],
      "source": [
        "#Plotar histogramas\n",
        "DF_clean.hist(figsize = (15, 10), bins = 15, color = 'darkgreen');"
      ]
    },
    {
      "cell_type": "markdown",
      "metadata": {
        "id": "vZt_V5MdBftg"
      },
      "source": [
        "Perceba como os histogramas dos atributos que excluímos as discrepancias estão mais distribuídos."
      ]
    },
    {
      "cell_type": "markdown",
      "metadata": {
        "id": "FMGe8uqWNql7"
      },
      "source": [
        "### **Q5. Qual a média dos preços dos aluguéis e da quantidade mínima de noites**\n",
        "\n",
        "É interessante obter a média de algo porque ela é como uma espécie de \"resumo\" em que o conjunto de valores está em torno. Vamos ver a média dos preços abaixo:\n"
      ]
    },
    {
      "cell_type": "code",
      "execution_count": 21,
      "metadata": {
        "colab": {
          "base_uri": "https://localhost:8080/"
        },
        "id": "OWT68GoSPDhp",
        "outputId": "716c7ba1-73e4-4240-8993-158bc60efd93"
      },
      "outputs": [
        {
          "output_type": "stream",
          "name": "stdout",
          "text": [
            "Média dos preços dos aluguéis: 71.78 euros\n",
            "\n",
            "Média da quantidade mínima de noites: 2\n"
          ]
        }
      ],
      "source": [
        "print(\"Média dos preços dos aluguéis: {:.2f} euros\\n\".format(DF_clean.price.mean()))\n",
        "print(\"Média da quantidade mínima de noites: {:.0f}\".format(DF_clean.minimum_nights.mean()))"
      ]
    },
    {
      "cell_type": "markdown",
      "metadata": {
        "id": "-DPRmaMrDDuj"
      },
      "source": [
        "### **Q6. Qual a correlação existente entre as variáveis**\n",
        "\n",
        "Correlação é um conceito ligado à área da probabilidade e estatística e significa que existe uma relação entre duas coisas. Neste nosso projeto, iremos identificar uma relação ou semelhança entre duas variáveis.\n",
        "\n",
        "E para medir essa relação vou:\n",
        "\n",
        "*  Criar uma matriz de correlação\n",
        "*  Gerar a partir dessa matriz um *heatmap* com a biblioteca `seaborn`"
      ]
    },
    {
      "cell_type": "code",
      "execution_count": 22,
      "metadata": {
        "id": "sd6SK0gzHO9G"
      },
      "outputs": [],
      "source": [
        "# Matriz de correlação com as variáveis numéricas\n",
        "corr = DF_clean[['price', 'minimum_nights', 'number_of_reviews',\n",
        "    'calculated_host_listings_count',\n",
        "    'availability_365','number_of_reviews_ltm']].corr()"
      ]
    },
    {
      "cell_type": "code",
      "execution_count": 23,
      "metadata": {
        "colab": {
          "base_uri": "https://localhost:8080/",
          "height": 411
        },
        "id": "rlNEs0I_HkST",
        "outputId": "4fe91f94-0168-40dd-def4-5f938b5057a2"
      },
      "outputs": [
        {
          "output_type": "display_data",
          "data": {
            "text/plain": [
              "<Figure size 432x288 with 2 Axes>"
            ],
            "image/png": "[encoded data removed]"
          },
          "metadata": {
            "needs_background": "light"
          }
        }
      ],
      "source": [
        "sns.heatmap(corr, cmap='RdBu', fmt='.2f', square=True, linecolor='white', annot=True);"
      ]
    },
    {
      "cell_type": "markdown",
      "metadata": {
        "id": "yr1RM7L4fzBa"
      },
      "source": [
        "### **Q7. Quais os tipos de imóveis e suas quantidades no Airbnb?**\n",
        "\n",
        "A coluna `room_type` nos informa o tipo de imóvel que queremos alugar e acessando o site do Airbnb vemos que ele nos oferece várias opções desde alugar um apartamento inteiro até dividir o quarto com outras pessoas.\n",
        "\n",
        "Vamos vê a quantidade e porcetagem de cada tipo disponível."
      ]
    },
    {
      "cell_type": "code",
      "execution_count": 24,
      "metadata": {
        "colab": {
          "base_uri": "https://localhost:8080/"
        },
        "id": "m6gZ6EYrhUD7",
        "outputId": "269d2f50-ef55-4ca2-d454-34bd09bbeced"
      },
      "outputs": [
        {
          "output_type": "execute_result",
          "data": {
            "text/plain": [
              "Entire home/apt    11731\n",
              "Private room        3364\n",
              "Hotel room           265\n",
              "Shared room          249\n",
              "Name: room_type, dtype: int64"
            ]
          },
          "metadata": {},
          "execution_count": 24
        }
      ],
      "source": [
        "# Quantidade dos tipos oferecidos\n",
        "DF_clean.room_type.value_counts() "
      ]
    },
    {
      "cell_type": "code",
      "execution_count": 25,
      "metadata": {
        "colab": {
          "base_uri": "https://localhost:8080/"
        },
        "id": "oEa3yxpIhZrS",
        "outputId": "e74c8fdb-28cb-45ee-f5f4-e07f188ae428"
      },
      "outputs": [
        {
          "output_type": "execute_result",
          "data": {
            "text/plain": [
              "Entire home/apt    75.155359\n",
              "Private room       21.551669\n",
              "Hotel room          1.697738\n",
              "Shared room         1.595234\n",
              "Name: room_type, dtype: float64"
            ]
          },
          "metadata": {},
          "execution_count": 25
        }
      ],
      "source": [
        "# Porcentagem dos tipos oferecidos\n",
        "DF_clean.room_type.value_counts() / DF_clean.shape[0] * 100"
      ]
    },
    {
      "cell_type": "markdown",
      "source": [
        "### **Q8. Quais lugares têm a maior concentração de imóveis?**"
      ],
      "metadata": {
        "id": "Aui8g-79YgGE"
      }
    },
    {
      "cell_type": "code",
      "source": [
        "DF_clean.neighbourhood.value_counts()"
      ],
      "metadata": {
        "colab": {
          "base_uri": "https://localhost:8080/"
        },
        "id": "n7PSkJJbYx1J",
        "outputId": "b62437a8-1634-4718-b73a-5bfdad2cc815"
      },
      "execution_count": 26,
      "outputs": [
        {
          "output_type": "execute_result",
          "data": {
            "text/plain": [
              "Santa Maria Maior      2686\n",
              "Misericrdia            1996\n",
              "Arroios                1423\n",
              "Cascais e Estoril       938\n",
              "So Vicente              921\n",
              "                       ... \n",
              "Meca                      1\n",
              "Freiria                   1\n",
              "Painho e Figueiros        1\n",
              "Ponte do Rol              1\n",
              "Santiago dos Velhos       1\n",
              "Name: neighbourhood, Length: 121, dtype: int64"
            ]
          },
          "metadata": {},
          "execution_count": 26
        }
      ]
    },
    {
      "cell_type": "markdown",
      "source": [
        "Os 3 primeiros colocados são freguesias que pertecem a zona do centro histórico de Lisboa, nelas se encontram importantes atrações turistícas como, por exemplo, a Praça do Comércio, o Castelo de São Jorge, Praça do Rossio, etc."
      ],
      "metadata": {
        "id": "M_FezdWyaAIU"
      }
    },
    {
      "cell_type": "markdown",
      "metadata": {
        "id": "ME9mt2V-iCsc"
      },
      "source": [
        "### **Q9. Qual a localidade mais cara em Lisboa**\n",
        "\n",
        "Um método que nos permiti agrupar dados e daí pode vê-los um em função do outro, assim sendo possível extrair  alguns *insights* é o método `.groupby()`. Vamos usá-lo para agrupar as informações das localidades(`neighbourhood`) e dos preços (`price`) e por fim fazer uma comparação entre os locais."
      ]
    },
    {
      "cell_type": "code",
      "execution_count": null,
      "metadata": {
        "colab": {
          "base_uri": "https://localhost:8080/"
        },
        "id": "BwOorWKJlCvP",
        "outputId": "7a479953-f100-415a-9e03-03c8b0dd7582"
      },
      "outputs": [
        {
          "output_type": "execute_result",
          "data": {
            "text/plain": [
              "neighbourhood\n",
              "Arranh                                      150.000000\n",
              "Turcifal                                    123.000000\n",
              "Meca                                        119.000000\n",
              "Peral                                       112.250000\n",
              "Dois Portos e Runa                          112.000000\n",
              "Maxial e Monte Redondo                      107.666667\n",
              "Bucelas                                     101.800000\n",
              "Vilar                                        98.500000\n",
              "Parque das Naes                              93.109827\n",
              "Ribamar                                      90.833333\n",
              "Igreja Nova e Cheleiros                      90.437500\n",
              "Alcoentre                                    90.000000\n",
              "Carvoeira e Carmes                           85.000000\n",
              "So Joo das Lampas e Terrugem                 82.894737\n",
              "Venda do Pinheiro e Santo Estvo das Gals     82.750000\n",
              "Barcarena                                    82.000000\n",
              "A dos Cunhados e Maceira                     81.541667\n",
              "Colares                                      81.285714\n",
              "Santo Isidoro                                81.075949\n",
              "So Pedro da Cadeira                          80.916667\n",
              "Name: price, dtype: float64"
            ]
          },
          "metadata": {},
          "execution_count": 326
        }
      ],
      "source": [
        "#Agrupar Dados e exibir os 20 maiores\n",
        "DF_clean.groupby('neighbourhood')['price'].mean().sort_values(ascending = False)[0:20]"
      ]
    },
    {
      "cell_type": "markdown",
      "metadata": {
        "id": "zs-pSeoSnwts"
      },
      "source": [
        "Com as informações que temos da latitude e longitude, podemos plotar um gráfico do tipo *scatter* para cada entrada acima."
      ]
    },
    {
      "cell_type": "code",
      "execution_count": null,
      "metadata": {
        "colab": {
          "base_uri": "https://localhost:8080/",
          "height": 306
        },
        "id": "nfuAKkG4oUMj",
        "outputId": "14b3894c-81e9-48e8-d05a-6b5b815820e8"
      },
      "outputs": [
        {
          "output_type": "display_data",
          "data": {
            "text/plain": [
              "<Figure size 504x360 with 2 Axes>"
            ],
            "image/png": "[encoded data removed]"
          },
          "metadata": {
            "needs_background": "light"
          }
        }
      ],
      "source": [
        "# Plotar gráfico dos imóveis pela latitude e longitude\n",
        "# x = longitude ; y = latitude\n",
        "\n",
        "DF_clean.plot.scatter(x = 'longitude', y = 'latitude', alpha=0.4, c = DF_clean['price'], s=8,\n",
        "              cmap=plt.get_cmap('jet'), figsize=(7,5));\n"
      ]
    },
    {
      "cell_type": "markdown",
      "metadata": {
        "id": "PvibVbHLrC78"
      },
      "source": [
        "<img alt=\"mapa\" width=\"30%\" src=\"https://i.pinimg.com/originals/4d/9c/41/4d9c41c1ab4a266d730232a718f5aa51.gif\n",
        "\">\n",
        "\n"
      ]
    },
    {
      "cell_type": "markdown",
      "source": [
        "\n",
        "É importante notar a presença de localidades distantes que possuem média de valores muito altos comparados aos do centro turístico de Lisboa. Uma hipótese provável é que nesses lugares há uma ou poucas propriedades oferecidas no Airbnb enquanto na capital há muitas e isso causa uma queda no preço médio. Testemos abaixo essa hipótese tomando os 3 primeiros lugares na média aritmética do preço."
      ],
      "metadata": {
        "id": "-mIRmmLONLjR"
      }
    },
    {
      "cell_type": "code",
      "execution_count": null,
      "metadata": {
        "colab": {
          "base_uri": "https://localhost:8080/"
        },
        "id": "lQhlxS_Bw4wD",
        "outputId": "cc462a45-50de-41e3-b0db-b1e0afa5461e"
      },
      "outputs": [
        {
          "output_type": "execute_result",
          "data": {
            "text/plain": [
              "1006    150\n",
              "1948    150\n",
              "Name: price, dtype: int64"
            ]
          },
          "metadata": {},
          "execution_count": 328
        }
      ],
      "source": [
        "DF_clean[DF_clean.neighbourhood == 'Arranh'].price"
      ]
    },
    {
      "cell_type": "code",
      "source": [
        "DF_clean[DF_clean.neighbourhood == 'Turcifal'].price"
      ],
      "metadata": {
        "colab": {
          "base_uri": "https://localhost:8080/"
        },
        "id": "uwkAAmnLPv7F",
        "outputId": "7d43cdf9-6b4a-479f-c22e-1b8742cee938"
      },
      "execution_count": null,
      "outputs": [
        {
          "output_type": "execute_result",
          "data": {
            "text/plain": [
              "4242     125\n",
              "5686     118\n",
              "7451     100\n",
              "8778     160\n",
              "14747    166\n",
              "14791     69\n",
              "Name: price, dtype: int64"
            ]
          },
          "metadata": {},
          "execution_count": 329
        }
      ]
    },
    {
      "cell_type": "code",
      "source": [
        "DF_clean[DF_clean.neighbourhood == 'Meca'].price"
      ],
      "metadata": {
        "colab": {
          "base_uri": "https://localhost:8080/"
        },
        "id": "L9wffA_nP7KW",
        "outputId": "e43d251c-0d62-4666-c003-10a3ba015cfa"
      },
      "execution_count": null,
      "outputs": [
        {
          "output_type": "execute_result",
          "data": {
            "text/plain": [
              "10980    119\n",
              "Name: price, dtype: int64"
            ]
          },
          "metadata": {},
          "execution_count": 330
        }
      ]
    },
    {
      "cell_type": "markdown",
      "metadata": {
        "id": "47L4to29yMYo"
      },
      "source": [
        "Se você fazer uma rápida pesquisa no google maps perceberá a distancia do centro da capital e isso confirma nossa hipótese. Então é importante fazer essa análise com as demais localidades em que existe a mesma suspeita mas neste trabalho não aprofundaremos isso."
      ]
    },
    {
      "cell_type": "markdown",
      "metadata": {
        "id": "5HCrMPRJvP2S"
      },
      "source": [
        "### **Conclusões**\n",
        "\n",
        "Foi realizada apenas uma análise de dados exploratória inicial na base de dados do Airbnb em sua versão resumida. Percebemos a presença de vários *outliers*, dados ausentes e que em algumas localidades há poucos imóveis que causam distorções nas informações que se deseja extrair.\n",
        "\n",
        "Enfim, após essa abordagem inicial, é recomendado em uma próxima análise exploratória o uso do *dataset* completo (`listings.csv.gz`) com 74 variáveis para uma melhor compreesão.\n"
      ]
    }
  ],
  "metadata": {
    "colab": {
      "collapsed_sections": [],
      "name": "Análise dos Dados do Airbnb - Lisboa",
      "provenance": [],
      "authorship_tag": "ABX9TyMQ9TMMaUMsuZxFS3aZ3/TX",
      "include_colab_link": true
    },
    "kernelspec": {
      "display_name": "Python 3",
      "name": "python3"
    },
    "language_info": {
      "name": "python"
    }
  },
  "nbformat": 4,
  "nbformat_minor": 0
}