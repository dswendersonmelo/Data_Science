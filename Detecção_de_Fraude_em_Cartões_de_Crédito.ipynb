{
  "nbformat": 4,
  "nbformat_minor": 0,
  "metadata": {
    "colab": {
      "name": "Detecção de Fraude em Cartões de Crédito",
      "provenance": [],
      "collapsed_sections": [],
      "authorship_tag": "ABX9TyNLqZQjyvcGoMiBkYEZDArK",
      "include_colab_link": true
    },
    "kernelspec": {
      "name": "python3",
      "display_name": "Python 3"
    },
    "language_info": {
      "name": "python"
    }
  },
  "cells": [
    {
      "cell_type": "markdown",
      "metadata": {
        "id": "view-in-github",
        "colab_type": "text"
      },
      "source": [
        "<a href=\"https://colab.research.google.com/github/dswendersonmelo/Data_Science/blob/main/Detec%C3%A7%C3%A3o_de_Fraude_em_Cart%C3%B5es_de_Cr%C3%A9dito.ipynb\" target=\"_parent\"><img src=\"https://colab.research.google.com/assets/colab-badge.svg\" alt=\"Open In Colab\"/></a>"
      ]
    },
    {
      "cell_type": "markdown",
      "source": [
        "#  **INTRODUÇÃO**\n",
        "\n",
        "As fraudes envolvendo cartões de crédito são um dos principais problemas enfrentados por bancos e instituições financeiras. Além, é claro, de ser um dos \"pesadelos\" do varejo hoje em dia. \n",
        "\n",
        "E há muitas causas para ocorrerem, desde pequenos descuidos por parte do consumidores com seus dados pessoais à falhas na segurança dos sistemas financeiros. Com consequências para todos os envolvidos, por exemplo, para os varejistas, além das perdas financeiras, as fraudes afetam a reputação do negócio.\n",
        "\n",
        "Ademais, é aí que entra as análises de fraudes em cartões de crédito como ação preventiva contra as perdas. Esses processos consideram muitos critérios para identificar se os pagamentos são fraudulentos ou não e de modo geral são divididos em dois tipos de análises: automáticas ou manuais. \n",
        "\n",
        "Sendo que, o investimento em inteligência artificial para essas análises e detecções umas das áreas promissoras em Ciência de Dados e Machine Learning, pois a cada dia tem-se um volume maior de dados para \"alimentar os modelos\". E um algoritmo que tenha uma pequena melhora em relação a outros representa uma economia de milhões.\n",
        "\n",
        "Portanto, esse projeto irá abordar esse problema comparando dois modelos de Machine Learning, isto é, o modelo de regressão logística binária(que vai ser chamada a partir daqui de apenas de regressão logística) e o de árvore de decisão. Com uma análise de qual dos dois obteve uma maior capacidade preditiva na detecção de fraudes."
      ],
      "metadata": {
        "id": "xMfBPsJnwae7"
      }
    },
    {
      "cell_type": "markdown",
      "source": [
        "# **PARTE 1 - ANÁLISE DO CONJUNTO DE DADOS**"
      ],
      "metadata": {
        "id": "n4OTInWRv9-6"
      }
    },
    {
      "cell_type": "markdown",
      "source": [
        "## **FONTE E DISPOSIÇÃO DOS DADOS**\n",
        "\n",
        "O conjunto de dados utilizado nesse projeto está disponível no [*kaggle*](https://www.kaggle.com/datasets/mlg-ulb/creditcardfraud?resource=download) mas para que não ocorra a quebra dos códigos abaixo, o arquivo csv estará alocado no [github](https://github.com/dswendersonmelo/Data_Science/blob/Arquivos/creditcard.zip).\n",
        "\n",
        "Esse dataset contém transações de cartões de titulares europeus que ocorreram durante dois dias em setembro de 2013. É formado apenas por váriaveis numéricas, que segundo o *kaggle*, passaram por uma transformação PCA(*Principal Component Analysis*), que de modo geral é um método de redução de dimensionalidade dos dados conservado o maior número possível de informações, somente as variáveis `Amount` e `Time` não passaram por tal transformação.\n",
        "Isso ocorreu principalmente por questões de confidencialidade dos usuários.\n",
        "\n",
        "Os componentes obtidos com PCA estão denotados como `V1`, `V2`, ...`V28`. A variável `Class` assume valor **1** em caso de fraude e **0** caso contrário.\n",
        "`Time` representa os segundos decorridos a partir da primeira transação e `Amount` o valor da transação.\n",
        "\n",
        "Abaixo estão os pacotes que serão usados no projeto"
      ],
      "metadata": {
        "id": "q6YHmYy8xEG_"
      }
    },
    {
      "cell_type": "code",
      "source": [
        "# Importar os pacotes necessários\n",
        "\n",
        "import pandas as pd\n",
        "import matplotlib.pyplot as plt\n",
        "import seaborn as sns\n",
        "from sklearn.model_selection import train_test_split\n",
        "from sklearn.preprocessing import StandardScaler\n",
        "from sklearn.linear_model import LogisticRegression\n",
        "from sklearn.metrics import classification_report, confusion_matrix, roc_auc_score\n",
        "from sklearn.tree import DecisionTreeClassifier\n",
        "from imblearn.under_sampling import RandomUnderSampler\n",
        "\n",
        "% matplotlib inline"
      ],
      "metadata": {
        "id": "RgE21gIeHD8R"
      },
      "execution_count": 23,
      "outputs": []
    },
    {
      "cell_type": "code",
      "source": [
        "# Importar o conjunto de dados para um dataframe\n",
        "\n",
        "df = pd.read_csv('https://github.com/dswendersonmelo/Data_Science/raw/Arquivos/creditcard.zip')"
      ],
      "metadata": {
        "id": "tUY9UPWH2HiP"
      },
      "execution_count": 2,
      "outputs": []
    },
    {
      "cell_type": "code",
      "source": [
        "# Vê as 5 primeiras linhas\n",
        "\n",
        "df.head()"
      ],
      "metadata": {
        "id": "WkpbvpkMHIjD",
        "colab": {
          "base_uri": "https://localhost:8080/",
          "height": 300
        },
        "outputId": "5f90cbfd-15a1-40a3-c97b-0b039e9a73b1"
      },
      "execution_count": 3,
      "outputs": [
        {
          "output_type": "execute_result",
          "data": {
            "text/plain": [
              "   Time        V1        V2        V3        V4        V5        V6        V7  \\\n",
              "0   0.0 -1.359807 -0.072781  2.536347  1.378155 -0.338321  0.462388  0.239599   \n",
              "1   0.0  1.191857  0.266151  0.166480  0.448154  0.060018 -0.082361 -0.078803   \n",
              "2   1.0 -1.358354 -1.340163  1.773209  0.379780 -0.503198  1.800499  0.791461   \n",
              "3   1.0 -0.966272 -0.185226  1.792993 -0.863291 -0.010309  1.247203  0.237609   \n",
              "4   2.0 -1.158233  0.877737  1.548718  0.403034 -0.407193  0.095921  0.592941   \n",
              "\n",
              "         V8        V9  ...       V21       V22       V23       V24       V25  \\\n",
              "0  0.098698  0.363787  ... -0.018307  0.277838 -0.110474  0.066928  0.128539   \n",
              "1  0.085102 -0.255425  ... -0.225775 -0.638672  0.101288 -0.339846  0.167170   \n",
              "2  0.247676 -1.514654  ...  0.247998  0.771679  0.909412 -0.689281 -0.327642   \n",
              "3  0.377436 -1.387024  ... -0.108300  0.005274 -0.190321 -1.175575  0.647376   \n",
              "4 -0.270533  0.817739  ... -0.009431  0.798278 -0.137458  0.141267 -0.206010   \n",
              "\n",
              "        V26       V27       V28  Amount  Class  \n",
              "0 -0.189115  0.133558 -0.021053  149.62      0  \n",
              "1  0.125895 -0.008983  0.014724    2.69      0  \n",
              "2 -0.139097 -0.055353 -0.059752  378.66      0  \n",
              "3 -0.221929  0.062723  0.061458  123.50      0  \n",
              "4  0.502292  0.219422  0.215153   69.99      0  \n",
              "\n",
              "[5 rows x 31 columns]"
            ],
            "text/html": [
              "\n",
              "  <div id=\"df-1f3a4501-9c5f-4a3d-9821-ccbca2489628\">\n",
              "    <div class=\"colab-df-container\">\n",
              "      <div>\n",
              "<style scoped>\n",
              "    .dataframe tbody tr th:only-of-type {\n",
              "        vertical-align: middle;\n",
              "    }\n",
              "\n",
              "    .dataframe tbody tr th {\n",
              "        vertical-align: top;\n",
              "    }\n",
              "\n",
              "    .dataframe thead th {\n",
              "        text-align: right;\n",
              "    }\n",
              "</style>\n",
              "<table border=\"1\" class=\"dataframe\">\n",
              "  <thead>\n",
              "    <tr style=\"text-align: right;\">\n",
              "      <th></th>\n",
              "      <th>Time</th>\n",
              "      <th>V1</th>\n",
              "      <th>V2</th>\n",
              "      <th>V3</th>\n",
              "      <th>V4</th>\n",
              "      <th>V5</th>\n",
              "      <th>V6</th>\n",
              "      <th>V7</th>\n",
              "      <th>V8</th>\n",
              "      <th>V9</th>\n",
              "      <th>...</th>\n",
              "      <th>V21</th>\n",
              "      <th>V22</th>\n",
              "      <th>V23</th>\n",
              "      <th>V24</th>\n",
              "      <th>V25</th>\n",
              "      <th>V26</th>\n",
              "      <th>V27</th>\n",
              "      <th>V28</th>\n",
              "      <th>Amount</th>\n",
              "      <th>Class</th>\n",
              "    </tr>\n",
              "  </thead>\n",
              "  <tbody>\n",
              "    <tr>\n",
              "      <th>0</th>\n",
              "      <td>0.0</td>\n",
              "      <td>-1.359807</td>\n",
              "      <td>-0.072781</td>\n",
              "      <td>2.536347</td>\n",
              "      <td>1.378155</td>\n",
              "      <td>-0.338321</td>\n",
              "      <td>0.462388</td>\n",
              "      <td>0.239599</td>\n",
              "      <td>0.098698</td>\n",
              "      <td>0.363787</td>\n",
              "      <td>...</td>\n",
              "      <td>-0.018307</td>\n",
              "      <td>0.277838</td>\n",
              "      <td>-0.110474</td>\n",
              "      <td>0.066928</td>\n",
              "      <td>0.128539</td>\n",
              "      <td>-0.189115</td>\n",
              "      <td>0.133558</td>\n",
              "      <td>-0.021053</td>\n",
              "      <td>149.62</td>\n",
              "      <td>0</td>\n",
              "    </tr>\n",
              "    <tr>\n",
              "      <th>1</th>\n",
              "      <td>0.0</td>\n",
              "      <td>1.191857</td>\n",
              "      <td>0.266151</td>\n",
              "      <td>0.166480</td>\n",
              "      <td>0.448154</td>\n",
              "      <td>0.060018</td>\n",
              "      <td>-0.082361</td>\n",
              "      <td>-0.078803</td>\n",
              "      <td>0.085102</td>\n",
              "      <td>-0.255425</td>\n",
              "      <td>...</td>\n",
              "      <td>-0.225775</td>\n",
              "      <td>-0.638672</td>\n",
              "      <td>0.101288</td>\n",
              "      <td>-0.339846</td>\n",
              "      <td>0.167170</td>\n",
              "      <td>0.125895</td>\n",
              "      <td>-0.008983</td>\n",
              "      <td>0.014724</td>\n",
              "      <td>2.69</td>\n",
              "      <td>0</td>\n",
              "    </tr>\n",
              "    <tr>\n",
              "      <th>2</th>\n",
              "      <td>1.0</td>\n",
              "      <td>-1.358354</td>\n",
              "      <td>-1.340163</td>\n",
              "      <td>1.773209</td>\n",
              "      <td>0.379780</td>\n",
              "      <td>-0.503198</td>\n",
              "      <td>1.800499</td>\n",
              "      <td>0.791461</td>\n",
              "      <td>0.247676</td>\n",
              "      <td>-1.514654</td>\n",
              "      <td>...</td>\n",
              "      <td>0.247998</td>\n",
              "      <td>0.771679</td>\n",
              "      <td>0.909412</td>\n",
              "      <td>-0.689281</td>\n",
              "      <td>-0.327642</td>\n",
              "      <td>-0.139097</td>\n",
              "      <td>-0.055353</td>\n",
              "      <td>-0.059752</td>\n",
              "      <td>378.66</td>\n",
              "      <td>0</td>\n",
              "    </tr>\n",
              "    <tr>\n",
              "      <th>3</th>\n",
              "      <td>1.0</td>\n",
              "      <td>-0.966272</td>\n",
              "      <td>-0.185226</td>\n",
              "      <td>1.792993</td>\n",
              "      <td>-0.863291</td>\n",
              "      <td>-0.010309</td>\n",
              "      <td>1.247203</td>\n",
              "      <td>0.237609</td>\n",
              "      <td>0.377436</td>\n",
              "      <td>-1.387024</td>\n",
              "      <td>...</td>\n",
              "      <td>-0.108300</td>\n",
              "      <td>0.005274</td>\n",
              "      <td>-0.190321</td>\n",
              "      <td>-1.175575</td>\n",
              "      <td>0.647376</td>\n",
              "      <td>-0.221929</td>\n",
              "      <td>0.062723</td>\n",
              "      <td>0.061458</td>\n",
              "      <td>123.50</td>\n",
              "      <td>0</td>\n",
              "    </tr>\n",
              "    <tr>\n",
              "      <th>4</th>\n",
              "      <td>2.0</td>\n",
              "      <td>-1.158233</td>\n",
              "      <td>0.877737</td>\n",
              "      <td>1.548718</td>\n",
              "      <td>0.403034</td>\n",
              "      <td>-0.407193</td>\n",
              "      <td>0.095921</td>\n",
              "      <td>0.592941</td>\n",
              "      <td>-0.270533</td>\n",
              "      <td>0.817739</td>\n",
              "      <td>...</td>\n",
              "      <td>-0.009431</td>\n",
              "      <td>0.798278</td>\n",
              "      <td>-0.137458</td>\n",
              "      <td>0.141267</td>\n",
              "      <td>-0.206010</td>\n",
              "      <td>0.502292</td>\n",
              "      <td>0.219422</td>\n",
              "      <td>0.215153</td>\n",
              "      <td>69.99</td>\n",
              "      <td>0</td>\n",
              "    </tr>\n",
              "  </tbody>\n",
              "</table>\n",
              "<p>5 rows × 31 columns</p>\n",
              "</div>\n",
              "      <button class=\"colab-df-convert\" onclick=\"convertToInteractive('df-1f3a4501-9c5f-4a3d-9821-ccbca2489628')\"\n",
              "              title=\"Convert this dataframe to an interactive table.\"\n",
              "              style=\"display:none;\">\n",
              "        \n",
              "  <svg xmlns=\"http://www.w3.org/2000/svg\" height=\"24px\"viewBox=\"0 0 24 24\"\n",
              "       width=\"24px\">\n",
              "    <path d=\"M0 0h24v24H0V0z\" fill=\"none\"/>\n",
              "    <path d=\"M18.56 5.44l.94 2.06.94-2.06 2.06-.94-2.06-.94-.94-2.06-.94 2.06-2.06.94zm-11 1L8.5 8.5l.94-2.06 2.06-.94-2.06-.94L8.5 2.5l-.94 2.06-2.06.94zm10 10l.94 2.06.94-2.06 2.06-.94-2.06-.94-.94-2.06-.94 2.06-2.06.94z\"/><path d=\"M17.41 7.96l-1.37-1.37c-.4-.4-.92-.59-1.43-.59-.52 0-1.04.2-1.43.59L10.3 9.45l-7.72 7.72c-.78.78-.78 2.05 0 2.83L4 21.41c.39.39.9.59 1.41.59.51 0 1.02-.2 1.41-.59l7.78-7.78 2.81-2.81c.8-.78.8-2.07 0-2.86zM5.41 20L4 18.59l7.72-7.72 1.47 1.35L5.41 20z\"/>\n",
              "  </svg>\n",
              "      </button>\n",
              "      \n",
              "  <style>\n",
              "    .colab-df-container {\n",
              "      display:flex;\n",
              "      flex-wrap:wrap;\n",
              "      gap: 12px;\n",
              "    }\n",
              "\n",
              "    .colab-df-convert {\n",
              "      background-color: #E8F0FE;\n",
              "      border: none;\n",
              "      border-radius: 50%;\n",
              "      cursor: pointer;\n",
              "      display: none;\n",
              "      fill: #1967D2;\n",
              "      height: 32px;\n",
              "      padding: 0 0 0 0;\n",
              "      width: 32px;\n",
              "    }\n",
              "\n",
              "    .colab-df-convert:hover {\n",
              "      background-color: #E2EBFA;\n",
              "      box-shadow: 0px 1px 2px rgba(60, 64, 67, 0.3), 0px 1px 3px 1px rgba(60, 64, 67, 0.15);\n",
              "      fill: #174EA6;\n",
              "    }\n",
              "\n",
              "    [theme=dark] .colab-df-convert {\n",
              "      background-color: #3B4455;\n",
              "      fill: #D2E3FC;\n",
              "    }\n",
              "\n",
              "    [theme=dark] .colab-df-convert:hover {\n",
              "      background-color: #434B5C;\n",
              "      box-shadow: 0px 1px 3px 1px rgba(0, 0, 0, 0.15);\n",
              "      filter: drop-shadow(0px 1px 2px rgba(0, 0, 0, 0.3));\n",
              "      fill: #FFFFFF;\n",
              "    }\n",
              "  </style>\n",
              "\n",
              "      <script>\n",
              "        const buttonEl =\n",
              "          document.querySelector('#df-1f3a4501-9c5f-4a3d-9821-ccbca2489628 button.colab-df-convert');\n",
              "        buttonEl.style.display =\n",
              "          google.colab.kernel.accessAllowed ? 'block' : 'none';\n",
              "\n",
              "        async function convertToInteractive(key) {\n",
              "          const element = document.querySelector('#df-1f3a4501-9c5f-4a3d-9821-ccbca2489628');\n",
              "          const dataTable =\n",
              "            await google.colab.kernel.invokeFunction('convertToInteractive',\n",
              "                                                     [key], {});\n",
              "          if (!dataTable) return;\n",
              "\n",
              "          const docLinkHtml = 'Like what you see? Visit the ' +\n",
              "            '<a target=\"_blank\" href=https://colab.research.google.com/notebooks/data_table.ipynb>data table notebook</a>'\n",
              "            + ' to learn more about interactive tables.';\n",
              "          element.innerHTML = '';\n",
              "          dataTable['output_type'] = 'display_data';\n",
              "          await google.colab.output.renderOutput(dataTable, element);\n",
              "          const docLink = document.createElement('div');\n",
              "          docLink.innerHTML = docLinkHtml;\n",
              "          element.appendChild(docLink);\n",
              "        }\n",
              "      </script>\n",
              "    </div>\n",
              "  </div>\n",
              "  "
            ]
          },
          "metadata": {},
          "execution_count": 3
        }
      ]
    },
    {
      "cell_type": "markdown",
      "source": [
        "Perceba que, como foi dito, há somente variáveis numéricas que num olhar não nos permite inferir conclusões, porém para os modelos de regressão logística e árvore de decisão que serão usados é ideal. Cabe também observar que os valores nas colunas `Time` e `Amount` estão em outra ordem de grandeza sendo necessário padronizar-los para uso nos modelos.\n"
      ],
      "metadata": {
        "id": "6Z1RXq_J6bd9"
      }
    },
    {
      "cell_type": "code",
      "source": [
        "# Dimensõs e estado do dataframe\n",
        "\n",
        "tam = df.shape\n",
        "q_class = df.Class.value_counts()\n",
        "print('Há {} linhas e {} colunas.'.format(tam[0], tam[1]))\n",
        "print('Há {} valores ausentes.'.format(df.isnull().sum().sum()))\n",
        "print('Tem-se {} fraudes'.format(q_class[1]))"
      ],
      "metadata": {
        "colab": {
          "base_uri": "https://localhost:8080/"
        },
        "id": "lUpWming3D7S",
        "outputId": "1e7d8cbe-d5f0-4250-b6d0-abebd5e5c1ea"
      },
      "execution_count": 4,
      "outputs": [
        {
          "output_type": "stream",
          "name": "stdout",
          "text": [
            "Há 284807 linhas e 31 colunas.\n",
            "Há 0 valores ausentes.\n",
            "Tem-se 492 fraudes\n"
          ]
        }
      ]
    },
    {
      "cell_type": "markdown",
      "source": [
        "Veja que esse dataset não demanda de uma etapa de limpeza por não apresentar valores ausentes. Mas, por outro lado, dentre as 284.807 transações realizadas apenas 492 foram identificadas como fraudes o que nos dá um conjunto de dados extremamente desbalanceado que pode acarretar em uma baixa perfomace para a classe 1 ou até mesmo *overfitting*.\n",
        "\n",
        "Veja abaixo o gráfico demonstrando visualmente a discrepância entre as classes 0 e 1. Bem como a matriz de correlação entre as variáveis nesse conjunto de dados original."
      ],
      "metadata": {
        "id": "xqLLJWpY8wws"
      }
    },
    {
      "cell_type": "code",
      "source": [
        "# Vê o balanceamento das classes\n",
        "\n",
        "ban = df.Class.value_counts(normalize = True) * 100\n",
        "print('As fraudes representam {:.4}% do nosso conjunto de dados\\n'.format(ban[1]))\n",
        "sns.countplot(x = df.Class)\n",
        "plt.ylabel('Quantidade', size = 12)\n",
        "plt.xlabel('Classes', size = 12)\n",
        "plt.xticks([0,1], ['Não Fraudes', 'Fraudes'], size = 10)\n",
        "plt.show()"
      ],
      "metadata": {
        "colab": {
          "base_uri": "https://localhost:8080/",
          "height": 317
        },
        "id": "ssU0YUhvwv9s",
        "outputId": "627e4fae-f4bf-45c4-fc58-8b0dcdfd131c"
      },
      "execution_count": 5,
      "outputs": [
        {
          "output_type": "stream",
          "name": "stdout",
          "text": [
            "As fraudes representam 0.1727% do nosso conjunto de dados\n",
            "\n"
          ]
        },
        {
          "output_type": "display_data",
          "data": {
            "text/plain": [
              "<Figure size 432x288 with 1 Axes>"
            ],
            "image/png": "[encoded data removed]"
          },
          "metadata": {
            "needs_background": "light"
          }
        }
      ]
    },
    {
      "cell_type": "code",
      "source": [
        "# Matriz de Correlação com os Dados das Classes desbalanceados\n",
        "\n",
        "corr = df.corr()\n",
        "fig, ax = plt.subplots(figsize = (10, 7))\n",
        "plt.title('Correlação - Dados Desbalanceados')\n",
        "sns.heatmap(corr, cmap = 'coolwarm' , vmin = -1, vmax =1 , linewidths=0.2, ax = ax)\n",
        "plt.show()"
      ],
      "metadata": {
        "colab": {
          "base_uri": "https://localhost:8080/",
          "height": 474
        },
        "id": "AVT90U4xG940",
        "outputId": "e7a5cf03-431b-4ce5-e0ea-7c848ae5ec48"
      },
      "execution_count": 6,
      "outputs": [
        {
          "output_type": "display_data",
          "data": {
            "text/plain": [
              "<Figure size 720x504 with 2 Axes>"
            ],
            "image/png": "[encoded data removed]"
          },
          "metadata": {
            "needs_background": "light"
          }
        }
      ]
    },
    {
      "cell_type": "markdown",
      "source": [
        "# **PARTE 2 - PREPARANDO OS DADOS**\n",
        "\n",
        "Nesta parte do projeto, para que os dados possam alimentar os modelos que serão feitas as comparações, o dataset passará pelas seguintes etapas:\n",
        "\n",
        "1. **Padronização** - onde as *features* `Time` e `Amount` que estão em outra ordem de grandeza serão padronizadas conforme o restante das *features* do dataset, pois considera-se, devido terem passado pelo processo de PCA, já estarem padronizadas.\n",
        "2. **Dividir em conjuntos de treino e teste** - optou-se pela seguinte divisão: 85% do dados para treino e 15% para testes.\n",
        "3. **Balancear as classes no dados de treino** - com a utilização da técnica de *undersampling* para evitar a baixa perfomace na classe 1 ou *overfitting* e assim generalizar melhor para a classe minoritária que é a representativa das fraudes."
      ],
      "metadata": {
        "id": "M3t5Eq9GBFJR"
      }
    },
    {
      "cell_type": "code",
      "source": [
        "# Padronizar os dados - Colunas Time e Amount\n",
        "\n",
        "df_std = df.copy()\n",
        "df_std['Time'] = StandardScaler().fit_transform(df_std['Time'].values.reshape(-1, 1))\n",
        "df_std['Amount'] = StandardScaler().fit_transform(df_std['Amount'].values.reshape(-1, 1))"
      ],
      "metadata": {
        "id": "eL8KblgHBO4Z"
      },
      "execution_count": 7,
      "outputs": []
    },
    {
      "cell_type": "code",
      "source": [
        "# Separar os dados em feature matrix e target vector\n",
        "\n",
        "x = df_std.drop('Class', axis = 1)\n",
        "y = df_std.Class"
      ],
      "metadata": {
        "id": "f2ARddrIbHey"
      },
      "execution_count": 8,
      "outputs": []
    },
    {
      "cell_type": "code",
      "source": [
        "# Dividir os Dados em Treino e Teste\n",
        "\n",
        "x_train, x_test, y_train, y_test = train_test_split(x, y, test_size = 0.15, stratify = y, shuffle = True)"
      ],
      "metadata": {
        "id": "5gTedmdhayte"
      },
      "execution_count": 9,
      "outputs": []
    },
    {
      "cell_type": "markdown",
      "source": [
        "Perceba que foi usado o parâmetro `stratify = y` para que cada amostra pudesse manter a mesma proporção das classes e assim se comporte de maneira mais semelhante ao conjunto de dados original."
      ],
      "metadata": {
        "id": "-3WivktZ7nzz"
      }
    },
    {
      "cell_type": "code",
      "source": [
        "# Balancear os Dados de treino com Undersampling\n",
        "\n",
        "x_train_us, y_train_us = RandomUnderSampler().fit_resample(x_train, y_train)"
      ],
      "metadata": {
        "id": "demVB-JPYF15"
      },
      "execution_count": 10,
      "outputs": []
    },
    {
      "cell_type": "markdown",
      "source": [
        "Abaixo está o gráfico após o balanceamento das classes, veja como a quantidade de fraudes e não-fraudes estão equilibradas, podendo alimentar os modelos."
      ],
      "metadata": {
        "id": "M5dOXgIi9OL1"
      }
    },
    {
      "cell_type": "code",
      "source": [
        "# Vê o balanceamento das Classes\n",
        "\n",
        "sns.countplot(x = y_train_us)\n",
        "plt.ylabel('Quantidade')\n",
        "plt.xlabel('Classes')\n",
        "plt.xticks([0,1], ['Não Fraudes', 'Fraudes'])\n",
        "plt.show()"
      ],
      "metadata": {
        "colab": {
          "base_uri": "https://localhost:8080/",
          "height": 279
        },
        "id": "hRieKsr_fDyc",
        "outputId": "6b6da742-1f2e-4db4-fded-fbd353efd315"
      },
      "execution_count": 11,
      "outputs": [
        {
          "output_type": "display_data",
          "data": {
            "text/plain": [
              "<Figure size 432x288 with 1 Axes>"
            ],
            "image/png": "[encoded data removed]"
          },
          "metadata": {
            "needs_background": "light"
          }
        }
      ]
    },
    {
      "cell_type": "markdown",
      "source": [
        "E  note a diferença entre a próxima matriz de correlação com a que está acima, agora tem-se a possibilidade de obter muito mais informações depois do balanceamento."
      ],
      "metadata": {
        "id": "yrDdENBo42W7"
      }
    },
    {
      "cell_type": "code",
      "source": [
        "# Matriz de correlação com os dados das Classes balanceados\n",
        "\n",
        "corr = x_train_us.corr()\n",
        "fig, ax = plt.subplots(figsize = (10, 7))\n",
        "plt.title('Correlação - Dados Balanceados')\n",
        "sns.heatmap(corr, cmap = 'coolwarm' , vmin = -1, vmax =1 , linewidths=0.2, ax = ax)\n",
        "plt.show()"
      ],
      "metadata": {
        "colab": {
          "base_uri": "https://localhost:8080/",
          "height": 474
        },
        "id": "UHQeT_BYHlWm",
        "outputId": "640cda39-c0e2-4f5f-afbf-75cef437ad37"
      },
      "execution_count": 12,
      "outputs": [
        {
          "output_type": "display_data",
          "data": {
            "text/plain": [
              "<Figure size 720x504 with 2 Axes>"
            ],
            "image/png": "[encoded data removed]"
          },
          "metadata": {
            "needs_background": "light"
          }
        }
      ]
    },
    {
      "cell_type": "markdown",
      "source": [
        "# **PARTE 3 - MODELOS DE MACHINE LEARNING**\n",
        "\n",
        "Nesta parte serão realizados o treinamento seguido do teste de cada um dos modelos de Machine Learning."
      ],
      "metadata": {
        "id": "fmga0LxJlFwH"
      }
    },
    {
      "cell_type": "markdown",
      "source": [
        "## **REGRESSÃO LOGÍSTICA**\n",
        "\n",
        "Antes de iniciar o treinamento deste modelo, é preciso fazer notar dois pontos:\n",
        "\n",
        "*   É necessário para uma boa perfomace da regressão logística um grande conjunto de dados para o treinamento, porém como foi visto um pouco antes, os dados de treino são reduzidos devido ao balanceamento.\n",
        "*   Também deve haver nenhuma ou pouca multicolinearidade entre as *features*, no entando, veja que na última matriz de correlação ocorre exatamente o contrário.\n",
        "\n",
        "Ciente dessas observações, é muito provável que este modelo tenha seus resultados afetados. Porém, **exatamente neste projeto**, não será abordado o tratamento necessário para que ocorra uma boa perfomace da regressão logística, pois optou-se usar o mesmo conjunto de dados para ambos os modelos a fim de realizar uma **comparação básica** entre os resultados. Certo de que em um ambiente profissional não se deve proceder desta maneira.\n",
        "\n",
        "Com isso dito, abaixo estão os passos do treinamento e teste.\n",
        "\n"
      ],
      "metadata": {
        "id": "-yVjl840lSpL"
      }
    },
    {
      "cell_type": "code",
      "source": [
        "# Instanciar o modelo\n",
        "\n",
        "model_rlog = LogisticRegression()"
      ],
      "metadata": {
        "id": "NkFpN6yNlXfo"
      },
      "execution_count": 13,
      "outputs": []
    },
    {
      "cell_type": "code",
      "source": [
        "# Treinar o Modelo de Regressão Logistica\n",
        "\n",
        "model_rlog.fit(x_train_us, y_train_us)"
      ],
      "metadata": {
        "colab": {
          "base_uri": "https://localhost:8080/"
        },
        "id": "ilZzEDyqmMBX",
        "outputId": "2b18c512-3631-4849-998f-1d2dbffa0103"
      },
      "execution_count": 14,
      "outputs": [
        {
          "output_type": "execute_result",
          "data": {
            "text/plain": [
              "LogisticRegression()"
            ]
          },
          "metadata": {},
          "execution_count": 14
        }
      ]
    },
    {
      "cell_type": "code",
      "source": [
        "# Fazer as previsões em cima dos novos dados\n",
        "\n",
        "y_pred_val = model_rlog.predict(x_test)"
      ],
      "metadata": {
        "id": "dBGH7BiTmbqu"
      },
      "execution_count": 15,
      "outputs": []
    },
    {
      "cell_type": "code",
      "source": [
        "# Vê o relatório de classificação\n",
        "\n",
        "print(classification_report(y_test, y_pred_val))"
      ],
      "metadata": {
        "colab": {
          "base_uri": "https://localhost:8080/"
        },
        "id": "VafBgCXrur_y",
        "outputId": "3f1ae9c6-98ff-4e65-a7da-85766e1be33b"
      },
      "execution_count": 16,
      "outputs": [
        {
          "output_type": "stream",
          "name": "stdout",
          "text": [
            "              precision    recall  f1-score   support\n",
            "\n",
            "           0       1.00      0.97      0.98     42648\n",
            "           1       0.04      0.92      0.08        74\n",
            "\n",
            "    accuracy                           0.97     42722\n",
            "   macro avg       0.52      0.94      0.53     42722\n",
            "weighted avg       1.00      0.97      0.98     42722\n",
            "\n"
          ]
        }
      ]
    },
    {
      "cell_type": "markdown",
      "source": [
        "Neste tipo de problema, com os dados desbalanceados, a acurácia não é uma métrica adequada para avaliar este classificador. Mas perceba que o modelo obteve um *recall* de 0.92, o que é bom, pois indica a relação entre as previsões positivas realizadas corretamente(True Positive - TP) e todas as previsões que realmente são positivas(1).\n",
        "\n",
        "Na matriz da confusão abaixo, o número de verdadeiros positvos(TP) é 68 enquanto o de falsos positivos(False Positive - FP) é 1.481. Em um problema como esse é muito melhor que se tenha um maior número de falsos positivos, isto é, o sistema entende como fraude mas não o é, do que um verdadeiro negativo(é fraude mais o sistema classifica como não-fraude)."
      ],
      "metadata": {
        "id": "1sb8dJImBws1"
      }
    },
    {
      "cell_type": "code",
      "source": [
        "# Matriz da Confusão\n",
        "\n",
        "fig, ax = plt.subplots()\n",
        "sns.heatmap(confusion_matrix(y_test, y_pred_val), ax = ax, annot = True, fmt = '.5g')\n",
        "plt.ylabel('Verdadeiros')\n",
        "plt.xlabel('Previstos')\n",
        "plt.show()"
      ],
      "metadata": {
        "colab": {
          "base_uri": "https://localhost:8080/",
          "height": 279
        },
        "id": "6mv4H0U9nqR1",
        "outputId": "983af8e5-d70b-40b6-fcc0-55e8a7f71c58"
      },
      "execution_count": 17,
      "outputs": [
        {
          "output_type": "display_data",
          "data": {
            "text/plain": [
              "<Figure size 432x288 with 2 Axes>"
            ],
            "image/png": "[encoded data removed]"
          },
          "metadata": {
            "needs_background": "light"
          }
        }
      ]
    },
    {
      "cell_type": "markdown",
      "source": [
        "## **ÁRVORE DE DECISÃO**\n",
        "\n",
        "Abaixo estão os passos para o treinamento e teste da árvore de decisão"
      ],
      "metadata": {
        "id": "j1ijm9bIJdoi"
      }
    },
    {
      "cell_type": "code",
      "source": [
        "# Instanciar o modelo de árvore de decisão\n",
        "\n",
        "model_dtree = DecisionTreeClassifier(criterion='entropy', max_depth= 3)"
      ],
      "metadata": {
        "id": "RaTmWtSwnXj_"
      },
      "execution_count": 18,
      "outputs": []
    },
    {
      "cell_type": "markdown",
      "source": [
        "Aqui foi instanciado o modelo a partir do pacote importado passando alguns hyperparâmetros: `criterion = 'entropy'` para um melhor ganho de informação e `max_depth = 3` que é a profundidade recomendada pelo *Scikit-Learn* para evitar o *overfitting*."
      ],
      "metadata": {
        "id": "yuaRpfbSrJTA"
      }
    },
    {
      "cell_type": "code",
      "source": [
        "# Treinar o modelo com os dados balanceados\n",
        "\n",
        "model_dtree.fit(x_train_us, y_train_us)"
      ],
      "metadata": {
        "colab": {
          "base_uri": "https://localhost:8080/"
        },
        "id": "8BVHncycrXga",
        "outputId": "bfe02bc4-63d4-481d-b940-dcef0539d894"
      },
      "execution_count": 19,
      "outputs": [
        {
          "output_type": "execute_result",
          "data": {
            "text/plain": [
              "DecisionTreeClassifier(criterion='entropy', max_depth=3)"
            ]
          },
          "metadata": {},
          "execution_count": 19
        }
      ]
    },
    {
      "cell_type": "code",
      "source": [
        "# Fazer as previsões em cima dos dados de testes\n",
        "\n",
        "y_pred_dtree = model_dtree.predict(x_test)"
      ],
      "metadata": {
        "id": "5HnMZrzIsSLt"
      },
      "execution_count": 20,
      "outputs": []
    },
    {
      "cell_type": "code",
      "source": [
        "# Vê o relatório de classificação\n",
        "\n",
        "print(classification_report(y_test, y_pred_dtree))"
      ],
      "metadata": {
        "colab": {
          "base_uri": "https://localhost:8080/"
        },
        "id": "vo2v_Uo1s0Ih",
        "outputId": "5a404ab3-c0c4-4d9e-cd31-5b73f073710d"
      },
      "execution_count": 21,
      "outputs": [
        {
          "output_type": "stream",
          "name": "stdout",
          "text": [
            "              precision    recall  f1-score   support\n",
            "\n",
            "           0       1.00      0.94      0.97     42648\n",
            "           1       0.02      0.89      0.05        74\n",
            "\n",
            "    accuracy                           0.94     42722\n",
            "   macro avg       0.51      0.92      0.51     42722\n",
            "weighted avg       1.00      0.94      0.97     42722\n",
            "\n"
          ]
        }
      ]
    },
    {
      "cell_type": "markdown",
      "source": [
        "Como dito antes, a acurácia não é uma boa métrica neste caso. No entanto, observe a recall de 0.89 que o modelo obteve.\n",
        "\n",
        "E veja na matriz de confusão que a árvore obteve resultados um pouco inferiores aos da regressão logistica."
      ],
      "metadata": {
        "id": "qxgMhXLLJDPZ"
      }
    },
    {
      "cell_type": "code",
      "source": [
        "# Matrix da Confusão\n",
        "\n",
        "fig, ax = plt.subplots()\n",
        "sns.heatmap(confusion_matrix(y_test, y_pred_dtree), ax = ax, annot = True, fmt = '.5g')\n",
        "plt.ylabel('Verdadeiros')\n",
        "plt.xlabel('Previstos')\n",
        "plt.show()"
      ],
      "metadata": {
        "colab": {
          "base_uri": "https://localhost:8080/",
          "height": 283
        },
        "id": "0Q9CQwGYt1Y1",
        "outputId": "58027aaf-e90b-4d79-c8cf-cf4b72b837d2"
      },
      "execution_count": 22,
      "outputs": [
        {
          "output_type": "display_data",
          "data": {
            "text/plain": [
              "<Figure size 432x288 with 2 Axes>"
            ],
            "image/png": "[encoded data removed]"
          },
          "metadata": {
            "needs_background": "light"
          }
        }
      ]
    },
    {
      "cell_type": "markdown",
      "source": [
        "# **CONCLUSÃO**\n",
        "\n",
        "Esse problema de fraudes em cartões de crédito certamente estão longe de acabar, sendo necessário investimentos constantes em novas tecnologias e conhecimentos para prevenir essas situações criminosas.\n",
        "\n",
        "Os modelos treinados e testados neste projeto são apenas alguns dos vários existentes e que são muito mais complexos na implementação, com a obtenção de ótimos resultados. \n",
        "\n",
        "E para finalizar, tendo em mente as ressalvas ditas, o modelo de regressão logística teve um melhor **resultado marginal** comparado com a árvore de decisão, só que este último obteve uma maior quantidade de falsos positivos e isso também pode ser bom na prevenção, mas tudo vai depende de como a instituição financeira irá querer abordar o problema visto que é uma situação incomoda para o cliente ter o cartão bloqueado quando não o era pra ser.\n",
        "\n",
        "Obrigado pela leitura!\n"
      ],
      "metadata": {
        "id": "Z1V6xf2VJ0ch"
      }
    }
  ]
}