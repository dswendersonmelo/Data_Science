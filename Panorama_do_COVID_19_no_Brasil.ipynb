{
  "nbformat": 4,
  "nbformat_minor": 0,
  "metadata": {
    "colab": {
      "name": "Panorama do COVID-19 no Brasil",
      "provenance": [],
      "collapsed_sections": [],
      "authorship_tag": "ABX9TyMFXLUvOTEpZkSJ/l4FVytt",
      "include_colab_link": true
    },
    "kernelspec": {
      "name": "python3",
      "display_name": "Python 3"
    },
    "language_info": {
      "name": "python"
    }
  },
  "cells": [
    {
      "cell_type": "markdown",
      "metadata": {
        "id": "view-in-github",
        "colab_type": "text"
      },
      "source": [
        "<a href=\"https://colab.research.google.com/github/dswendersonmelo/Data_Science/blob/main/Panorama_do_COVID_19_no_Brasil.ipynb\" target=\"_parent\"><img src=\"https://colab.research.google.com/assets/colab-badge.svg\" alt=\"Open In Colab\"/></a>"
      ]
    },
    {
      "cell_type": "markdown",
      "source": [
        "# Panorama do COVID-19 no Brasil"
      ],
      "metadata": {
        "id": "psVrAodjgVzR"
      }
    },
    {
      "cell_type": "markdown",
      "source": [
        "## Introdução\n",
        "<center><img alt = \"CovidNoBrasil\" src=\"https://img.olhardigital.com.br/wp-content/uploads/2022/02/Covid-19-1200x450.png\" width=80% ></center>\n",
        "\n",
        "\n",
        "O coronavírus (COVID-19) é uma doença infecciosa causada pelo vírus SARS-CoV-2.E a maioria das pessoas que adoecem em decorrência da COVID-19 apresentam sintomas leves a moderados e se recuperam sem tratamento especial. No entanto, algumas desenvolvem um quadro grave e precisam de atendimento médico.\n",
        "\n",
        "Em 11 de março de 2020, a COVID-19 foi caracterizada pela OMS como uma pandemia. O termo “pandemia” se refere à distribuição geográfica de uma doença e não à sua gravidade. A designação reconhece que, no momento, existem surtos de COVID-19 em vários países e regiões do mundo[¹](https://www.paho.org/pt/covid19/historico-da-pandemia-covid-19#:~:text=Em%2011%20de%20mar%C3%A7o%20de%202020%2C%20a%20COVID%2D19%20foi%C2%A0caracterizada%20pela%20OMS%20como%20uma%20pandemia.%C2%A0O%20termo%20%E2%80%9Cpandemia%E2%80%9D%20se%20refere%20%C3%A0%20distribui%C3%A7%C3%A3o%20geogr%C3%A1fica%20de%20uma%20doen%C3%A7a%20e%20n%C3%A3o%20%C3%A0%20sua%20gravidade.%20A%20designa%C3%A7%C3%A3o%20reconhece%20que%2C%20no%20momento%2C%20existem%20surtos%20de%20COVID%2D19%20em%20v%C3%A1rios%20pa%C3%ADses%20e%20regi%C3%B5es%20do%20mundo.).\n",
        "\n",
        "E com o avanço da vacinação a maior parte dos países, inclusive o Brasil, flexibilizaram as medidas sanitárias restritivas, porém sem deixar de recomendar os cuidados necessários.\n",
        "\n",
        "Com o objetivo de elevar a consciência situacional a respeito do COVID-19 no Brasil, será realizada uma análise exploratória sobre os dados públicos da doença. Primeiramente de uma perspectiva externa, ou seja, em relação aos outros países e em seguida de uma perspectiva interna."
      ],
      "metadata": {
        "id": "gjn9Q-KHgqPD"
      }
    },
    {
      "cell_type": "markdown",
      "source": [
        "## Obtenção Dos Dados\n",
        "\n",
        "A fonte de dados que será utilizada é proveniente da [**Our World In Data**](https://ourworldindata.org/) (OWID) que é uma publicação digital especializada em expor pesquisas empíricas e dados analíticos sobre mudanças nas condições de qualidade de vida ao redor do mundo.\n",
        "\n",
        "Os dados são atualizados constantemente com novas informações e  podem ser obtidos por meio do [link](https://github.com/owid/covid-19-data/tree/master/public/data) disponilizado na página da OWID.\n",
        "\n",
        "E pela data que é feita esta análise, estará disponível no [GitHub](https://github.com/dswendersonmelo/Data_Science/blob/main/owid-covid-data.zip) o arquivo csv utilizado para que não ocorra a quebra do código e de tudo o mais que dependa dele, caso você queira executar os mesmos. "
      ],
      "metadata": {
        "id": "Jpm7PbBhtsQx"
      }
    },
    {
      "cell_type": "markdown",
      "source": [
        "### Dicionário das Variáveis\n",
        "\n",
        "Esta etapa visa ganhar uma compreensão das variáveis e como elas estão estruturadas. As descrições completas e as fontes de obtenção dos dados para cada variável estão disponíveis neste [link](https://github.com/owid/covid-19-data/blob/master/public/data/owid-covid-codebook.csv)."
      ],
      "metadata": {
        "id": "RwmoUknb3Xsl"
      }
    },
    {
      "cell_type": "markdown",
      "source": [
        "\n",
        "* `iso_code`: Códigos de país de três letras.\n",
        "* `continent`: Continente da localização geográfica.\n",
        "* `location`: Localização geográfica.\n",
        "* `date`: Data da observação.\n",
        "* `total_cases`: Total de casos confirmados de COVID-19. As contagens podem incluir casos prováveis, quando relatados.\n",
        "* `new_cases`: Novos casos confirmados de COVID-19. As contagens podem incluir casos prováveis, quando relatados. Em casos raros em que a fonte relata uma mudança diária negativa devido a uma correção de dados, definimos essa métrica como NA.\n",
        "* `new_cases_smoothed`: Novos casos confirmados de COVID-19 (suavizado de 7 dias). As contagens podem incluir casos prováveis, quando relatados.\n",
        "* `total_deaths`: Total de mortes atribuídas ao COVID-19. As contagens podem incluir mortes prováveis, quando relatadas.\n",
        "* `new_deaths`: Novas mortes atribuídas ao COVID-19. As contagens podem incluir mortes prováveis, quando relatadas. Em casos raros em que nossa fonte relata uma mudança diária negativa devido a uma correção de dados, definimos essa métrica como NA.\n",
        "* `new_deaths_smoothed`: Novas mortes atribuídas ao COVID-19 (suavizado de 7 dias). As contagens podem incluir mortes prováveis, quando relatadas.\n",
        "* `total_cases_per_million`: Total de casos confirmados de COVID-19 por 1.000.000 de pessoas. As contagens podem incluir casos prováveis, quando relatados.\n",
        "* `new_cases_per_million`: Novos casos confirmados de COVID-19 por 1.000.000 de pessoas. As contagens podem incluir casos prováveis, quando relatados.\n",
        "* `new_cases_smoothed_per_million`: Novos casos confirmados de COVID-19 (suavizado em 7 dias) por 1.000.000 de pessoas. As contagens podem incluir casos prováveis, quando relatados.\n",
        "* `total_deaths_per_million`:Total de mortes atribuídas ao COVID-19 por 1.000.000 de pessoas. As contagens podem incluir mortes prováveis, quando relatadas.\n",
        "* `new_deaths_per_million`: Novas mortes atribuídas ao COVID-19 por 1.000.000 de pessoas. As contagens podem incluir mortes prováveis, quando relatadas.\n",
        "* `new_deaths_smoothed_per_million`: Novas mortes atribuídas ao COVID-19 (suavizado de 7 dias) por 1.000.000 de pessoas. As contagens podem incluir mortes prováveis, quando relatadas.\n",
        "* `reproduction_rate`: Estimativa em tempo real da taxa efetiva de reprodução (R) do COVID-19.\n",
        "* `icu_patients`: Número de pacientes com COVID-19 em unidades de terapia intensiva (UTIs) em um determinado dia.\n",
        "* `icu_patients_per_million`: Número de pacientes com COVID-19 em unidades de terapia intensiva (UTIs) em um determinado dia por 1.000.000 pessoas.\n",
        "* `hosp_patients`: Número de pacientes com COVID-19 no hospital em um determinado dia.\n",
        "* `hosp_patients_per_million`: Número de pacientes com COVID-19 no hospital em um determinado dia por 1.000.000 de pessoas.\n",
        "* `weekly_icu_admissions`: Número de pacientes com COVID-19 recém-admitidos em unidades de terapia intensiva (UTIs) em uma determinada semana.\n",
        "* `weekly_icu_admissions_per_million`: Número de pacientes com COVID-19 recém-admitidos em unidades de terapia intensiva (UTIs) em uma determinada semana por 1.000.000 de pessoas.\n",
        "* `weekly_hosp_admissions`: Número de pacientes com COVID-19 recém-admitidos em hospitais em uma determinada semana.\n",
        "* `weekly_hosp_admissions_per_million`: Número de pacientes com COVID-19 recém-admitidos em hospitais em uma determinada semana por 1.000.000 de pessoas.\n",
        "* `total_tests`: Total de testes para COVID-19.\n",
        "* `new_tests`: Novos testes para COVID-19 (calculado apenas para dias consecutivos).\n",
        "* `total_tests_per_thousand`: Total de testes para COVID-19 por 1.000 pessoas.\n",
        "* `new_tests_per_thousand`: Novos testes para COVID-19 por 1.000 pessoas.\n",
        "* `new_tests_smoothed`: Novos testes para COVID-19 (suavizado de 7 dias).\n",
        "* `new_tests_smoothed_per_thousand`: Novos testes para COVID-19 (suavizado de 7 dias) por 1.000 pessoas.\n",
        "* `positive_rate`: A parcela de testes COVID-19 positivos, dada como uma média contínua de 7 dias (este é o inverso de tests_per_case).\n",
        "* `tests_per_case`: Testes realizados por novo caso confirmado de COVID-19, dados como uma média contínua de 7 dias (este é o inverso de positive_rate).\n",
        "* `tests_units`: Unidades usadas pelo local para relatar seus dados de teste.\n",
        "* `total_vaccinations`: Número total de doses de vacinação COVID-19 administradas.\n",
        "* `people_vaccinated`: \tNúmero total de pessoas que receberam pelo menos uma dose de vacina.\n",
        "* `people_fully_vaccinated`: Número total de pessoas que receberam todas as doses prescritas pelo protocolo de vacinação inicial.\n",
        "* `total_boosters`: Número total de doses de reforço de vacinação COVID-19 administradas (doses administradas além do número prescrito pelo protocolo de vacinação).\n",
        "* `new_vaccinations`: \tNovas doses de vacinação COVID-19 administradas (calculadas apenas para dias consecutivos).\n",
        "* `new_vaccinations_smoothed`: Novas doses de vacinação COVID-19 administradas (suavizado por 7 dias). \n",
        "* `total_vaccinations_per_hundred`: Número total de doses de vacinação COVID-19 administradas por 100 pessoas na população total.\n",
        "* `people_vaccinated_per_hundred`: Número total de pessoas que receberam pelo menos uma dose de vacina por 100 pessoas na população total.\n",
        "* `people_fully_vaccinated_per_hundred`: \tNúmero total de pessoas que receberam todas as doses prescritas pelo protocolo de vacinação inicial por 100 pessoas na população total\n",
        "* `total_boosters_per_hundred`: Número total de doses de reforço de vacinação COVID-19 administradas por 100 pessoas na população total.\n",
        "* `new_vaccinations_smoothed_per_million`: \tNovas doses de vacinação COVID-19 administradas (suavizadas em 7 dias) por 1.000.000 de pessoas na população total.\n",
        "* `new_people_vaccinated_smoothed`: Número diário de pessoas que recebem sua primeira dose de vacina (suavizado de 7 dias).\n",
        "* `new_people_vaccinated_smoothed_per_hundred`: Número diário de pessoas que recebem sua primeira dose de vacina (suavizado de 7 dias) por 100 pessoas na população total.\n",
        "* `stringency_index`: Índice de Rigidez de Resposta do Governo.\n",
        "* `population`: População (últimos valores disponíveis).\n",
        "* `population_density`: \tNúmero de pessoas dividido por área de terra, medido em quilômetros quadrados, ano mais recente disponível.\n",
        "* `median_age`: Idade média da população, projeção da ONU para 2020.\n",
        "* `aged_65_older`: Parcela da população com 65 anos ou mais, ano mais recente disponível.\n",
        "* `aged_70_older`: Parcela da população com 70 anos ou mais em 2015.\n",
        "* `gdp_per_capita`: Produto interno bruto em paridade de poder de compra (dólares internacionais constantes de 2011), ano mais recente disponível.\n",
        "* `extreme_poverty`: Percentual da população que vive em extrema pobreza, ano mais recente disponível desde 2010.\n",
        "* `cardiovasc_death_rate`: Taxa de mortalidade por doença cardiovascular em 2017 (número anual de mortes por 100.000 pessoas).\n",
        "* `diabetes_prevalence`: Prevalência de diabetes (% da população de 20 a 79 anos) em 2017.\n",
        "* `female_smokers`: \tProporção de mulheres que fumam, ano mais recente disponível.\n",
        "* `male_smokers`: Proporção de homens que fumam, ano mais recente disponível.\n",
        "* `handwashing_facilities`:\tPercentagem da população com instalações básicas de lavagem das mãos nas instalações, ano mais recente disponível.\n",
        "* `hospital_beds_per_thousand`: Camas hospitalares por 1.000 pessoas, ano mais recente disponível desde 2010.\n",
        "* `life_expectancy`: Expectativa de vida ao nascer em 2019.\n",
        "* `human_development_index`: Um índice composto que mede o desempenho médio em três dimensões básicas do desenvolvimento humano – uma vida longa e saudável, conhecimento e um padrão de vida decente.\n",
        "* `excess_mortality_cumulative_absolute`: Diferença cumulativa entre o número relatado de óbitos desde 1º de janeiro de 2020 e o número projetado de óbitos para o mesmo período com base em anos anteriores.\n",
        "* `excess_mortality_cumulative`: Diferença percentual entre o número acumulado de mortes desde 1 de janeiro de 2020 e as mortes cumulativas projetadas para o mesmo período com base em anos anteriores.\n",
        "* `excess_mortality`: Diferença percentual entre o número relatado de mortes semanais ou mensais em 2020–2021 e o número projetado de mortes para o mesmo período com base em anos anteriores.\n",
        "* `excess_mortality_cumulative_per_million`: Diferença cumulativa entre o número relatado de mortes desde 1º de janeiro de 2020 e o número projetado de mortes para o mesmo período com base em anos anteriores, por milhão de pessoas.\n",
        "\n",
        "\n"
      ],
      "metadata": {
        "id": "N4ttOaWoTMFo"
      }
    },
    {
      "cell_type": "markdown",
      "source": [
        "### Importação dos Dados do COVID-19\n"
      ],
      "metadata": {
        "id": "cNDVyqxUji0C"
      }
    },
    {
      "cell_type": "code",
      "source": [
        "# Importar as bibliotecas necessárias\n",
        "\n",
        "import pandas as pd\n",
        "import matplotlib.pyplot as plt\n",
        "import seaborn as sns\n",
        "\n",
        "%matplotlib inline"
      ],
      "metadata": {
        "id": "E11YfVE2V7AL"
      },
      "execution_count": 144,
      "outputs": []
    },
    {
      "cell_type": "code",
      "source": [
        "# Importar o Arquivo csv para o DataFrame\n",
        "\n",
        "df = pd.read_csv('https://github.com/dswendersonmelo/Data_Science/raw/main/Arquivos_Projetos/owid-covid-data.zip')"
      ],
      "metadata": {
        "id": "qEYXNrralNMZ"
      },
      "execution_count": 145,
      "outputs": []
    },
    {
      "cell_type": "markdown",
      "source": [
        "## Análise Exploratória dos Dados\n",
        "\n",
        "Como afirmado na introdução, esta etapa será dividida em duas perspectivas. A primeira é a perspectiva mundial e como o Brasil está situado entre os outros países e a segunda é uma análise com ênfase somente no Brasil.\n",
        "\n",
        "Mas antes, é importante conhecer a estrutura do dataset e como os dados estão dispostos, para isso as seguintes características serão investigadas:\n",
        "\n",
        "* As 5 primerias entradas e 5 últimas entradas\n",
        "* Dimensões do DataSet\n",
        "* Os tipos das variáveis\n",
        "* Dados ausentos\n"
      ],
      "metadata": {
        "id": "VPTXky3Dl4bY"
      }
    },
    {
      "cell_type": "markdown",
      "source": [
        "### As 5 Primerias Entradas e 5 Últimas Entradas"
      ],
      "metadata": {
        "id": "GKCaVUsdq9y8"
      }
    },
    {
      "cell_type": "code",
      "source": [
        "# \"Cabeça\" do DataSet\n",
        "df.head()"
      ],
      "metadata": {
        "colab": {
          "base_uri": "https://localhost:8080/",
          "height": 386
        },
        "id": "JcK2fa6PrJRU",
        "outputId": "fc6a2ef6-9883-4ba4-aa19-405ac21fb51f"
      },
      "execution_count": 146,
      "outputs": [
        {
          "output_type": "execute_result",
          "data": {
            "text/plain": [
              "  iso_code continent     location        date  total_cases  new_cases  \\\n",
              "0      AFG      Asia  Afghanistan  2020-02-24          5.0        5.0   \n",
              "1      AFG      Asia  Afghanistan  2020-02-25          5.0        0.0   \n",
              "2      AFG      Asia  Afghanistan  2020-02-26          5.0        0.0   \n",
              "3      AFG      Asia  Afghanistan  2020-02-27          5.0        0.0   \n",
              "4      AFG      Asia  Afghanistan  2020-02-28          5.0        0.0   \n",
              "\n",
              "   new_cases_smoothed  total_deaths  new_deaths  new_deaths_smoothed  ...  \\\n",
              "0                 NaN           NaN         NaN                  NaN  ...   \n",
              "1                 NaN           NaN         NaN                  NaN  ...   \n",
              "2                 NaN           NaN         NaN                  NaN  ...   \n",
              "3                 NaN           NaN         NaN                  NaN  ...   \n",
              "4                 NaN           NaN         NaN                  NaN  ...   \n",
              "\n",
              "   female_smokers  male_smokers  handwashing_facilities  \\\n",
              "0             NaN           NaN                  37.746   \n",
              "1             NaN           NaN                  37.746   \n",
              "2             NaN           NaN                  37.746   \n",
              "3             NaN           NaN                  37.746   \n",
              "4             NaN           NaN                  37.746   \n",
              "\n",
              "   hospital_beds_per_thousand  life_expectancy  human_development_index  \\\n",
              "0                         0.5            64.83                    0.511   \n",
              "1                         0.5            64.83                    0.511   \n",
              "2                         0.5            64.83                    0.511   \n",
              "3                         0.5            64.83                    0.511   \n",
              "4                         0.5            64.83                    0.511   \n",
              "\n",
              "   excess_mortality_cumulative_absolute  excess_mortality_cumulative  \\\n",
              "0                                   NaN                          NaN   \n",
              "1                                   NaN                          NaN   \n",
              "2                                   NaN                          NaN   \n",
              "3                                   NaN                          NaN   \n",
              "4                                   NaN                          NaN   \n",
              "\n",
              "   excess_mortality  excess_mortality_cumulative_per_million  \n",
              "0               NaN                                      NaN  \n",
              "1               NaN                                      NaN  \n",
              "2               NaN                                      NaN  \n",
              "3               NaN                                      NaN  \n",
              "4               NaN                                      NaN  \n",
              "\n",
              "[5 rows x 67 columns]"
            ],
            "text/html": [
              "\n",
              "  <div id=\"df-cccef935-0c60-45d4-8a1d-4abb92a8ef05\">\n",
              "    <div class=\"colab-df-container\">\n",
              "      <div>\n",
              "<style scoped>\n",
              "    .dataframe tbody tr th:only-of-type {\n",
              "        vertical-align: middle;\n",
              "    }\n",
              "\n",
              "    .dataframe tbody tr th {\n",
              "        vertical-align: top;\n",
              "    }\n",
              "\n",
              "    .dataframe thead th {\n",
              "        text-align: right;\n",
              "    }\n",
              "</style>\n",
              "<table border=\"1\" class=\"dataframe\">\n",
              "  <thead>\n",
              "    <tr style=\"text-align: right;\">\n",
              "      <th></th>\n",
              "      <th>iso_code</th>\n",
              "      <th>continent</th>\n",
              "      <th>location</th>\n",
              "      <th>date</th>\n",
              "      <th>total_cases</th>\n",
              "      <th>new_cases</th>\n",
              "      <th>new_cases_smoothed</th>\n",
              "      <th>total_deaths</th>\n",
              "      <th>new_deaths</th>\n",
              "      <th>new_deaths_smoothed</th>\n",
              "      <th>...</th>\n",
              "      <th>female_smokers</th>\n",
              "      <th>male_smokers</th>\n",
              "      <th>handwashing_facilities</th>\n",
              "      <th>hospital_beds_per_thousand</th>\n",
              "      <th>life_expectancy</th>\n",
              "      <th>human_development_index</th>\n",
              "      <th>excess_mortality_cumulative_absolute</th>\n",
              "      <th>excess_mortality_cumulative</th>\n",
              "      <th>excess_mortality</th>\n",
              "      <th>excess_mortality_cumulative_per_million</th>\n",
              "    </tr>\n",
              "  </thead>\n",
              "  <tbody>\n",
              "    <tr>\n",
              "      <th>0</th>\n",
              "      <td>AFG</td>\n",
              "      <td>Asia</td>\n",
              "      <td>Afghanistan</td>\n",
              "      <td>2020-02-24</td>\n",
              "      <td>5.0</td>\n",
              "      <td>5.0</td>\n",
              "      <td>NaN</td>\n",
              "      <td>NaN</td>\n",
              "      <td>NaN</td>\n",
              "      <td>NaN</td>\n",
              "      <td>...</td>\n",
              "      <td>NaN</td>\n",
              "      <td>NaN</td>\n",
              "      <td>37.746</td>\n",
              "      <td>0.5</td>\n",
              "      <td>64.83</td>\n",
              "      <td>0.511</td>\n",
              "      <td>NaN</td>\n",
              "      <td>NaN</td>\n",
              "      <td>NaN</td>\n",
              "      <td>NaN</td>\n",
              "    </tr>\n",
              "    <tr>\n",
              "      <th>1</th>\n",
              "      <td>AFG</td>\n",
              "      <td>Asia</td>\n",
              "      <td>Afghanistan</td>\n",
              "      <td>2020-02-25</td>\n",
              "      <td>5.0</td>\n",
              "      <td>0.0</td>\n",
              "      <td>NaN</td>\n",
              "      <td>NaN</td>\n",
              "      <td>NaN</td>\n",
              "      <td>NaN</td>\n",
              "      <td>...</td>\n",
              "      <td>NaN</td>\n",
              "      <td>NaN</td>\n",
              "      <td>37.746</td>\n",
              "      <td>0.5</td>\n",
              "      <td>64.83</td>\n",
              "      <td>0.511</td>\n",
              "      <td>NaN</td>\n",
              "      <td>NaN</td>\n",
              "      <td>NaN</td>\n",
              "      <td>NaN</td>\n",
              "    </tr>\n",
              "    <tr>\n",
              "      <th>2</th>\n",
              "      <td>AFG</td>\n",
              "      <td>Asia</td>\n",
              "      <td>Afghanistan</td>\n",
              "      <td>2020-02-26</td>\n",
              "      <td>5.0</td>\n",
              "      <td>0.0</td>\n",
              "      <td>NaN</td>\n",
              "      <td>NaN</td>\n",
              "      <td>NaN</td>\n",
              "      <td>NaN</td>\n",
              "      <td>...</td>\n",
              "      <td>NaN</td>\n",
              "      <td>NaN</td>\n",
              "      <td>37.746</td>\n",
              "      <td>0.5</td>\n",
              "      <td>64.83</td>\n",
              "      <td>0.511</td>\n",
              "      <td>NaN</td>\n",
              "      <td>NaN</td>\n",
              "      <td>NaN</td>\n",
              "      <td>NaN</td>\n",
              "    </tr>\n",
              "    <tr>\n",
              "      <th>3</th>\n",
              "      <td>AFG</td>\n",
              "      <td>Asia</td>\n",
              "      <td>Afghanistan</td>\n",
              "      <td>2020-02-27</td>\n",
              "      <td>5.0</td>\n",
              "      <td>0.0</td>\n",
              "      <td>NaN</td>\n",
              "      <td>NaN</td>\n",
              "      <td>NaN</td>\n",
              "      <td>NaN</td>\n",
              "      <td>...</td>\n",
              "      <td>NaN</td>\n",
              "      <td>NaN</td>\n",
              "      <td>37.746</td>\n",
              "      <td>0.5</td>\n",
              "      <td>64.83</td>\n",
              "      <td>0.511</td>\n",
              "      <td>NaN</td>\n",
              "      <td>NaN</td>\n",
              "      <td>NaN</td>\n",
              "      <td>NaN</td>\n",
              "    </tr>\n",
              "    <tr>\n",
              "      <th>4</th>\n",
              "      <td>AFG</td>\n",
              "      <td>Asia</td>\n",
              "      <td>Afghanistan</td>\n",
              "      <td>2020-02-28</td>\n",
              "      <td>5.0</td>\n",
              "      <td>0.0</td>\n",
              "      <td>NaN</td>\n",
              "      <td>NaN</td>\n",
              "      <td>NaN</td>\n",
              "      <td>NaN</td>\n",
              "      <td>...</td>\n",
              "      <td>NaN</td>\n",
              "      <td>NaN</td>\n",
              "      <td>37.746</td>\n",
              "      <td>0.5</td>\n",
              "      <td>64.83</td>\n",
              "      <td>0.511</td>\n",
              "      <td>NaN</td>\n",
              "      <td>NaN</td>\n",
              "      <td>NaN</td>\n",
              "      <td>NaN</td>\n",
              "    </tr>\n",
              "  </tbody>\n",
              "</table>\n",
              "<p>5 rows × 67 columns</p>\n",
              "</div>\n",
              "      <button class=\"colab-df-convert\" onclick=\"convertToInteractive('df-cccef935-0c60-45d4-8a1d-4abb92a8ef05')\"\n",
              "              title=\"Convert this dataframe to an interactive table.\"\n",
              "              style=\"display:none;\">\n",
              "        \n",
              "  <svg xmlns=\"http://www.w3.org/2000/svg\" height=\"24px\"viewBox=\"0 0 24 24\"\n",
              "       width=\"24px\">\n",
              "    <path d=\"M0 0h24v24H0V0z\" fill=\"none\"/>\n",
              "    <path d=\"M18.56 5.44l.94 2.06.94-2.06 2.06-.94-2.06-.94-.94-2.06-.94 2.06-2.06.94zm-11 1L8.5 8.5l.94-2.06 2.06-.94-2.06-.94L8.5 2.5l-.94 2.06-2.06.94zm10 10l.94 2.06.94-2.06 2.06-.94-2.06-.94-.94-2.06-.94 2.06-2.06.94z\"/><path d=\"M17.41 7.96l-1.37-1.37c-.4-.4-.92-.59-1.43-.59-.52 0-1.04.2-1.43.59L10.3 9.45l-7.72 7.72c-.78.78-.78 2.05 0 2.83L4 21.41c.39.39.9.59 1.41.59.51 0 1.02-.2 1.41-.59l7.78-7.78 2.81-2.81c.8-.78.8-2.07 0-2.86zM5.41 20L4 18.59l7.72-7.72 1.47 1.35L5.41 20z\"/>\n",
              "  </svg>\n",
              "      </button>\n",
              "      \n",
              "  <style>\n",
              "    .colab-df-container {\n",
              "      display:flex;\n",
              "      flex-wrap:wrap;\n",
              "      gap: 12px;\n",
              "    }\n",
              "\n",
              "    .colab-df-convert {\n",
              "      background-color: #E8F0FE;\n",
              "      border: none;\n",
              "      border-radius: 50%;\n",
              "      cursor: pointer;\n",
              "      display: none;\n",
              "      fill: #1967D2;\n",
              "      height: 32px;\n",
              "      padding: 0 0 0 0;\n",
              "      width: 32px;\n",
              "    }\n",
              "\n",
              "    .colab-df-convert:hover {\n",
              "      background-color: #E2EBFA;\n",
              "      box-shadow: 0px 1px 2px rgba(60, 64, 67, 0.3), 0px 1px 3px 1px rgba(60, 64, 67, 0.15);\n",
              "      fill: #174EA6;\n",
              "    }\n",
              "\n",
              "    [theme=dark] .colab-df-convert {\n",
              "      background-color: #3B4455;\n",
              "      fill: #D2E3FC;\n",
              "    }\n",
              "\n",
              "    [theme=dark] .colab-df-convert:hover {\n",
              "      background-color: #434B5C;\n",
              "      box-shadow: 0px 1px 3px 1px rgba(0, 0, 0, 0.15);\n",
              "      filter: drop-shadow(0px 1px 2px rgba(0, 0, 0, 0.3));\n",
              "      fill: #FFFFFF;\n",
              "    }\n",
              "  </style>\n",
              "\n",
              "      <script>\n",
              "        const buttonEl =\n",
              "          document.querySelector('#df-cccef935-0c60-45d4-8a1d-4abb92a8ef05 button.colab-df-convert');\n",
              "        buttonEl.style.display =\n",
              "          google.colab.kernel.accessAllowed ? 'block' : 'none';\n",
              "\n",
              "        async function convertToInteractive(key) {\n",
              "          const element = document.querySelector('#df-cccef935-0c60-45d4-8a1d-4abb92a8ef05');\n",
              "          const dataTable =\n",
              "            await google.colab.kernel.invokeFunction('convertToInteractive',\n",
              "                                                     [key], {});\n",
              "          if (!dataTable) return;\n",
              "\n",
              "          const docLinkHtml = 'Like what you see? Visit the ' +\n",
              "            '<a target=\"_blank\" href=https://colab.research.google.com/notebooks/data_table.ipynb>data table notebook</a>'\n",
              "            + ' to learn more about interactive tables.';\n",
              "          element.innerHTML = '';\n",
              "          dataTable['output_type'] = 'display_data';\n",
              "          await google.colab.output.renderOutput(dataTable, element);\n",
              "          const docLink = document.createElement('div');\n",
              "          docLink.innerHTML = docLinkHtml;\n",
              "          element.appendChild(docLink);\n",
              "        }\n",
              "      </script>\n",
              "    </div>\n",
              "  </div>\n",
              "  "
            ]
          },
          "metadata": {},
          "execution_count": 146
        }
      ]
    },
    {
      "cell_type": "code",
      "source": [
        "# A \"cauda\" do DataSet\n",
        "df.tail()"
      ],
      "metadata": {
        "colab": {
          "base_uri": "https://localhost:8080/",
          "height": 386
        },
        "id": "LZ_nfP-mW8Py",
        "outputId": "b181445d-a73e-4b30-f33b-6abdc1928393"
      },
      "execution_count": 147,
      "outputs": [
        {
          "output_type": "execute_result",
          "data": {
            "text/plain": [
              "       iso_code continent  location        date  total_cases  new_cases  \\\n",
              "187092      ZWE    Africa  Zimbabwe  2022-05-12     248943.0      301.0   \n",
              "187093      ZWE    Africa  Zimbabwe  2022-05-13     249131.0      188.0   \n",
              "187094      ZWE    Africa  Zimbabwe  2022-05-14     249206.0       75.0   \n",
              "187095      ZWE    Africa  Zimbabwe  2022-05-15     249206.0        0.0   \n",
              "187096      ZWE    Africa  Zimbabwe  2022-05-16     249431.0      225.0   \n",
              "\n",
              "        new_cases_smoothed  total_deaths  new_deaths  new_deaths_smoothed  \\\n",
              "187092             127.571        5481.0         0.0                1.429   \n",
              "187093             131.000        5482.0         1.0                1.286   \n",
              "187094             141.714        5482.0         0.0                1.286   \n",
              "187095             122.000        5482.0         0.0                0.857   \n",
              "187096             127.857        5484.0         2.0                0.714   \n",
              "\n",
              "        ...  female_smokers  male_smokers  handwashing_facilities  \\\n",
              "187092  ...             1.6          30.7                  36.791   \n",
              "187093  ...             1.6          30.7                  36.791   \n",
              "187094  ...             1.6          30.7                  36.791   \n",
              "187095  ...             1.6          30.7                  36.791   \n",
              "187096  ...             1.6          30.7                  36.791   \n",
              "\n",
              "        hospital_beds_per_thousand  life_expectancy  human_development_index  \\\n",
              "187092                         1.7            61.49                    0.571   \n",
              "187093                         1.7            61.49                    0.571   \n",
              "187094                         1.7            61.49                    0.571   \n",
              "187095                         1.7            61.49                    0.571   \n",
              "187096                         1.7            61.49                    0.571   \n",
              "\n",
              "        excess_mortality_cumulative_absolute  excess_mortality_cumulative  \\\n",
              "187092                                   NaN                          NaN   \n",
              "187093                                   NaN                          NaN   \n",
              "187094                                   NaN                          NaN   \n",
              "187095                                   NaN                          NaN   \n",
              "187096                                   NaN                          NaN   \n",
              "\n",
              "        excess_mortality  excess_mortality_cumulative_per_million  \n",
              "187092               NaN                                      NaN  \n",
              "187093               NaN                                      NaN  \n",
              "187094               NaN                                      NaN  \n",
              "187095               NaN                                      NaN  \n",
              "187096               NaN                                      NaN  \n",
              "\n",
              "[5 rows x 67 columns]"
            ],
            "text/html": [
              "\n",
              "  <div id=\"df-961e3807-d156-4256-9556-f20c01f728d9\">\n",
              "    <div class=\"colab-df-container\">\n",
              "      <div>\n",
              "<style scoped>\n",
              "    .dataframe tbody tr th:only-of-type {\n",
              "        vertical-align: middle;\n",
              "    }\n",
              "\n",
              "    .dataframe tbody tr th {\n",
              "        vertical-align: top;\n",
              "    }\n",
              "\n",
              "    .dataframe thead th {\n",
              "        text-align: right;\n",
              "    }\n",
              "</style>\n",
              "<table border=\"1\" class=\"dataframe\">\n",
              "  <thead>\n",
              "    <tr style=\"text-align: right;\">\n",
              "      <th></th>\n",
              "      <th>iso_code</th>\n",
              "      <th>continent</th>\n",
              "      <th>location</th>\n",
              "      <th>date</th>\n",
              "      <th>total_cases</th>\n",
              "      <th>new_cases</th>\n",
              "      <th>new_cases_smoothed</th>\n",
              "      <th>total_deaths</th>\n",
              "      <th>new_deaths</th>\n",
              "      <th>new_deaths_smoothed</th>\n",
              "      <th>...</th>\n",
              "      <th>female_smokers</th>\n",
              "      <th>male_smokers</th>\n",
              "      <th>handwashing_facilities</th>\n",
              "      <th>hospital_beds_per_thousand</th>\n",
              "      <th>life_expectancy</th>\n",
              "      <th>human_development_index</th>\n",
              "      <th>excess_mortality_cumulative_absolute</th>\n",
              "      <th>excess_mortality_cumulative</th>\n",
              "      <th>excess_mortality</th>\n",
              "      <th>excess_mortality_cumulative_per_million</th>\n",
              "    </tr>\n",
              "  </thead>\n",
              "  <tbody>\n",
              "    <tr>\n",
              "      <th>187092</th>\n",
              "      <td>ZWE</td>\n",
              "      <td>Africa</td>\n",
              "      <td>Zimbabwe</td>\n",
              "      <td>2022-05-12</td>\n",
              "      <td>248943.0</td>\n",
              "      <td>301.0</td>\n",
              "      <td>127.571</td>\n",
              "      <td>5481.0</td>\n",
              "      <td>0.0</td>\n",
              "      <td>1.429</td>\n",
              "      <td>...</td>\n",
              "      <td>1.6</td>\n",
              "      <td>30.7</td>\n",
              "      <td>36.791</td>\n",
              "      <td>1.7</td>\n",
              "      <td>61.49</td>\n",
              "      <td>0.571</td>\n",
              "      <td>NaN</td>\n",
              "      <td>NaN</td>\n",
              "      <td>NaN</td>\n",
              "      <td>NaN</td>\n",
              "    </tr>\n",
              "    <tr>\n",
              "      <th>187093</th>\n",
              "      <td>ZWE</td>\n",
              "      <td>Africa</td>\n",
              "      <td>Zimbabwe</td>\n",
              "      <td>2022-05-13</td>\n",
              "      <td>249131.0</td>\n",
              "      <td>188.0</td>\n",
              "      <td>131.000</td>\n",
              "      <td>5482.0</td>\n",
              "      <td>1.0</td>\n",
              "      <td>1.286</td>\n",
              "      <td>...</td>\n",
              "      <td>1.6</td>\n",
              "      <td>30.7</td>\n",
              "      <td>36.791</td>\n",
              "      <td>1.7</td>\n",
              "      <td>61.49</td>\n",
              "      <td>0.571</td>\n",
              "      <td>NaN</td>\n",
              "      <td>NaN</td>\n",
              "      <td>NaN</td>\n",
              "      <td>NaN</td>\n",
              "    </tr>\n",
              "    <tr>\n",
              "      <th>187094</th>\n",
              "      <td>ZWE</td>\n",
              "      <td>Africa</td>\n",
              "      <td>Zimbabwe</td>\n",
              "      <td>2022-05-14</td>\n",
              "      <td>249206.0</td>\n",
              "      <td>75.0</td>\n",
              "      <td>141.714</td>\n",
              "      <td>5482.0</td>\n",
              "      <td>0.0</td>\n",
              "      <td>1.286</td>\n",
              "      <td>...</td>\n",
              "      <td>1.6</td>\n",
              "      <td>30.7</td>\n",
              "      <td>36.791</td>\n",
              "      <td>1.7</td>\n",
              "      <td>61.49</td>\n",
              "      <td>0.571</td>\n",
              "      <td>NaN</td>\n",
              "      <td>NaN</td>\n",
              "      <td>NaN</td>\n",
              "      <td>NaN</td>\n",
              "    </tr>\n",
              "    <tr>\n",
              "      <th>187095</th>\n",
              "      <td>ZWE</td>\n",
              "      <td>Africa</td>\n",
              "      <td>Zimbabwe</td>\n",
              "      <td>2022-05-15</td>\n",
              "      <td>249206.0</td>\n",
              "      <td>0.0</td>\n",
              "      <td>122.000</td>\n",
              "      <td>5482.0</td>\n",
              "      <td>0.0</td>\n",
              "      <td>0.857</td>\n",
              "      <td>...</td>\n",
              "      <td>1.6</td>\n",
              "      <td>30.7</td>\n",
              "      <td>36.791</td>\n",
              "      <td>1.7</td>\n",
              "      <td>61.49</td>\n",
              "      <td>0.571</td>\n",
              "      <td>NaN</td>\n",
              "      <td>NaN</td>\n",
              "      <td>NaN</td>\n",
              "      <td>NaN</td>\n",
              "    </tr>\n",
              "    <tr>\n",
              "      <th>187096</th>\n",
              "      <td>ZWE</td>\n",
              "      <td>Africa</td>\n",
              "      <td>Zimbabwe</td>\n",
              "      <td>2022-05-16</td>\n",
              "      <td>249431.0</td>\n",
              "      <td>225.0</td>\n",
              "      <td>127.857</td>\n",
              "      <td>5484.0</td>\n",
              "      <td>2.0</td>\n",
              "      <td>0.714</td>\n",
              "      <td>...</td>\n",
              "      <td>1.6</td>\n",
              "      <td>30.7</td>\n",
              "      <td>36.791</td>\n",
              "      <td>1.7</td>\n",
              "      <td>61.49</td>\n",
              "      <td>0.571</td>\n",
              "      <td>NaN</td>\n",
              "      <td>NaN</td>\n",
              "      <td>NaN</td>\n",
              "      <td>NaN</td>\n",
              "    </tr>\n",
              "  </tbody>\n",
              "</table>\n",
              "<p>5 rows × 67 columns</p>\n",
              "</div>\n",
              "      <button class=\"colab-df-convert\" onclick=\"convertToInteractive('df-961e3807-d156-4256-9556-f20c01f728d9')\"\n",
              "              title=\"Convert this dataframe to an interactive table.\"\n",
              "              style=\"display:none;\">\n",
              "        \n",
              "  <svg xmlns=\"http://www.w3.org/2000/svg\" height=\"24px\"viewBox=\"0 0 24 24\"\n",
              "       width=\"24px\">\n",
              "    <path d=\"M0 0h24v24H0V0z\" fill=\"none\"/>\n",
              "    <path d=\"M18.56 5.44l.94 2.06.94-2.06 2.06-.94-2.06-.94-.94-2.06-.94 2.06-2.06.94zm-11 1L8.5 8.5l.94-2.06 2.06-.94-2.06-.94L8.5 2.5l-.94 2.06-2.06.94zm10 10l.94 2.06.94-2.06 2.06-.94-2.06-.94-.94-2.06-.94 2.06-2.06.94z\"/><path d=\"M17.41 7.96l-1.37-1.37c-.4-.4-.92-.59-1.43-.59-.52 0-1.04.2-1.43.59L10.3 9.45l-7.72 7.72c-.78.78-.78 2.05 0 2.83L4 21.41c.39.39.9.59 1.41.59.51 0 1.02-.2 1.41-.59l7.78-7.78 2.81-2.81c.8-.78.8-2.07 0-2.86zM5.41 20L4 18.59l7.72-7.72 1.47 1.35L5.41 20z\"/>\n",
              "  </svg>\n",
              "      </button>\n",
              "      \n",
              "  <style>\n",
              "    .colab-df-container {\n",
              "      display:flex;\n",
              "      flex-wrap:wrap;\n",
              "      gap: 12px;\n",
              "    }\n",
              "\n",
              "    .colab-df-convert {\n",
              "      background-color: #E8F0FE;\n",
              "      border: none;\n",
              "      border-radius: 50%;\n",
              "      cursor: pointer;\n",
              "      display: none;\n",
              "      fill: #1967D2;\n",
              "      height: 32px;\n",
              "      padding: 0 0 0 0;\n",
              "      width: 32px;\n",
              "    }\n",
              "\n",
              "    .colab-df-convert:hover {\n",
              "      background-color: #E2EBFA;\n",
              "      box-shadow: 0px 1px 2px rgba(60, 64, 67, 0.3), 0px 1px 3px 1px rgba(60, 64, 67, 0.15);\n",
              "      fill: #174EA6;\n",
              "    }\n",
              "\n",
              "    [theme=dark] .colab-df-convert {\n",
              "      background-color: #3B4455;\n",
              "      fill: #D2E3FC;\n",
              "    }\n",
              "\n",
              "    [theme=dark] .colab-df-convert:hover {\n",
              "      background-color: #434B5C;\n",
              "      box-shadow: 0px 1px 3px 1px rgba(0, 0, 0, 0.15);\n",
              "      filter: drop-shadow(0px 1px 2px rgba(0, 0, 0, 0.3));\n",
              "      fill: #FFFFFF;\n",
              "    }\n",
              "  </style>\n",
              "\n",
              "      <script>\n",
              "        const buttonEl =\n",
              "          document.querySelector('#df-961e3807-d156-4256-9556-f20c01f728d9 button.colab-df-convert');\n",
              "        buttonEl.style.display =\n",
              "          google.colab.kernel.accessAllowed ? 'block' : 'none';\n",
              "\n",
              "        async function convertToInteractive(key) {\n",
              "          const element = document.querySelector('#df-961e3807-d156-4256-9556-f20c01f728d9');\n",
              "          const dataTable =\n",
              "            await google.colab.kernel.invokeFunction('convertToInteractive',\n",
              "                                                     [key], {});\n",
              "          if (!dataTable) return;\n",
              "\n",
              "          const docLinkHtml = 'Like what you see? Visit the ' +\n",
              "            '<a target=\"_blank\" href=https://colab.research.google.com/notebooks/data_table.ipynb>data table notebook</a>'\n",
              "            + ' to learn more about interactive tables.';\n",
              "          element.innerHTML = '';\n",
              "          dataTable['output_type'] = 'display_data';\n",
              "          await google.colab.output.renderOutput(dataTable, element);\n",
              "          const docLink = document.createElement('div');\n",
              "          docLink.innerHTML = docLinkHtml;\n",
              "          element.appendChild(docLink);\n",
              "        }\n",
              "      </script>\n",
              "    </div>\n",
              "  </div>\n",
              "  "
            ]
          },
          "metadata": {},
          "execution_count": 147
        }
      ]
    },
    {
      "cell_type": "markdown",
      "source": [
        "### Dimensões do DataSet"
      ],
      "metadata": {
        "id": "ULalhmYvrq6e"
      }
    },
    {
      "cell_type": "code",
      "source": [
        "# Numero de linhas\n",
        "print(\"A quantidade de linhas é de: {} linhas/entradas\".format(df.shape[0]))\n",
        "\n",
        "# Numero de colunas\n",
        "print(\"A quantidade de colunas é de: {} colunas/variáveis\".format(df.shape[1]))"
      ],
      "metadata": {
        "colab": {
          "base_uri": "https://localhost:8080/"
        },
        "id": "4qLWoXC_tDZ4",
        "outputId": "ae2cb7db-c84e-4b1c-f8bd-44f1ca107eaa"
      },
      "execution_count": 148,
      "outputs": [
        {
          "output_type": "stream",
          "name": "stdout",
          "text": [
            "A quantidade de linhas é de: 187097 linhas/entradas\n",
            "A quantidade de colunas é de: 67 colunas/variáveis\n"
          ]
        }
      ]
    },
    {
      "cell_type": "markdown",
      "source": [
        "### Os Tipos das Variáveis"
      ],
      "metadata": {
        "id": "Oro8x48UtP74"
      }
    },
    {
      "cell_type": "code",
      "source": [
        "with pd.option_context('display.max_rows', None, 'display.max_columns', None):\n",
        "  print(df.dtypes)"
      ],
      "metadata": {
        "colab": {
          "base_uri": "https://localhost:8080/"
        },
        "id": "-hi8uKZOzdwX",
        "outputId": "bbf137d6-4b82-4d30-b478-47332fabefed"
      },
      "execution_count": 149,
      "outputs": [
        {
          "output_type": "stream",
          "name": "stdout",
          "text": [
            "iso_code                                       object\n",
            "continent                                      object\n",
            "location                                       object\n",
            "date                                           object\n",
            "total_cases                                   float64\n",
            "new_cases                                     float64\n",
            "new_cases_smoothed                            float64\n",
            "total_deaths                                  float64\n",
            "new_deaths                                    float64\n",
            "new_deaths_smoothed                           float64\n",
            "total_cases_per_million                       float64\n",
            "new_cases_per_million                         float64\n",
            "new_cases_smoothed_per_million                float64\n",
            "total_deaths_per_million                      float64\n",
            "new_deaths_per_million                        float64\n",
            "new_deaths_smoothed_per_million               float64\n",
            "reproduction_rate                             float64\n",
            "icu_patients                                  float64\n",
            "icu_patients_per_million                      float64\n",
            "hosp_patients                                 float64\n",
            "hosp_patients_per_million                     float64\n",
            "weekly_icu_admissions                         float64\n",
            "weekly_icu_admissions_per_million             float64\n",
            "weekly_hosp_admissions                        float64\n",
            "weekly_hosp_admissions_per_million            float64\n",
            "total_tests                                   float64\n",
            "new_tests                                     float64\n",
            "total_tests_per_thousand                      float64\n",
            "new_tests_per_thousand                        float64\n",
            "new_tests_smoothed                            float64\n",
            "new_tests_smoothed_per_thousand               float64\n",
            "positive_rate                                 float64\n",
            "tests_per_case                                float64\n",
            "tests_units                                    object\n",
            "total_vaccinations                            float64\n",
            "people_vaccinated                             float64\n",
            "people_fully_vaccinated                       float64\n",
            "total_boosters                                float64\n",
            "new_vaccinations                              float64\n",
            "new_vaccinations_smoothed                     float64\n",
            "total_vaccinations_per_hundred                float64\n",
            "people_vaccinated_per_hundred                 float64\n",
            "people_fully_vaccinated_per_hundred           float64\n",
            "total_boosters_per_hundred                    float64\n",
            "new_vaccinations_smoothed_per_million         float64\n",
            "new_people_vaccinated_smoothed                float64\n",
            "new_people_vaccinated_smoothed_per_hundred    float64\n",
            "stringency_index                              float64\n",
            "population                                    float64\n",
            "population_density                            float64\n",
            "median_age                                    float64\n",
            "aged_65_older                                 float64\n",
            "aged_70_older                                 float64\n",
            "gdp_per_capita                                float64\n",
            "extreme_poverty                               float64\n",
            "cardiovasc_death_rate                         float64\n",
            "diabetes_prevalence                           float64\n",
            "female_smokers                                float64\n",
            "male_smokers                                  float64\n",
            "handwashing_facilities                        float64\n",
            "hospital_beds_per_thousand                    float64\n",
            "life_expectancy                               float64\n",
            "human_development_index                       float64\n",
            "excess_mortality_cumulative_absolute          float64\n",
            "excess_mortality_cumulative                   float64\n",
            "excess_mortality                              float64\n",
            "excess_mortality_cumulative_per_million       float64\n",
            "dtype: object\n"
          ]
        }
      ]
    },
    {
      "cell_type": "markdown",
      "source": [
        "### Valores Ausentes\n",
        "\n",
        "As atualizações de informações sobre o Covid-19 é algo complexo e dinâmico. Visto que as várias regiões têm seus próprios meios de coleta de dados e hierárquias para o repasse de informações. Sem contar os desafios estruturais, principalmente nos locais mais pobres, onde até mesmo o acesso a uma UTI é difícil.\n",
        "\n",
        "Veja o exemplo do Brasil, as informações coletadas nos municípios são repassadas para as secretarias estaduais e estas para o Ministério da Saúde. Os municípios bem como os estados têm autonomia para corrigir os dados de acordo com os resultados das investigações das ocorrências da doença.\n",
        "\n",
        "Por exemplo, em nível municipal, o dado do dia atual pode ser menor que o dia anterior, isso acontece porque o município de notificação não é necessariamente o mesmo local de residência do caso ou óbito notificado.\n",
        "\n",
        "Com isso, é importante ter em mente essas dificuldades para entender melhor o conjunto de dados utilizado neste trabalho.\n",
        "\n",
        "Veja abaixo as porcentagens de valores ausentes em cada variável:\n"
      ],
      "metadata": {
        "id": "AVkd2p9T1RGu"
      }
    },
    {
      "cell_type": "code",
      "source": [
        "# Calculo da porcentagem\n",
        "with pd.option_context('display.max_rows', None, 'display.max_columns', None):\n",
        "  print(((df.isnull().sum() / df.shape[0]) * 100).sort_values(ascending = False))\n"
      ],
      "metadata": {
        "colab": {
          "base_uri": "https://localhost:8080/"
        },
        "id": "ryLYB7Jr1al4",
        "outputId": "e2a304b6-9dbf-4f59-ae47-dfc713c5eb3b"
      },
      "execution_count": 150,
      "outputs": [
        {
          "output_type": "stream",
          "name": "stdout",
          "text": [
            "weekly_icu_admissions_per_million             96.775469\n",
            "weekly_icu_admissions                         96.775469\n",
            "excess_mortality_cumulative_per_million       96.570228\n",
            "excess_mortality                              96.570228\n",
            "excess_mortality_cumulative                   96.570228\n",
            "excess_mortality_cumulative_absolute          96.570228\n",
            "weekly_hosp_admissions_per_million            93.557887\n",
            "weekly_hosp_admissions                        93.557887\n",
            "total_boosters                                87.650256\n",
            "total_boosters_per_hundred                    87.650256\n",
            "icu_patients_per_million                      87.038809\n",
            "icu_patients                                  87.038809\n",
            "hosp_patients_per_million                     86.356275\n",
            "hosp_patients                                 86.356275\n",
            "new_vaccinations                              77.635130\n",
            "people_fully_vaccinated                       75.382823\n",
            "people_fully_vaccinated_per_hundred           75.382823\n",
            "people_vaccinated_per_hundred                 74.048221\n",
            "people_vaccinated                             74.048221\n",
            "total_vaccinations_per_hundred                72.709343\n",
            "total_vaccinations                            72.709343\n",
            "new_tests                                     60.739082\n",
            "new_tests_per_thousand                        60.739082\n",
            "handwashing_facilities                        59.503894\n",
            "total_tests                                   59.150601\n",
            "total_tests_per_thousand                      59.150601\n",
            "tests_per_case                                52.186299\n",
            "positive_rate                                 51.427334\n",
            "new_tests_smoothed                            47.309150\n",
            "new_tests_smoothed_per_thousand               47.309150\n",
            "new_people_vaccinated_smoothed                47.081995\n",
            "new_people_vaccinated_smoothed_per_hundred    47.081995\n",
            "new_vaccinations_smoothed_per_million         46.550185\n",
            "new_vaccinations_smoothed                     46.550185\n",
            "extreme_poverty                               46.351358\n",
            "tests_units                                   45.813669\n",
            "male_smokers                                  38.512643\n",
            "female_smokers                                37.658006\n",
            "hospital_beds_per_thousand                    26.863606\n",
            "reproduction_rate                             26.016986\n",
            "stringency_index                              22.113663\n",
            "human_development_index                       19.710631\n",
            "aged_65_older                                 18.264857\n",
            "gdp_per_capita                                17.853841\n",
            "aged_70_older                                 17.822306\n",
            "cardiovasc_death_rate                         17.571634\n",
            "median_age                                    17.388841\n",
            "new_deaths_smoothed_per_million               14.824396\n",
            "new_deaths_smoothed                           14.390396\n",
            "new_deaths_per_million                        14.208673\n",
            "total_deaths_per_million                      14.195845\n",
            "new_deaths                                    13.772001\n",
            "total_deaths                                  13.759173\n",
            "diabetes_prevalence                           13.547518\n",
            "population_density                            10.887401\n",
            "life_expectancy                                6.482199\n",
            "continent                                      5.821579\n",
            "new_cases_smoothed_per_million                 5.171649\n",
            "new_cases_smoothed                             4.730701\n",
            "new_cases_per_million                          4.547908\n",
            "total_cases_per_million                        4.390771\n",
            "new_cases                                      4.104288\n",
            "total_cases                                    3.947150\n",
            "population                                     0.613051\n",
            "date                                           0.000000\n",
            "location                                       0.000000\n",
            "iso_code                                       0.000000\n",
            "dtype: float64\n"
          ]
        }
      ]
    },
    {
      "cell_type": "markdown",
      "source": [
        "Perceba que muitas variáveis são subconjuntos de outras, isto é, a informação em uma variável depende de outra, por exemplo: `new_vaccinations_smoothed` depende de `new_vaccinations` e assim por diante. Sendo necessário fazer uma investigação de como está a normalização desse banco de dados que é algo que foge do objetivo dessa análise exploratória.\n",
        "\n",
        "Ademais, é importante citar que a data associada ao óbito pode ser tanto do dia que ocorreu quanto do dia que foi registrado, variando de país à país.\n",
        "\n",
        "Portanto, devido as diferentes formas de registrar as informações pelos países (lembrando que esse **conjunto de dados é um compilado de informações**) e que em muitos lugares o acesso a informação é escasso, nas análises seguintes opta-se por trabalhar com **dados íntegros** sem grande prejuízo para as perguntas que se deseja responder. \n"
      ],
      "metadata": {
        "id": "58Zi9YUyGh_Z"
      }
    },
    {
      "cell_type": "markdown",
      "source": [
        "## Panorama do COVID-19 no Mundo\n",
        "\n",
        "Daqui em diante a variável `date` que está como tipo objeto será transformada no tipo DataTime para facilitar a análise."
      ],
      "metadata": {
        "id": "J2_Cgf51OfJI"
      }
    },
    {
      "cell_type": "code",
      "source": [
        "df.date = pd.to_datetime(df.date)"
      ],
      "metadata": {
        "id": "T4mQk-Xqw0qt"
      },
      "execution_count": 151,
      "outputs": []
    },
    {
      "cell_type": "markdown",
      "source": [
        "### Objetivos\n",
        "\n",
        "* Quais os países que têm mais casos de óbitos?\n",
        "* Quais os países com mais casos confirmados no total?\n",
        "* Quais os países com mais vacinados? Quantos são vacinados com pelos uma dose ou com todas as doses preescritas?\n",
        "* Evolução do Número de Casos de Covid-19 no Mundo "
      ],
      "metadata": {
        "id": "BgEoyOyjxLjh"
      }
    },
    {
      "cell_type": "markdown",
      "source": [
        "### Quais os países que têm mais casos de óbitos?\n",
        "\n",
        "Antes de responder a pergunta, é preciso verificar os valores únicos da variável `location` e também a data mais recente desse conjunto de dados."
      ],
      "metadata": {
        "id": "nheu_2w7xyys"
      }
    },
    {
      "cell_type": "code",
      "source": [
        "# Ver valores unicos para a variável location\n",
        "df.location.unique()"
      ],
      "metadata": {
        "colab": {
          "base_uri": "https://localhost:8080/"
        },
        "id": "UUE95Bkvx3mI",
        "outputId": "f11c6f63-80dc-4750-913b-d166bfde5c0a"
      },
      "execution_count": 152,
      "outputs": [
        {
          "output_type": "execute_result",
          "data": {
            "text/plain": [
              "array(['Afghanistan', 'Africa', 'Albania', 'Algeria', 'Andorra', 'Angola',\n",
              "       'Anguilla', 'Antigua and Barbuda', 'Argentina', 'Armenia', 'Aruba',\n",
              "       'Asia', 'Australia', 'Austria', 'Azerbaijan', 'Bahamas', 'Bahrain',\n",
              "       'Bangladesh', 'Barbados', 'Belarus', 'Belgium', 'Belize', 'Benin',\n",
              "       'Bermuda', 'Bhutan', 'Bolivia', 'Bonaire Sint Eustatius and Saba',\n",
              "       'Bosnia and Herzegovina', 'Botswana', 'Brazil',\n",
              "       'British Virgin Islands', 'Brunei', 'Bulgaria', 'Burkina Faso',\n",
              "       'Burundi', 'Cambodia', 'Cameroon', 'Canada', 'Cape Verde',\n",
              "       'Cayman Islands', 'Central African Republic', 'Chad', 'Chile',\n",
              "       'China', 'Colombia', 'Comoros', 'Congo', 'Cook Islands',\n",
              "       'Costa Rica', \"Cote d'Ivoire\", 'Croatia', 'Cuba', 'Curacao',\n",
              "       'Cyprus', 'Czechia', 'Democratic Republic of Congo', 'Denmark',\n",
              "       'Djibouti', 'Dominica', 'Dominican Republic', 'Ecuador', 'Egypt',\n",
              "       'El Salvador', 'Equatorial Guinea', 'Eritrea', 'Estonia',\n",
              "       'Eswatini', 'Ethiopia', 'Europe', 'European Union',\n",
              "       'Faeroe Islands', 'Falkland Islands', 'Fiji', 'Finland', 'France',\n",
              "       'French Polynesia', 'Gabon', 'Gambia', 'Georgia', 'Germany',\n",
              "       'Ghana', 'Gibraltar', 'Greece', 'Greenland', 'Grenada', 'Guam',\n",
              "       'Guatemala', 'Guernsey', 'Guinea', 'Guinea-Bissau', 'Guyana',\n",
              "       'Haiti', 'High income', 'Honduras', 'Hong Kong', 'Hungary',\n",
              "       'Iceland', 'India', 'Indonesia', 'International', 'Iran', 'Iraq',\n",
              "       'Ireland', 'Isle of Man', 'Israel', 'Italy', 'Jamaica', 'Japan',\n",
              "       'Jersey', 'Jordan', 'Kazakhstan', 'Kenya', 'Kiribati', 'Kosovo',\n",
              "       'Kuwait', 'Kyrgyzstan', 'Laos', 'Latvia', 'Lebanon', 'Lesotho',\n",
              "       'Liberia', 'Libya', 'Liechtenstein', 'Lithuania', 'Low income',\n",
              "       'Lower middle income', 'Luxembourg', 'Macao', 'Madagascar',\n",
              "       'Malawi', 'Malaysia', 'Maldives', 'Mali', 'Malta',\n",
              "       'Marshall Islands', 'Mauritania', 'Mauritius', 'Mexico',\n",
              "       'Micronesia (country)', 'Moldova', 'Monaco', 'Mongolia',\n",
              "       'Montenegro', 'Montserrat', 'Morocco', 'Mozambique', 'Myanmar',\n",
              "       'Namibia', 'Nauru', 'Nepal', 'Netherlands', 'New Caledonia',\n",
              "       'New Zealand', 'Nicaragua', 'Niger', 'Nigeria', 'Niue',\n",
              "       'North America', 'North Korea', 'North Macedonia',\n",
              "       'Northern Cyprus', 'Northern Mariana Islands', 'Norway', 'Oceania',\n",
              "       'Oman', 'Pakistan', 'Palau', 'Palestine', 'Panama',\n",
              "       'Papua New Guinea', 'Paraguay', 'Peru', 'Philippines', 'Pitcairn',\n",
              "       'Poland', 'Portugal', 'Puerto Rico', 'Qatar', 'Romania', 'Russia',\n",
              "       'Rwanda', 'Saint Helena', 'Saint Kitts and Nevis', 'Saint Lucia',\n",
              "       'Saint Pierre and Miquelon', 'Saint Vincent and the Grenadines',\n",
              "       'Samoa', 'San Marino', 'Sao Tome and Principe', 'Saudi Arabia',\n",
              "       'Senegal', 'Serbia', 'Seychelles', 'Sierra Leone', 'Singapore',\n",
              "       'Sint Maarten (Dutch part)', 'Slovakia', 'Slovenia',\n",
              "       'Solomon Islands', 'Somalia', 'South Africa', 'South America',\n",
              "       'South Korea', 'South Sudan', 'Spain', 'Sri Lanka', 'Sudan',\n",
              "       'Suriname', 'Sweden', 'Switzerland', 'Syria', 'Taiwan',\n",
              "       'Tajikistan', 'Tanzania', 'Thailand', 'Timor', 'Togo', 'Tokelau',\n",
              "       'Tonga', 'Trinidad and Tobago', 'Tunisia', 'Turkey',\n",
              "       'Turkmenistan', 'Turks and Caicos Islands', 'Tuvalu', 'Uganda',\n",
              "       'Ukraine', 'United Arab Emirates', 'United Kingdom',\n",
              "       'United States', 'United States Virgin Islands',\n",
              "       'Upper middle income', 'Uruguay', 'Uzbekistan', 'Vanuatu',\n",
              "       'Vatican', 'Venezuela', 'Vietnam', 'Wallis and Futuna',\n",
              "       'Western Sahara', 'World', 'Yemen', 'Zambia', 'Zimbabwe'],\n",
              "      dtype=object)"
            ]
          },
          "metadata": {},
          "execution_count": 152
        }
      ]
    },
    {
      "cell_type": "code",
      "source": [
        "# Ver data mais recente\n",
        "ld = df.date.max()\n",
        "print(f'A data mais recente neste DataSet é: {ld.day}/0{ld.month}/{ld.year}')"
      ],
      "metadata": {
        "colab": {
          "base_uri": "https://localhost:8080/"
        },
        "id": "LQ9wiLPaoted",
        "outputId": "3f20a0ce-8877-4ce3-8735-b0f0bfa28ea5"
      },
      "execution_count": 153,
      "outputs": [
        {
          "output_type": "stream",
          "name": "stdout",
          "text": [
            "A data mais recente neste DataSet é: 16/05/2022\n"
          ]
        }
      ]
    },
    {
      "cell_type": "markdown",
      "source": [
        "A variável `location` não necessariamente indica somente os países, veja que no array(\"lista com os nomes de `location`\") acima têm-se os nomes de continentes, um World que indica o mundo, um Internacional e por fim algumas que representam a renda das pessoas, por exemplo 'Lower middle income' que representa pessoas de renda média baixa. Na documentação deste DataSet é esclarecido o porquê não haver somente países (você pode acessar neste [link](https://github.com/owid/covid-19-data/tree/master/public/data#:~:text=Registro%20de%20altera%C3%A7%C3%B5es) para mais informações).\n",
        "\n",
        " Todas essas entradas que não representam países estão indicadas na coluna `iso_code` com o prefixo *'OWID_'*, por exemplo: *OWID_WRL* corresponde em `location` a *World* enquanto 'OWID_INT' a *Internacional*.\n",
        "\n",
        "Pois bem, para responder a pergunta dessa subseção é preciso excluir essas linhas, ordenar em ordem decrescente os países que têm a maior quantidade na última data desse DataSet(16/05/2022) e em seguinda plotar o gráfico de barras para visualização. "
      ],
      "metadata": {
        "id": "vaEdrqva3FkV"
      }
    },
    {
      "cell_type": "code",
      "source": [
        "# Excluir entradas\n",
        "df_clean = df.copy()\n",
        "df_clean = df_clean.drop(df_clean.index[df_clean.index[df_clean.iso_code.str.contains(\"OWID\")]])"
      ],
      "metadata": {
        "id": "L6_EOD7E4vmv"
      },
      "execution_count": 154,
      "outputs": []
    },
    {
      "cell_type": "code",
      "source": [
        "#Ordenar elementos e extrair os 10 maiores\n",
        "xl = df_clean.loc[df_clean.date == ld ].sort_values(by=\"total_deaths\", ascending=False)[0:10]\n",
        "\n",
        "# Agrupar as variáveis location e total_deaths\n",
        "print(f'Os 10 países que tiveram mais óbitos até a data de {ld.day}/0{ld.month}/{ld.year}')\n",
        "xl.groupby(['location']).total_deaths.sum().sort_values(ascending = False)"
      ],
      "metadata": {
        "colab": {
          "base_uri": "https://localhost:8080/"
        },
        "id": "p-RX8ueOrrz4",
        "outputId": "5cd4091c-25c0-44f5-cd6d-cbbec4caddd0"
      },
      "execution_count": 155,
      "outputs": [
        {
          "output_type": "stream",
          "name": "stdout",
          "text": [
            "Os 10 países que tiveram mais óbitos até a data de 16/05/2022\n"
          ]
        },
        {
          "output_type": "execute_result",
          "data": {
            "text/plain": [
              "location\n",
              "United States     999842.0\n",
              "Brazil            665216.0\n",
              "India             524260.0\n",
              "Russia            370145.0\n",
              "Mexico            324617.0\n",
              "Peru              213013.0\n",
              "United Kingdom    177583.0\n",
              "Italy             165346.0\n",
              "Indonesia         156464.0\n",
              "France            147547.0\n",
              "Name: total_deaths, dtype: float64"
            ]
          },
          "metadata": {},
          "execution_count": 155
        }
      ]
    },
    {
      "cell_type": "code",
      "source": [
        "fig, ax = plt.subplots(figsize = (12, 6))\n",
        "plt.barh(\"location\", \"total_deaths\", data=xl.sort_values('total_deaths'), color = 'FireBrick')\n",
        "ax.set_title('Os Países Com Mais Óbitos', size = 20)\n",
        "ax.set_ylabel('Países', size = 15)\n",
        "ax.set_xlabel('Quantidade de óbitos', size= 15)\n",
        "ax.grid(False)\n",
        "plt.tight_layout();"
      ],
      "metadata": {
        "colab": {
          "base_uri": "https://localhost:8080/",
          "height": 441
        },
        "id": "e2WG2MdL_lKZ",
        "outputId": "5126c785-8b00-4ae0-b972-2a0b41961dbb"
      },
      "execution_count": 156,
      "outputs": [
        {
          "output_type": "display_data",
          "data": {
            "text/plain": [
              "<Figure size 864x432 with 1 Axes>"
            ],
            "image/png": "[encoded data removed]"
          },
          "metadata": {
            "needs_background": "light"
          }
        }
      ]
    },
    {
      "cell_type": "markdown",
      "source": [
        "Enfim, perceba que o Brasil está somente atrás dos Estados Unidos e que está na frente de países como a Índia que possui uma população muito grande. Ademais, entre esses 10, 4 fazem parte da América."
      ],
      "metadata": {
        "id": "nOnux-rSD-Fz"
      }
    },
    {
      "cell_type": "markdown",
      "source": [
        "### Quais os países com mais casos confirmados no total?\n",
        "\n",
        "Utilizando o mesmo dataset que foi tratado com a exclusão de entradas que não representam países individualmente, nesta subseção alguns dos métodos serão repetidos para responder a pergunta."
      ],
      "metadata": {
        "id": "Cp-C_loWE9Sp"
      }
    },
    {
      "cell_type": "code",
      "source": [
        "#Ordenar elementos e extrair os 10 maiores\n",
        "xtc = df_clean.loc[df_clean.date == ld].sort_values(by=\"total_cases\", ascending=False)[0:10]\n",
        "print(f'Os 10 países com mais casos confirmados até a data de {ld.day}/0{ld.month}/{ld.year}')\n",
        "xtc.groupby(['location']).total_cases.sum().sort_values(ascending = False)"
      ],
      "metadata": {
        "colab": {
          "base_uri": "https://localhost:8080/"
        },
        "id": "zcTcSZXtF8DT",
        "outputId": "b342c47a-3a53-4ab1-f6ff-6001b66c2817"
      },
      "execution_count": 157,
      "outputs": [
        {
          "output_type": "stream",
          "name": "stdout",
          "text": [
            "Os 10 países com mais casos confirmados até a data de 16/05/2022\n"
          ]
        },
        {
          "output_type": "execute_result",
          "data": {
            "text/plain": [
              "location\n",
              "United States     82613620.0\n",
              "India             43125370.0\n",
              "Brazil            30701900.0\n",
              "France            29243871.0\n",
              "Germany           25818405.0\n",
              "United Kingdom    22279102.0\n",
              "Russia            17998438.0\n",
              "South Korea       17830429.0\n",
              "Italy             17071649.0\n",
              "Turkey            15055576.0\n",
              "Name: total_cases, dtype: float64"
            ]
          },
          "metadata": {},
          "execution_count": 157
        }
      ]
    },
    {
      "cell_type": "code",
      "source": [
        "fig, ax = plt.subplots(figsize = (12, 6))\n",
        "plt.barh(\"location\", \"total_cases\", data=xtc.sort_values('total_cases'))\n",
        "ax.set_title('Os Países Com Mais Casos Confirmados', size = 20)\n",
        "ax.set_ylabel('Países', size = 15)\n",
        "ax.set_xlabel('Casos Confirmados', size= 15)\n",
        "ax.grid(False)\n",
        "plt.tight_layout();"
      ],
      "metadata": {
        "colab": {
          "base_uri": "https://localhost:8080/",
          "height": 441
        },
        "id": "V7_JDiB5HmgR",
        "outputId": "848348d1-85c7-42d8-ba96-aa8d38793fd6"
      },
      "execution_count": 158,
      "outputs": [
        {
          "output_type": "display_data",
          "data": {
            "text/plain": [
              "<Figure size 864x432 with 1 Axes>"
            ],
            "image/png": "[encoded data removed]"
          },
          "metadata": {
            "needs_background": "light"
          }
        }
      ]
    },
    {
      "cell_type": "markdown",
      "source": [
        "Veja que diferentemente do gráfico da subseção anterior, o Brasil encontra-se na 3ª posição atrás dos Estados Unidos e Índia. Além de que somente há esses dois(Brasil e Eua) do continente americano que configuram entre os que mais confirmaram casos."
      ],
      "metadata": {
        "id": "pusWpF4QIOUQ"
      }
    },
    {
      "cell_type": "markdown",
      "source": [
        "### Quais os países com mais vacinados? Quantos têm somente uma dose ou com todas as doses preescritas?\n",
        "\n",
        "As variáveis utilizadas nesta subseção serão: `total_vaccinations`,`people_vaccinated`e `people_fully_vaccinated`. Que representam respectivamente: o total de vacinas administradas, o total de pessoas com pelo menos uma dose e o total de pessoas com todas as doses preescritas pelo protocolo de vacinação de cada país. \n",
        "\n",
        "Aqui também será usado o dataset tratado com a exclusão de entradas que não representam países indivudualmente. Serão plotados os gráficos para os 3 atributos."
      ],
      "metadata": {
        "id": "4uQ6JVonMwB0"
      }
    },
    {
      "cell_type": "code",
      "source": [
        "xtv = df_clean.loc[df_clean.date == ld].sort_values(by=\"total_vaccinations\", ascending=False)[0:10]\n",
        "print(f'Os 10 países com mais vacinados até a data {ld.day}/0{ld.month}/{ld.year}')\n",
        "xtv.groupby(['location']).total_vaccinations.sum().sort_values(ascending = False)"
      ],
      "metadata": {
        "colab": {
          "base_uri": "https://localhost:8080/"
        },
        "id": "1HqTnBoLazh2",
        "outputId": "9f477bb3-0abc-4648-90b7-331efb9c0f65"
      },
      "execution_count": 159,
      "outputs": [
        {
          "output_type": "stream",
          "name": "stdout",
          "text": [
            "Os 10 países com mais vacinados até a data 16/05/2022\n"
          ]
        },
        {
          "output_type": "execute_result",
          "data": {
            "text/plain": [
              "location\n",
              "China         3.363651e+09\n",
              "India         1.912935e+09\n",
              "Brazil        4.353121e+08\n",
              "Indonesia     4.013080e+08\n",
              "Japan         2.767349e+08\n",
              "Bangladesh    2.590824e+08\n",
              "Pakistan      2.476225e+08\n",
              "Mexico        2.069416e+08\n",
              "Turkey        1.476383e+08\n",
              "Italy         1.373562e+08\n",
              "Name: total_vaccinations, dtype: float64"
            ]
          },
          "metadata": {},
          "execution_count": 159
        }
      ]
    },
    {
      "cell_type": "code",
      "source": [
        "xpv = df_clean.loc[df_clean.date == ld].sort_values(by=\"people_vaccinated\", ascending=False)[0:10]\n",
        "print(f'Os 10 países com mais vacinados com pelo menos PRIMEIRA DOSE até a data {ld.day}/0{ld.month}/{ld.year}')\n",
        "xpv.groupby(['location']).people_vaccinated.sum().sort_values(ascending = False)"
      ],
      "metadata": {
        "colab": {
          "base_uri": "https://localhost:8080/"
        },
        "id": "4fxiFoH3bpSM",
        "outputId": "9419e644-6483-4ae9-ec9e-b968a11bd6da"
      },
      "execution_count": 160,
      "outputs": [
        {
          "output_type": "stream",
          "name": "stdout",
          "text": [
            "Os 10 países com mais vacinados com pelo menos PRIMEIRA DOSE até a data 16/05/2022\n"
          ]
        },
        {
          "output_type": "execute_result",
          "data": {
            "text/plain": [
              "location\n",
              "India         1.007965e+09\n",
              "Indonesia     1.996254e+08\n",
              "Brazil        1.831429e+08\n",
              "Pakistan      1.346745e+08\n",
              "Bangladesh    1.288860e+08\n",
              "Japan         1.034124e+08\n",
              "Mexico        8.685899e+07\n",
              "Turkey        5.783202e+07\n",
              "Thailand      5.630504e+07\n",
              "Italy         5.077503e+07\n",
              "Name: people_vaccinated, dtype: float64"
            ]
          },
          "metadata": {},
          "execution_count": 160
        }
      ]
    },
    {
      "cell_type": "code",
      "source": [
        "xpfv = df_clean.loc[df_clean.date == ld].sort_values(by=\"people_fully_vaccinated\", ascending=False)[0:10]\n",
        "print(f'Os 10 países com mais vacinados com TODAS AS DOSES preescritas até a data {ld.day}/0{ld.month}/{ld.year}')\n",
        "xpfv.groupby(['location']).people_fully_vaccinated.sum().sort_values(ascending = False)"
      ],
      "metadata": {
        "colab": {
          "base_uri": "https://localhost:8080/"
        },
        "id": "i0Mzu-tJcJ7r",
        "outputId": "e71a48cb-ae7e-4219-fd8a-6b901dc39be1"
      },
      "execution_count": 161,
      "outputs": [
        {
          "output_type": "stream",
          "name": "stdout",
          "text": [
            "Os 10 países com mais vacinados com TODAS AS DOSES preescritas até a data 16/05/2022\n"
          ]
        },
        {
          "output_type": "execute_result",
          "data": {
            "text/plain": [
              "location\n",
              "India          875350992.0\n",
              "Indonesia      166273179.0\n",
              "Brazil         165182832.0\n",
              "Pakistan       122608328.0\n",
              "Bangladesh     116863440.0\n",
              "Japan          101840830.0\n",
              "Turkey          53052226.0\n",
              "Thailand        51788568.0\n",
              "Italy           47921484.0\n",
              "South Korea     44563802.0\n",
              "Name: people_fully_vaccinated, dtype: float64"
            ]
          },
          "metadata": {},
          "execution_count": 161
        }
      ]
    },
    {
      "cell_type": "code",
      "source": [
        "def add_titlebox(ax, text):\n",
        "  ax.text(.55, .8, text,\n",
        "          horizontalalignment='center',\n",
        "          transform=ax.transAxes,\n",
        "          bbox=dict(facecolor='white', alpha=0.6),\n",
        "          fontsize=12.5)\n",
        "  return ax"
      ],
      "metadata": {
        "id": "59vgf-ZwWR7O"
      },
      "execution_count": 162,
      "outputs": []
    },
    {
      "cell_type": "code",
      "source": [
        "gridsize = (3, 2)\n",
        "fig = plt.figure(figsize=(14, 10))\n",
        "#Plotar para o Total de Vacinados\n",
        "ax1 = plt.subplot2grid(gridsize, (0, 0), colspan=2, rowspan=2)\n",
        "plt.barh(\"location\", \"total_vaccinations\", data=xtv.sort_values('total_vaccinations'), color = 'DeepSkyBlue')\n",
        "ax1.set_title(f'Total de Vacinas Administradas até a Data de {ld.day}/0{ld.month}/{ld.year}', size = 18)\n",
        "ax1.set_ylabel('Países')\n",
        "ax1.set_xlabel('Vacinas')\n",
        "ax1.grid(False)\n",
        "\n",
        "#Plotar para Pessoas com apenas uma dose\n",
        "ax2 = plt.subplot2grid(gridsize, (2, 0))\n",
        "plt.barh(\"location\", \"people_vaccinated\",\n",
        "        data=xpv.sort_values('people_vaccinated'), color = 'SkyBlue')\n",
        "add_titlebox(ax2, 'Com pelo menos a 1ª Dose')\n",
        "ax2.set_xlabel('Pessoas')\n",
        "ax2.set_ylabel('Países')\n",
        "ax2.grid(False)\n",
        "\n",
        "#Plotar para Pessoas com todas as doses\n",
        "ax3 = plt.subplot2grid(gridsize, (2, 1))\n",
        "plt.barh(\"location\", \"people_fully_vaccinated\",\n",
        "        data=xpfv.sort_values('people_fully_vaccinated'), color = 'SkyBlue')\n",
        "add_titlebox(ax3, 'Com Todas as Doses')\n",
        "ax3.set_xlabel('Pessoas')\n",
        "ax3.set_ylabel('Países')\n",
        "ax3.grid(False)\n",
        "\n",
        "plt.tight_layout()"
      ],
      "metadata": {
        "colab": {
          "base_uri": "https://localhost:8080/",
          "height": 729
        },
        "id": "4GN8GToFWdYP",
        "outputId": "d6dfe0ad-5148-4036-ba9a-a242063f6df1"
      },
      "execution_count": 163,
      "outputs": [
        {
          "output_type": "display_data",
          "data": {
            "text/plain": [
              "<Figure size 1008x720 with 3 Axes>"
            ],
            "image/png": "[encoded data removed]"
          },
          "metadata": {
            "needs_background": "light"
          }
        }
      ]
    },
    {
      "cell_type": "markdown",
      "source": [
        "A mesma configuração permanece entre os gráficos da primeira dose e com todas as doses da vacina. \n",
        "\n",
        "Veja que a China informa apenas a quantidade de doses administradas. E que entre esses 10, há a predominância de países asiáticos.\n",
        "\n",
        "Ademais, é importante perceber que entre os países latino-americanos, apenas o Brasil configura-se entre esses 10. E isso está mais relacionado com a quantidade populacional e consequentemente o maior número de doses aplicadas ao longo do tempo.\n",
        "\n",
        "Por fim, o Estados Unidos não aparece nas classificações acima, isso se dá pelos métodos empregados nesse projeto, ou seja, a extração das informações foram feitas a partir da data mais recente deste DataSet, e a OWID ainda não havia atualizado as entradas de vacinações para os EUA no momento do download do arquivo csv, sendo a data mais recente para ele 15/05/2022. Contudo, não será abordado esse ponto de correção, pois entende-se que o objetivo principal de situacionar o Brasil nesta subseção está satisfeito.\n",
        "\n"
      ],
      "metadata": {
        "id": "tDCans_d-pvH"
      }
    },
    {
      "cell_type": "markdown",
      "source": [
        "### Evolução do Número de Total Casos de Covid-19 no Mundo"
      ],
      "metadata": {
        "id": "nqU8yexOPvos"
      }
    },
    {
      "cell_type": "markdown",
      "source": [
        "Será plotado o gráfico de linhas utilizando as entradas correspondes a `OWID_WRL` do DataSet importado inicialmente."
      ],
      "metadata": {
        "id": "37xjR2y3PxRs"
      }
    },
    {
      "cell_type": "code",
      "source": [
        "df_en = df.loc[df.iso_code == 'OWID_WRL']\n",
        "fig, ax  = plt.subplots(figsize = (15, 5))\n",
        "sns.lineplot(data=df_en, x = 'date', y = 'total_cases', ax=ax)\n",
        "ax.set_title(f'Evolução dos Casos de Covid-19 no Mundo até a data de {ld.day}/0{ld.month}/{ld.year}', fontsize =  20)\n",
        "ax.set_ylabel('Número de Casos')\n",
        "ax.set_xlabel('Data')\n",
        "ax.grid(False)\n",
        "plt.tight_layout()\n"
      ],
      "metadata": {
        "colab": {
          "base_uri": "https://localhost:8080/",
          "height": 369
        },
        "id": "xYgzNJUzSiiG",
        "outputId": "665af3da-cfe1-4acd-f07e-5e16d1aa26a5"
      },
      "execution_count": 164,
      "outputs": [
        {
          "output_type": "display_data",
          "data": {
            "text/plain": [
              "<Figure size 1080x360 with 1 Axes>"
            ],
            "image/png": "[encoded data removed]"
          },
          "metadata": {
            "needs_background": "light"
          }
        }
      ]
    },
    {
      "cell_type": "markdown",
      "source": [
        "Aqui conclui está seção, perceba que os atributos que foram usados para obter os resultados dos objetivos acima são todos de dados acumulados ao passar do tempo. Pois foi decidido nessa análise exploratória não trabalhar com os atributos que possuem entradas condicionadas pela situação diária."
      ],
      "metadata": {
        "id": "jM0QCv7vYL9I"
      }
    },
    {
      "cell_type": "markdown",
      "source": [
        "## Panorama do COVID-19 no Brasil\n",
        "\n",
        "Nessa etapa do projeto, será dada a ênfase no Brasil."
      ],
      "metadata": {
        "id": "q9sI1jmO1lFh"
      }
    },
    {
      "cell_type": "markdown",
      "source": [
        "### Objetivos\n",
        "\n",
        "* Quando ocorreu o primeiro caso e a(s) primeira(s) morte(s) de Covid-19 registrado no Brasil?\n",
        "* Evolução dos casos diários de Covid-19\n",
        "* Média Móvel de Óbitos por Covid-19\n",
        "* Média Móvel da Vacinação no Brasil\n"
      ],
      "metadata": {
        "id": "EGhzv5B21u7R"
      }
    },
    {
      "cell_type": "markdown",
      "source": [
        "### Preparação dos Dados\n",
        "\n",
        "Esta etapa visa separar os dados relacionados ao Brasil do DataSet inicialmente importado utilizando-se do `iso_code` BRA."
      ],
      "metadata": {
        "id": "trjQw5Zc4o5G"
      }
    },
    {
      "cell_type": "code",
      "source": [
        "df_bra = df[df.iso_code == 'BRA']"
      ],
      "metadata": {
        "id": "zJRgxEosGs8e"
      },
      "execution_count": 165,
      "outputs": []
    },
    {
      "cell_type": "markdown",
      "source": [
        "As 5 primeiras entradas:"
      ],
      "metadata": {
        "id": "83bGAvBqHsMw"
      }
    },
    {
      "cell_type": "code",
      "source": [
        "df_bra.head()"
      ],
      "metadata": {
        "colab": {
          "base_uri": "https://localhost:8080/",
          "height": 386
        },
        "id": "Go9FTEVcHqk8",
        "outputId": "515265d0-daef-4de3-843b-f25cf435929d"
      },
      "execution_count": 166,
      "outputs": [
        {
          "output_type": "execute_result",
          "data": {
            "text/plain": [
              "      iso_code      continent location       date  total_cases  new_cases  \\\n",
              "23392      BRA  South America   Brazil 2020-02-26          1.0        1.0   \n",
              "23393      BRA  South America   Brazil 2020-02-27          1.0        0.0   \n",
              "23394      BRA  South America   Brazil 2020-02-28          1.0        0.0   \n",
              "23395      BRA  South America   Brazil 2020-02-29          2.0        1.0   \n",
              "23396      BRA  South America   Brazil 2020-03-01          2.0        0.0   \n",
              "\n",
              "       new_cases_smoothed  total_deaths  new_deaths  new_deaths_smoothed  ...  \\\n",
              "23392                 NaN           NaN         NaN                  NaN  ...   \n",
              "23393                 NaN           NaN         NaN                  NaN  ...   \n",
              "23394                 NaN           NaN         NaN                  NaN  ...   \n",
              "23395                 NaN           NaN         NaN                  NaN  ...   \n",
              "23396                 NaN           NaN         NaN                  NaN  ...   \n",
              "\n",
              "       female_smokers  male_smokers  handwashing_facilities  \\\n",
              "23392            10.1          17.9                     NaN   \n",
              "23393            10.1          17.9                     NaN   \n",
              "23394            10.1          17.9                     NaN   \n",
              "23395            10.1          17.9                     NaN   \n",
              "23396            10.1          17.9                     NaN   \n",
              "\n",
              "       hospital_beds_per_thousand  life_expectancy  human_development_index  \\\n",
              "23392                         2.2            75.88                    0.765   \n",
              "23393                         2.2            75.88                    0.765   \n",
              "23394                         2.2            75.88                    0.765   \n",
              "23395                         2.2            75.88                    0.765   \n",
              "23396                         2.2            75.88                    0.765   \n",
              "\n",
              "       excess_mortality_cumulative_absolute  excess_mortality_cumulative  \\\n",
              "23392                                   NaN                          NaN   \n",
              "23393                                   NaN                          NaN   \n",
              "23394                                   NaN                          NaN   \n",
              "23395                                7049.6                         3.31   \n",
              "23396                                   NaN                          NaN   \n",
              "\n",
              "       excess_mortality  excess_mortality_cumulative_per_million  \n",
              "23392               NaN                                      NaN  \n",
              "23393               NaN                                      NaN  \n",
              "23394               NaN                                      NaN  \n",
              "23395              5.25                                32.943066  \n",
              "23396               NaN                                      NaN  \n",
              "\n",
              "[5 rows x 67 columns]"
            ],
            "text/html": [
              "\n",
              "  <div id=\"df-f9ca3b41-d767-4ec2-9aed-6c56a06343b4\">\n",
              "    <div class=\"colab-df-container\">\n",
              "      <div>\n",
              "<style scoped>\n",
              "    .dataframe tbody tr th:only-of-type {\n",
              "        vertical-align: middle;\n",
              "    }\n",
              "\n",
              "    .dataframe tbody tr th {\n",
              "        vertical-align: top;\n",
              "    }\n",
              "\n",
              "    .dataframe thead th {\n",
              "        text-align: right;\n",
              "    }\n",
              "</style>\n",
              "<table border=\"1\" class=\"dataframe\">\n",
              "  <thead>\n",
              "    <tr style=\"text-align: right;\">\n",
              "      <th></th>\n",
              "      <th>iso_code</th>\n",
              "      <th>continent</th>\n",
              "      <th>location</th>\n",
              "      <th>date</th>\n",
              "      <th>total_cases</th>\n",
              "      <th>new_cases</th>\n",
              "      <th>new_cases_smoothed</th>\n",
              "      <th>total_deaths</th>\n",
              "      <th>new_deaths</th>\n",
              "      <th>new_deaths_smoothed</th>\n",
              "      <th>...</th>\n",
              "      <th>female_smokers</th>\n",
              "      <th>male_smokers</th>\n",
              "      <th>handwashing_facilities</th>\n",
              "      <th>hospital_beds_per_thousand</th>\n",
              "      <th>life_expectancy</th>\n",
              "      <th>human_development_index</th>\n",
              "      <th>excess_mortality_cumulative_absolute</th>\n",
              "      <th>excess_mortality_cumulative</th>\n",
              "      <th>excess_mortality</th>\n",
              "      <th>excess_mortality_cumulative_per_million</th>\n",
              "    </tr>\n",
              "  </thead>\n",
              "  <tbody>\n",
              "    <tr>\n",
              "      <th>23392</th>\n",
              "      <td>BRA</td>\n",
              "      <td>South America</td>\n",
              "      <td>Brazil</td>\n",
              "      <td>2020-02-26</td>\n",
              "      <td>1.0</td>\n",
              "      <td>1.0</td>\n",
              "      <td>NaN</td>\n",
              "      <td>NaN</td>\n",
              "      <td>NaN</td>\n",
              "      <td>NaN</td>\n",
              "      <td>...</td>\n",
              "      <td>10.1</td>\n",
              "      <td>17.9</td>\n",
              "      <td>NaN</td>\n",
              "      <td>2.2</td>\n",
              "      <td>75.88</td>\n",
              "      <td>0.765</td>\n",
              "      <td>NaN</td>\n",
              "      <td>NaN</td>\n",
              "      <td>NaN</td>\n",
              "      <td>NaN</td>\n",
              "    </tr>\n",
              "    <tr>\n",
              "      <th>23393</th>\n",
              "      <td>BRA</td>\n",
              "      <td>South America</td>\n",
              "      <td>Brazil</td>\n",
              "      <td>2020-02-27</td>\n",
              "      <td>1.0</td>\n",
              "      <td>0.0</td>\n",
              "      <td>NaN</td>\n",
              "      <td>NaN</td>\n",
              "      <td>NaN</td>\n",
              "      <td>NaN</td>\n",
              "      <td>...</td>\n",
              "      <td>10.1</td>\n",
              "      <td>17.9</td>\n",
              "      <td>NaN</td>\n",
              "      <td>2.2</td>\n",
              "      <td>75.88</td>\n",
              "      <td>0.765</td>\n",
              "      <td>NaN</td>\n",
              "      <td>NaN</td>\n",
              "      <td>NaN</td>\n",
              "      <td>NaN</td>\n",
              "    </tr>\n",
              "    <tr>\n",
              "      <th>23394</th>\n",
              "      <td>BRA</td>\n",
              "      <td>South America</td>\n",
              "      <td>Brazil</td>\n",
              "      <td>2020-02-28</td>\n",
              "      <td>1.0</td>\n",
              "      <td>0.0</td>\n",
              "      <td>NaN</td>\n",
              "      <td>NaN</td>\n",
              "      <td>NaN</td>\n",
              "      <td>NaN</td>\n",
              "      <td>...</td>\n",
              "      <td>10.1</td>\n",
              "      <td>17.9</td>\n",
              "      <td>NaN</td>\n",
              "      <td>2.2</td>\n",
              "      <td>75.88</td>\n",
              "      <td>0.765</td>\n",
              "      <td>NaN</td>\n",
              "      <td>NaN</td>\n",
              "      <td>NaN</td>\n",
              "      <td>NaN</td>\n",
              "    </tr>\n",
              "    <tr>\n",
              "      <th>23395</th>\n",
              "      <td>BRA</td>\n",
              "      <td>South America</td>\n",
              "      <td>Brazil</td>\n",
              "      <td>2020-02-29</td>\n",
              "      <td>2.0</td>\n",
              "      <td>1.0</td>\n",
              "      <td>NaN</td>\n",
              "      <td>NaN</td>\n",
              "      <td>NaN</td>\n",
              "      <td>NaN</td>\n",
              "      <td>...</td>\n",
              "      <td>10.1</td>\n",
              "      <td>17.9</td>\n",
              "      <td>NaN</td>\n",
              "      <td>2.2</td>\n",
              "      <td>75.88</td>\n",
              "      <td>0.765</td>\n",
              "      <td>7049.6</td>\n",
              "      <td>3.31</td>\n",
              "      <td>5.25</td>\n",
              "      <td>32.943066</td>\n",
              "    </tr>\n",
              "    <tr>\n",
              "      <th>23396</th>\n",
              "      <td>BRA</td>\n",
              "      <td>South America</td>\n",
              "      <td>Brazil</td>\n",
              "      <td>2020-03-01</td>\n",
              "      <td>2.0</td>\n",
              "      <td>0.0</td>\n",
              "      <td>NaN</td>\n",
              "      <td>NaN</td>\n",
              "      <td>NaN</td>\n",
              "      <td>NaN</td>\n",
              "      <td>...</td>\n",
              "      <td>10.1</td>\n",
              "      <td>17.9</td>\n",
              "      <td>NaN</td>\n",
              "      <td>2.2</td>\n",
              "      <td>75.88</td>\n",
              "      <td>0.765</td>\n",
              "      <td>NaN</td>\n",
              "      <td>NaN</td>\n",
              "      <td>NaN</td>\n",
              "      <td>NaN</td>\n",
              "    </tr>\n",
              "  </tbody>\n",
              "</table>\n",
              "<p>5 rows × 67 columns</p>\n",
              "</div>\n",
              "      <button class=\"colab-df-convert\" onclick=\"convertToInteractive('df-f9ca3b41-d767-4ec2-9aed-6c56a06343b4')\"\n",
              "              title=\"Convert this dataframe to an interactive table.\"\n",
              "              style=\"display:none;\">\n",
              "        \n",
              "  <svg xmlns=\"http://www.w3.org/2000/svg\" height=\"24px\"viewBox=\"0 0 24 24\"\n",
              "       width=\"24px\">\n",
              "    <path d=\"M0 0h24v24H0V0z\" fill=\"none\"/>\n",
              "    <path d=\"M18.56 5.44l.94 2.06.94-2.06 2.06-.94-2.06-.94-.94-2.06-.94 2.06-2.06.94zm-11 1L8.5 8.5l.94-2.06 2.06-.94-2.06-.94L8.5 2.5l-.94 2.06-2.06.94zm10 10l.94 2.06.94-2.06 2.06-.94-2.06-.94-.94-2.06-.94 2.06-2.06.94z\"/><path d=\"M17.41 7.96l-1.37-1.37c-.4-.4-.92-.59-1.43-.59-.52 0-1.04.2-1.43.59L10.3 9.45l-7.72 7.72c-.78.78-.78 2.05 0 2.83L4 21.41c.39.39.9.59 1.41.59.51 0 1.02-.2 1.41-.59l7.78-7.78 2.81-2.81c.8-.78.8-2.07 0-2.86zM5.41 20L4 18.59l7.72-7.72 1.47 1.35L5.41 20z\"/>\n",
              "  </svg>\n",
              "      </button>\n",
              "      \n",
              "  <style>\n",
              "    .colab-df-container {\n",
              "      display:flex;\n",
              "      flex-wrap:wrap;\n",
              "      gap: 12px;\n",
              "    }\n",
              "\n",
              "    .colab-df-convert {\n",
              "      background-color: #E8F0FE;\n",
              "      border: none;\n",
              "      border-radius: 50%;\n",
              "      cursor: pointer;\n",
              "      display: none;\n",
              "      fill: #1967D2;\n",
              "      height: 32px;\n",
              "      padding: 0 0 0 0;\n",
              "      width: 32px;\n",
              "    }\n",
              "\n",
              "    .colab-df-convert:hover {\n",
              "      background-color: #E2EBFA;\n",
              "      box-shadow: 0px 1px 2px rgba(60, 64, 67, 0.3), 0px 1px 3px 1px rgba(60, 64, 67, 0.15);\n",
              "      fill: #174EA6;\n",
              "    }\n",
              "\n",
              "    [theme=dark] .colab-df-convert {\n",
              "      background-color: #3B4455;\n",
              "      fill: #D2E3FC;\n",
              "    }\n",
              "\n",
              "    [theme=dark] .colab-df-convert:hover {\n",
              "      background-color: #434B5C;\n",
              "      box-shadow: 0px 1px 3px 1px rgba(0, 0, 0, 0.15);\n",
              "      filter: drop-shadow(0px 1px 2px rgba(0, 0, 0, 0.3));\n",
              "      fill: #FFFFFF;\n",
              "    }\n",
              "  </style>\n",
              "\n",
              "      <script>\n",
              "        const buttonEl =\n",
              "          document.querySelector('#df-f9ca3b41-d767-4ec2-9aed-6c56a06343b4 button.colab-df-convert');\n",
              "        buttonEl.style.display =\n",
              "          google.colab.kernel.accessAllowed ? 'block' : 'none';\n",
              "\n",
              "        async function convertToInteractive(key) {\n",
              "          const element = document.querySelector('#df-f9ca3b41-d767-4ec2-9aed-6c56a06343b4');\n",
              "          const dataTable =\n",
              "            await google.colab.kernel.invokeFunction('convertToInteractive',\n",
              "                                                     [key], {});\n",
              "          if (!dataTable) return;\n",
              "\n",
              "          const docLinkHtml = 'Like what you see? Visit the ' +\n",
              "            '<a target=\"_blank\" href=https://colab.research.google.com/notebooks/data_table.ipynb>data table notebook</a>'\n",
              "            + ' to learn more about interactive tables.';\n",
              "          element.innerHTML = '';\n",
              "          dataTable['output_type'] = 'display_data';\n",
              "          await google.colab.output.renderOutput(dataTable, element);\n",
              "          const docLink = document.createElement('div');\n",
              "          docLink.innerHTML = docLinkHtml;\n",
              "          element.appendChild(docLink);\n",
              "        }\n",
              "      </script>\n",
              "    </div>\n",
              "  </div>\n",
              "  "
            ]
          },
          "metadata": {},
          "execution_count": 166
        }
      ]
    },
    {
      "cell_type": "markdown",
      "source": [
        "Dimensões do DataFrame `df_bra`:"
      ],
      "metadata": {
        "id": "8NjqLYjxIKKZ"
      }
    },
    {
      "cell_type": "code",
      "source": [
        "print(f'Quantidade de entradas: {df_bra.shape[0]} ')\n",
        "print(f'Quantidade de colunas: {df_bra.shape[1]}')"
      ],
      "metadata": {
        "colab": {
          "base_uri": "https://localhost:8080/"
        },
        "id": "Sz7qNoMfIV5B",
        "outputId": "7dead24b-1c2a-4861-92f7-cbee3e75ac4e"
      },
      "execution_count": 167,
      "outputs": [
        {
          "output_type": "stream",
          "name": "stdout",
          "text": [
            "Quantidade de entradas: 811 \n",
            "Quantidade de colunas: 67\n"
          ]
        }
      ]
    },
    {
      "cell_type": "markdown",
      "source": [
        "Percentual de valores ausentes:"
      ],
      "metadata": {
        "id": "P_gW-GE8H-sr"
      }
    },
    {
      "cell_type": "code",
      "source": [
        "with pd.option_context('display.max_rows', None, 'display.max_columns', None):\n",
        "  print(((df_bra.isnull().sum() / df_bra.shape[0]) * 100).sort_values(ascending = False))"
      ],
      "metadata": {
        "colab": {
          "base_uri": "https://localhost:8080/"
        },
        "id": "TATT_u6qH-EO",
        "outputId": "a2878531-44bb-4306-9368-4e6d2fc81048"
      },
      "execution_count": 168,
      "outputs": [
        {
          "output_type": "stream",
          "name": "stdout",
          "text": [
            "icu_patients                                  100.000000\n",
            "icu_patients_per_million                      100.000000\n",
            "tests_per_case                                100.000000\n",
            "positive_rate                                 100.000000\n",
            "weekly_hosp_admissions_per_million            100.000000\n",
            "handwashing_facilities                        100.000000\n",
            "weekly_hosp_admissions                        100.000000\n",
            "weekly_icu_admissions_per_million             100.000000\n",
            "weekly_icu_admissions                         100.000000\n",
            "hosp_patients_per_million                     100.000000\n",
            "hosp_patients                                 100.000000\n",
            "excess_mortality_cumulative_per_million        96.794081\n",
            "excess_mortality                               96.794081\n",
            "excess_mortality_cumulative                    96.794081\n",
            "excess_mortality_cumulative_absolute           96.794081\n",
            "total_boosters                                 69.913687\n",
            "total_boosters_per_hundred                     69.913687\n",
            "new_tests                                      67.324291\n",
            "new_tests_per_thousand                         67.324291\n",
            "total_tests_per_thousand                       55.487053\n",
            "total_tests                                    55.487053\n",
            "people_fully_vaccinated                        44.266338\n",
            "people_fully_vaccinated_per_hundred            44.266338\n",
            "new_vaccinations                               42.786683\n",
            "people_vaccinated                              42.293465\n",
            "people_vaccinated_per_hundred                  42.293465\n",
            "total_vaccinations_per_hundred                 41.800247\n",
            "total_vaccinations                             41.800247\n",
            "new_vaccinations_smoothed                      40.320592\n",
            "new_people_vaccinated_smoothed                 40.320592\n",
            "new_vaccinations_smoothed_per_million          40.320592\n",
            "new_people_vaccinated_smoothed_per_hundred     40.320592\n",
            "new_tests_smoothed                             16.399507\n",
            "new_tests_smoothed_per_thousand                16.399507\n",
            "tests_units                                    15.536375\n",
            "stringency_index                                4.315660\n",
            "reproduction_rate                               3.205919\n",
            "new_deaths_smoothed_per_million                 3.082614\n",
            "new_deaths_smoothed                             3.082614\n",
            "total_deaths                                    2.466091\n",
            "new_deaths_per_million                          2.466091\n",
            "total_deaths_per_million                        2.466091\n",
            "new_deaths                                      2.466091\n",
            "new_cases_smoothed_per_million                  0.863132\n",
            "new_cases_smoothed                              0.863132\n",
            "new_cases_per_million                           0.246609\n",
            "new_cases                                       0.246609\n",
            "human_development_index                         0.000000\n",
            "hospital_beds_per_thousand                      0.000000\n",
            "life_expectancy                                 0.000000\n",
            "continent                                       0.000000\n",
            "total_cases                                     0.000000\n",
            "date                                            0.000000\n",
            "female_smokers                                  0.000000\n",
            "location                                        0.000000\n",
            "male_smokers                                    0.000000\n",
            "aged_65_older                                   0.000000\n",
            "diabetes_prevalence                             0.000000\n",
            "cardiovasc_death_rate                           0.000000\n",
            "extreme_poverty                                 0.000000\n",
            "gdp_per_capita                                  0.000000\n",
            "aged_70_older                                   0.000000\n",
            "median_age                                      0.000000\n",
            "population_density                              0.000000\n",
            "population                                      0.000000\n",
            "total_cases_per_million                         0.000000\n",
            "iso_code                                        0.000000\n",
            "dtype: float64\n"
          ]
        }
      ]
    },
    {
      "cell_type": "markdown",
      "source": [
        "Há colunas que estão completamente vazias. Isso corrobora a idéia que a maior parte desses \"dados vazios\" ocorrem por causa da diferença de coleta de informações pelos países, ou seja, a OWID dispõe esses atributos em seu banco de dados, contudo os países não coletam esses tipos de informações. Além, é claro, de serem de períodos iniciais da pandemia. E como esse DataSet é um compilado de dados do mundo todo é de se esperar essa situação."
      ],
      "metadata": {
        "id": "YLU_XRk7Jpbw"
      }
    },
    {
      "cell_type": "markdown",
      "source": [
        "### Quando ocorreu o primeiro caso e a(s) primeira(s) morte(s) de Covid-19 registrado no Brasil?\n",
        "\n"
      ],
      "metadata": {
        "id": "dwqAN46SOf24"
      }
    },
    {
      "cell_type": "code",
      "source": [
        "res = df_bra[df_bra.total_cases == df_bra.total_cases.min()]\n",
        "x = res.date.max()\n",
        "det = df_bra[df_bra.total_deaths == df_bra.total_deaths.min()]\n",
        "y = det.date.max()\n",
        "print(f\"O primeiro caso de covid-19 registrado foi na data: {x.day}/0{x.month}/{x.year}\")\n",
        "print(f'A primeira morte causada pelo o coronavírus foi em: {y.day}/0{y.month}/{y.year}')"
      ],
      "metadata": {
        "colab": {
          "base_uri": "https://localhost:8080/"
        },
        "id": "evbfFl8hWOYh",
        "outputId": "73c9813d-906e-4bcf-8866-17143edb7bf5"
      },
      "execution_count": 169,
      "outputs": [
        {
          "output_type": "stream",
          "name": "stdout",
          "text": [
            "O primeiro caso de covid-19 registrado foi na data: 28/02/2020\n",
            "A primeira morte causada pelo o coronavírus foi em: 17/03/2020\n"
          ]
        }
      ]
    },
    {
      "cell_type": "markdown",
      "source": [
        "### Evolução dos casos diários de Covid-19"
      ],
      "metadata": {
        "id": "37Cg2AaT4sG6"
      }
    },
    {
      "cell_type": "code",
      "source": [
        "# Plotar Gráfico de Linhas\n",
        "fig, ax = plt.subplots(figsize = (15, 5))\n",
        "sns.lineplot(data=df_bra, x = 'date', y='new_cases_smoothed', ax=ax, linewidth = '2.5', color = '#2a07dd')\n",
        "ax.set_title(f'Evolução dos Casos Diários de Covid-19 no Brasil', fontsize =  20)\n",
        "ax.set_ylabel('Número de Casos', size = 18)\n",
        "ax.set_xlabel('Data', size = 18)\n",
        "ax.grid(False)\n",
        "plt.tight_layout();"
      ],
      "metadata": {
        "colab": {
          "base_uri": "https://localhost:8080/",
          "height": 369
        },
        "id": "ptjIi0zdM5kH",
        "outputId": "a6c0b0d2-b70b-45b5-ab21-c0fea4a8af9d"
      },
      "execution_count": 170,
      "outputs": [
        {
          "output_type": "display_data",
          "data": {
            "text/plain": [
              "<Figure size 1080x360 with 1 Axes>"
            ],
            "image/png": "[encoded data removed]"
          },
          "metadata": {
            "needs_background": "light"
          }
        }
      ]
    },
    {
      "cell_type": "markdown",
      "source": [
        "Pelo o que se percebe no gráfico, houve um pico de novos casos entre janeiro e março de 2022, seguido de uma queda brusca em novo casos nos períodos seguintes."
      ],
      "metadata": {
        "id": "gZRxx1X8TvqA"
      }
    },
    {
      "cell_type": "markdown",
      "source": [
        "#### Quando ocorreu o maior número de novos casos?"
      ],
      "metadata": {
        "id": "M1eGyv9GOHfT"
      }
    },
    {
      "cell_type": "code",
      "source": [
        "res = df_bra[df_bra.new_cases == df_bra.new_cases.max()]\n",
        "x = res.date.max()\n",
        "y = res.new_cases.max()\n",
        "print(f\"O dia que houve mais registros de novos casos foi na data de {x.day}/0{x.month}/{x.year}.\")\n",
        "print(f'A quantidade registrada foi de: {int(y)} novos casos.')\n"
      ],
      "metadata": {
        "colab": {
          "base_uri": "https://localhost:8080/"
        },
        "id": "_s-fma5ROSaj",
        "outputId": "547107b7-8242-4a92-96a1-94bd65b0891a"
      },
      "execution_count": 171,
      "outputs": [
        {
          "output_type": "stream",
          "name": "stdout",
          "text": [
            "O dia que houve mais registros de novos casos foi na data de 3/02/2022.\n",
            "A quantidade registrada foi de: 287149 novos casos.\n"
          ]
        }
      ]
    },
    {
      "cell_type": "markdown",
      "source": [
        "### Média Móvel de Óbitos por Covid-19"
      ],
      "metadata": {
        "id": "CGS-dNk47Ser"
      }
    },
    {
      "cell_type": "code",
      "source": [
        "# Plotar Gráfico de Linhas\n",
        "fig, ax = plt.subplots(figsize = (15, 5))\n",
        "sns.lineplot(data=df_bra, x = 'date', y='new_deaths_smoothed',\n",
        "             ax=ax, linewidth = '2.5', color = 'r')\n",
        "ax.set_title(f'Média Móvel de Óbitos no Brasil por causa do Covid-19 até a data {ld.day}/0{ld.month}/{ld.year}',\n",
        "             fontsize =  20)\n",
        "ax.set_ylabel('Mortes', size = 14)\n",
        "ax.set_xlabel('Data', size = 14)\n",
        "ax.grid(False)\n",
        "plt.tight_layout();"
      ],
      "metadata": {
        "colab": {
          "base_uri": "https://localhost:8080/",
          "height": 369
        },
        "id": "gZoWw6lpdCgZ",
        "outputId": "cfbfdac9-f73f-4582-bde5-712a50a79802"
      },
      "execution_count": 175,
      "outputs": [
        {
          "output_type": "display_data",
          "data": {
            "text/plain": [
              "<Figure size 1080x360 with 1 Axes>"
            ],
            "image/png": "[encoded data removed]"
          },
          "metadata": {
            "needs_background": "light"
          }
        }
      ]
    },
    {
      "cell_type": "markdown",
      "source": [
        "O pico de mortes causadas pelo o covid aconteceu por volta do período de março à maio de 2021."
      ],
      "metadata": {
        "id": "C4H1WPp1eop1"
      }
    },
    {
      "cell_type": "markdown",
      "source": [
        "### Média Móvel da Vacinação no Brasil"
      ],
      "metadata": {
        "id": "Pj9j4rqm7U2F"
      }
    },
    {
      "cell_type": "code",
      "source": [
        "# Plotar Gráfico\n",
        "fig, ax = plt.subplots(figsize = (15, 5))\n",
        "sns.lineplot(data=df_bra, x = 'date', y='new_vaccinations_smoothed',\n",
        "             ax=ax, linewidth = '2.5', color = '#00BFFF')\n",
        "ax.set_title(f'Média Móvel da Vacinação no Brasil até a data {ld.day}/0{ld.month}/{ld.year}',\n",
        "             fontsize =  20)\n",
        "ax.set_ylabel('Vacinas Administradas', size = 14)\n",
        "ax.set_xlabel('Data', size = 14)\n",
        "ax.grid(False)\n",
        "plt.tight_layout();"
      ],
      "metadata": {
        "colab": {
          "base_uri": "https://localhost:8080/",
          "height": 369
        },
        "id": "JN_PsJcbfdMS",
        "outputId": "1f9d4a27-5a58-4477-d4b2-59f27e6dc5e4"
      },
      "execution_count": 173,
      "outputs": [
        {
          "output_type": "display_data",
          "data": {
            "text/plain": [
              "<Figure size 1080x360 with 1 Axes>"
            ],
            "image/png": "[encoded data removed]"
          },
          "metadata": {
            "needs_background": "light"
          }
        }
      ]
    },
    {
      "cell_type": "markdown",
      "source": [
        "## Conclusões\n",
        "\n",
        "Os resultados aqui obtidos podem ficar desatualizados devido a constante inserção de novas informações desse conjunto de dados, mas considerando até a data 16/05/2022 as conclusões são as seguintes:\n",
        "\n",
        "* Este DataSet apresenta muitas entradas ausentes, devido em parte a forma como cada país registra as informações bem como atributos que podem ser conhecidos a partir de um período de tempo;\n",
        "* Em relação ao DataSet com os dados somente do Brasil, verifica-se a completa ausência de dados nas seguintes variáveis: `icu_patients`,\n",
        "`icu_patients_per_million`, `tests_per_case` ,`positive_rate`, `weekly_hosp_admissions_per_million`, `handwashing_facilities`, `weekly_hosp_admissions`, `weekly_icu_admissions_per_million`, `weekly_icu_admissions`,`hosp_patients_per_million`, `hosp_patients`;\n",
        "* O Brasil é o **segundo colocado em mortes** por covid-19 no mundo, com um total de 665.216 pessoas falecidas ;\n",
        "* Também está em **terceiro lugar em casos confirmados** de covid-19 no mundo, sendo o total de 30.701.900 de casos positivos;\n",
        "* Em questão de **vacinação**, o Brasil encontra-se entre os 10 países com mais doses administradas, porém havendo mais pessoas com pelo menos uma dose do que com todas as doses preescritas pelo protocolo de vacinação;\n",
        "* O dia que houve mais óbitos foi em 3 de fevereiro de 2022 com um número total de 287.149 pessoas falecidas.\n",
        "\n",
        "Enfim, entende-se que o objetivo dessa análise exploratória que é elevar a consciência situacional a respeito do covid-19 no Brasil está satisfeito. E também recomenda-se trabalhos posteriores, principalmente, para a compreensão de como as variáveis se correlacionam."
      ],
      "metadata": {
        "id": "uDs13SaGi2Vb"
      }
    }
  ]
}
